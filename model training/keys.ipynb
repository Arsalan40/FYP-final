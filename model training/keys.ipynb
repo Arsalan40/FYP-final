{
 "cells": [
  {
   "cell_type": "code",
   "execution_count": null,
   "id": "8eb9d69d",
   "metadata": {},
   "outputs": [],
   "source": [
    "consumer_key = \"uHgI5bfa8eMprHCLe8zPFNW8n\"\n",
    "consumer_secret = \"cEQ1rGlfTGwJq2Vs20BqnIwX7mB9XAyVM7ntPlWZCUfdD9QWmf\"\n",
    "access_token = \"1260512608618250240-uWLI7s1ousw2P0y6E8wuHPkXPhw98i\"\n",
    "access_token_secret = \"IBhBwdh9RJbSdkKxfHx5M83yCZqj4YQ91Xa2I6VevYTUV\""
   ]
  }
 ],
 "metadata": {
  "kernelspec": {
   "display_name": "Python 3 (ipykernel)",
   "language": "python",
   "name": "python3"
  },
  "language_info": {
   "codemirror_mode": {
    "name": "ipython",
    "version": 3
   },
   "file_extension": ".py",
   "mimetype": "text/x-python",
   "name": "python",
   "nbconvert_exporter": "python",
   "pygments_lexer": "ipython3",
   "version": "3.10.3"
  }
 },
 "nbformat": 4,
 "nbformat_minor": 5
}
