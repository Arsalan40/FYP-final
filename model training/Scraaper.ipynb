{
 "cells": [
  {
   "cell_type": "code",
   "execution_count": 1,
   "id": "9a85bfbf",
   "metadata": {},
   "outputs": [],
   "source": [
    "import tweepy\n",
    "import configparser\n",
    "import pandas as pd\n",
    "import nltk.corpus\n",
    "import re\n",
    "import string"
   ]
  },
  {
   "cell_type": "code",
   "execution_count": 2,
   "id": "b67299f8",
   "metadata": {},
   "outputs": [],
   "source": [
    "%run ./keys.ipynb"
   ]
  },
  {
   "cell_type": "code",
   "execution_count": 3,
   "id": "ccb4922a",
   "metadata": {},
   "outputs": [],
   "source": [
    "auth = tweepy.OAuthHandler(consumer_key,consumer_secret)\n",
    "auth.set_access_token(access_token,access_token_secret)\n",
    "api = tweepy.API(auth)"
   ]
  },
  {
   "cell_type": "code",
   "execution_count": 4,
   "id": "58475393",
   "metadata": {},
   "outputs": [],
   "source": [
    "keywords = '#BajwaHasToGo'\n",
    "limit=300"
   ]
  },
  {
   "cell_type": "code",
   "execution_count": 5,
   "id": "69ff112a",
   "metadata": {},
   "outputs": [],
   "source": [
    "tweets = tweepy.Cursor(api.search_tweets, q=keywords, count=100, tweet_mode='extended').items(limit)"
   ]
  },
  {
   "cell_type": "code",
   "execution_count": 6,
   "id": "77f3417c",
   "metadata": {},
   "outputs": [],
   "source": [
    "columns = ['User', 'tweet']\n",
    "data = []\n",
    "\n",
    "for tweet in tweets:\n",
    "    data.append([tweet.user.screen_name, tweet.full_text])"
   ]
  },
  {
   "cell_type": "code",
   "execution_count": 7,
   "id": "087647a7",
   "metadata": {},
   "outputs": [],
   "source": [
    "df = pd.DataFrame(data, columns=columns)"
   ]
  },
  {
   "cell_type": "code",
   "execution_count": 8,
   "id": "db70c8c8",
   "metadata": {},
   "outputs": [
    {
     "data": {
      "text/plain": [
       "0                  #BajwaHasToGo https://t.co/vbs4OlqVji\n",
       "1      @OfficialDGISPR These 3 are disgrace to whole ...\n",
       "2      RT @Mubi_PTI: نومبر میں ریٹائر ہونے والے جنرل ...\n",
       "3                  #BajwaHasToGo https://t.co/RtXhEl5GhB\n",
       "4      RT @Abdulla03666079: Petrol price today😅\\n#امپ...\n",
       "                             ...                        \n",
       "295    RT @zshan8432: جن کی اوقات ان ریٹائرڈ افسران ک...\n",
       "296    RT @ThatVeryTalha: The whole world is protesti...\n",
       "297    RT @ShakeeDhillon: #BajwaHasToGo\\nNew meer jaf...\n",
       "298    RT @Butt9876: Generals and mullahs are the men...\n",
       "299    RT @Muhamma69576802: #BajwaHasToGo\\n\\nIt's tim...\n",
       "Name: tweet, Length: 300, dtype: object"
      ]
     },
     "execution_count": 8,
     "metadata": {},
     "output_type": "execute_result"
    }
   ],
   "source": [
    "df['tweet'].apply(lambda x:x.strip())\n"
   ]
  },
  {
   "cell_type": "code",
   "execution_count": 9,
   "id": "e03c8664",
   "metadata": {},
   "outputs": [],
   "source": [
    "import re\n",
    "from nltk.corpus import stopwords\n",
    "x = tweet\n",
    "def cleanText(x):\n",
    "    import re\n",
    "    from nltk.corpus import stopwords\n",
    "    x=x.encode('ascii','ignore').decode()\n",
    "    x=re.sub(r'https*\\S+','',x) # remove urls\n",
    "    x=re.sub(r'@\\S+','',x) #remove mentions\n",
    "    x=re.sub(r'#\\S+','',x) # remove hashtags\n",
    "    x=re.sub(r'\\'w+','',x) \n",
    "    x=[i for i in x if i not in string.punctuation] # remove punctuations\n",
    "    x=''.join(x)\n",
    "    return ''.join(x)"
   ]
  },
  {
   "cell_type": "code",
   "execution_count": 10,
   "id": "99e9687a",
   "metadata": {},
   "outputs": [],
   "source": [
    "df['tweet']=df['tweet'].apply(cleanText)\n"
   ]
  },
  {
   "cell_type": "code",
   "execution_count": 11,
   "id": "5342be00",
   "metadata": {},
   "outputs": [
    {
     "data": {
      "text/html": [
       "<div>\n",
       "<style scoped>\n",
       "    .dataframe tbody tr th:only-of-type {\n",
       "        vertical-align: middle;\n",
       "    }\n",
       "\n",
       "    .dataframe tbody tr th {\n",
       "        vertical-align: top;\n",
       "    }\n",
       "\n",
       "    .dataframe thead th {\n",
       "        text-align: right;\n",
       "    }\n",
       "</style>\n",
       "<table border=\"1\" class=\"dataframe\">\n",
       "  <thead>\n",
       "    <tr style=\"text-align: right;\">\n",
       "      <th></th>\n",
       "      <th>User</th>\n",
       "      <th>tweet</th>\n",
       "    </tr>\n",
       "  </thead>\n",
       "  <tbody>\n",
       "    <tr>\n",
       "      <th>0</th>\n",
       "      <td>Umer_Chattha1</td>\n",
       "      <td></td>\n",
       "    </tr>\n",
       "    <tr>\n",
       "      <th>1</th>\n",
       "      <td>i_hifzakhan</td>\n",
       "      <td>These 3 are disgrace to whole institute \\nNat...</td>\n",
       "    </tr>\n",
       "    <tr>\n",
       "      <th>2</th>\n",
       "      <td>Mubi_PTI</td>\n",
       "      <td>RT                     \\n</td>\n",
       "    </tr>\n",
       "    <tr>\n",
       "      <th>3</th>\n",
       "      <td>onlypakistan47</td>\n",
       "      <td></td>\n",
       "    </tr>\n",
       "    <tr>\n",
       "      <th>4</th>\n",
       "      <td>Muhamma67549505</td>\n",
       "      <td>RT  Petrol price today\\n\\n\\n</td>\n",
       "    </tr>\n",
       "    <tr>\n",
       "      <th>...</th>\n",
       "      <td>...</td>\n",
       "      <td>...</td>\n",
       "    </tr>\n",
       "    <tr>\n",
       "      <th>295</th>\n",
       "      <td>tariqbutt2044</td>\n",
       "      <td>RT                          2  \\n\\n</td>\n",
       "    </tr>\n",
       "    <tr>\n",
       "      <th>296</th>\n",
       "      <td>sanimalik6612</td>\n",
       "      <td>RT  The whole world is protesting against blas...</td>\n",
       "    </tr>\n",
       "    <tr>\n",
       "      <th>297</th>\n",
       "      <td>SKAranting</td>\n",
       "      <td>RT  \\nNew meer jafir</td>\n",
       "    </tr>\n",
       "    <tr>\n",
       "      <th>298</th>\n",
       "      <td>AsmaaliG</td>\n",
       "      <td>RT  Generals and mullahs are the menace of Pak...</td>\n",
       "    </tr>\n",
       "    <tr>\n",
       "      <th>299</th>\n",
       "      <td>Power_of_belief</td>\n",
       "      <td>RT  \\n\\nIts time for bajwa to resign</td>\n",
       "    </tr>\n",
       "  </tbody>\n",
       "</table>\n",
       "<p>300 rows × 2 columns</p>\n",
       "</div>"
      ],
      "text/plain": [
       "                User                                              tweet\n",
       "0      Umer_Chattha1                                                   \n",
       "1        i_hifzakhan   These 3 are disgrace to whole institute \\nNat...\n",
       "2           Mubi_PTI                          RT                     \\n\n",
       "3     onlypakistan47                                                   \n",
       "4    Muhamma67549505                      RT  Petrol price today\\n\\n\\n \n",
       "..               ...                                                ...\n",
       "295    tariqbutt2044                RT                          2  \\n\\n\n",
       "296    sanimalik6612  RT  The whole world is protesting against blas...\n",
       "297       SKAranting                              RT  \\nNew meer jafir \n",
       "298         AsmaaliG  RT  Generals and mullahs are the menace of Pak...\n",
       "299  Power_of_belief              RT  \\n\\nIts time for bajwa to resign \n",
       "\n",
       "[300 rows x 2 columns]"
      ]
     },
     "execution_count": 11,
     "metadata": {},
     "output_type": "execute_result"
    }
   ],
   "source": [
    "df\n"
   ]
  },
  {
   "cell_type": "code",
   "execution_count": 12,
   "id": "41d8716d",
   "metadata": {},
   "outputs": [],
   "source": [
    "df.to_csv(\"FYP.csv\")"
   ]
  },
  {
   "cell_type": "code",
   "execution_count": null,
   "id": "9b70e912",
   "metadata": {},
   "outputs": [],
   "source": []
  }
 ],
 "metadata": {
  "kernelspec": {
   "display_name": "Python 3 (ipykernel)",
   "language": "python",
   "name": "python3"
  },
  "language_info": {
   "codemirror_mode": {
    "name": "ipython",
    "version": 3
   },
   "file_extension": ".py",
   "mimetype": "text/x-python",
   "name": "python",
   "nbconvert_exporter": "python",
   "pygments_lexer": "ipython3",
   "version": "3.10.3"
  }
 },
 "nbformat": 4,
 "nbformat_minor": 5
}
