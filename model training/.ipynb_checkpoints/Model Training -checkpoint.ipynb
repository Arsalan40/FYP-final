{
 "cells": [
  {
   "cell_type": "code",
   "execution_count": 42,
   "metadata": {},
   "outputs": [],
   "source": [
    "# Importing required Python Libraries \n",
    "\n",
    "import pandas as pd\n",
    "import seaborn as sns\n",
    "import csv\n",
    "import re\n",
    "import string\n",
    "from sklearn.metrics import accuracy_score , classification_report\n",
    "from sklearn.linear_model import LogisticRegression\n",
    "from sklearn.ensemble import RandomForestClassifier\n",
    "from sklearn.neighbors import KNeighborsClassifier\n",
    "from sklearn.pipeline import Pipeline\n",
    "from sklearn.feature_extraction.text import TfidfTransformer , CountVectorizer\n",
    "import pickle\n",
    "import matplotlib.pyplot as plt \n",
    "from sklearn.metrics import confusion_matrix,ConfusionMatrixDisplay\n",
    "from sklearn.svm import SVC"
   ]
  },
  {
   "cell_type": "markdown",
   "metadata": {},
   "source": [
    "# Reading Training Data"
   ]
  },
  {
   "cell_type": "code",
   "execution_count": 43,
   "metadata": {},
   "outputs": [],
   "source": [
    "data=pd.read_csv('train data.csv') "
   ]
  },
  {
   "cell_type": "code",
   "execution_count": 44,
   "metadata": {},
   "outputs": [
    {
     "name": "stdout",
     "output_type": "stream",
     "text": [
      "Training Dataset Structure\n",
      "                                                   tweet  length  label\n",
      "0     Pakistani Terrorist Intelligence ISI and MI re...   245.0    1.0\n",
      "1     Pakistani Terrorist Intelligence ISI and MI re...   245.0    1.0\n",
      "2     Pakistani Terrorist Intelligence ISI and MI re...   264.0    1.0\n",
      "3     Pakistani Terrorist Intelligence ISI and MI re...   239.0    1.0\n",
      "4     Pakistani Terrorist Intelligence ISI and MI re...   242.0    1.0\n",
      "...                                                 ...     ...    ...\n",
      "1635   In sha Allah wo difah i Pakistan k liayay hom...    70.0    0.0\n",
      "1636   Imran khan ne sabit kar deya hsi k wo allam a...   169.0    0.0\n",
      "1637                                              Ameen     6.0    0.0\n",
      "1638  You are face of GilgitBaltistan  You are pride...    59.0    0.0\n",
      "1639   Aap b kin ko keh rahay hein ye opn jang ha au...   173.0    0.0\n",
      "\n",
      "[1640 rows x 3 columns]\n"
     ]
    }
   ],
   "source": [
    "print('Training Dataset Structure\\n',data)"
   ]
  },
  {
   "cell_type": "markdown",
   "metadata": {},
   "source": [
    "# Dataset Information "
   ]
  },
  {
   "cell_type": "code",
   "execution_count": 45,
   "metadata": {},
   "outputs": [
    {
     "name": "stdout",
     "output_type": "stream",
     "text": [
      "<class 'pandas.core.frame.DataFrame'>\n",
      "RangeIndex: 1640 entries, 0 to 1639\n",
      "Data columns (total 3 columns):\n",
      " #   Column  Non-Null Count  Dtype  \n",
      "---  ------  --------------  -----  \n",
      " 0   tweet   1639 non-null   object \n",
      " 1   length  1633 non-null   float64\n",
      " 2   label   1617 non-null   float64\n",
      "dtypes: float64(2), object(1)\n",
      "memory usage: 38.6+ KB\n",
      "Information about Training Dataset None\n"
     ]
    }
   ],
   "source": [
    "print('Information about Training Dataset',data.info())"
   ]
  },
  {
   "cell_type": "markdown",
   "metadata": {},
   "source": [
    "# Checking for Missing Values in Dataset and Dropping Missing Value"
   ]
  },
  {
   "cell_type": "code",
   "execution_count": 46,
   "metadata": {},
   "outputs": [
    {
     "name": "stdout",
     "output_type": "stream",
     "text": [
      "Information about missing value in dataset tweet  length  label\n",
      "False  False   False    1615\n",
      "               True       18\n",
      "       True    True        4\n",
      "               False       2\n",
      "True   True    True        1\n",
      "dtype: int64\n",
      "Checking if all missed value are drop tweet  length  label\n",
      "False  False   False    1615\n",
      "dtype: int64\n"
     ]
    }
   ],
   "source": [
    "print('Information about missing value in dataset',data.isna().value_counts())\n",
    "data=data.dropna()   \n",
    "print('Checking if all missed value are drop',data.isna().value_counts())\n"
   ]
  },
  {
   "cell_type": "markdown",
   "metadata": {},
   "source": [
    "# Counting Number of Anti-state(1) and Non-Anti-state(0) Label in Dataset"
   ]
  },
  {
   "cell_type": "code",
   "execution_count": 47,
   "metadata": {},
   "outputs": [
    {
     "name": "stdout",
     "output_type": "stream",
     "text": [
      " Number of Tweet for specific labels in dataset 0.0    990\n",
      "1.0    625\n",
      "Name: label, dtype: int64\n"
     ]
    },
    {
     "data": {
      "text/plain": [
       "<AxesSubplot:xlabel='label', ylabel='count'>"
      ]
     },
     "execution_count": 47,
     "metadata": {},
     "output_type": "execute_result"
    },
    {
     "data": {
      "image/png": "[encoded data removed]",
      "text/plain": [
       "<Figure size 432x288 with 1 Axes>"
      ]
     },
     "metadata": {
      "needs_background": "light"
     },
     "output_type": "display_data"
    }
   ],
   "source": [
    "\n",
    "print(\" Number of Tweet for specific labels in dataset\",data['label'].value_counts())\n",
    "# 0 label for Non-Anti state and 1 for Anti-state\n",
    "sns.countplot(x=\"label\",hue =\"label\",data=data)"
   ]
  },
  {
   "cell_type": "markdown",
   "metadata": {},
   "source": [
    "# Removing Duplicate Rows from Dataset"
   ]
  },
  {
   "cell_type": "code",
   "execution_count": 48,
   "metadata": {},
   "outputs": [
    {
     "name": "stdout",
     "output_type": "stream",
     "text": [
      "Total Tweets in Dataset that are not duplicate: 1326\n",
      "Total Tweets in Dataset that are duplicate: 289\n"
     ]
    }
   ],
   "source": [
    "print('Total Tweets in Dataset that are not duplicate:',(~data.duplicated()).sum())\n",
    "print('Total Tweets in Dataset that are duplicate:',(data.duplicated()).sum())\n"
   ]
  },
  {
   "cell_type": "code",
   "execution_count": 49,
   "metadata": {},
   "outputs": [],
   "source": [
    "data=data.drop_duplicates()"
   ]
  },
  {
   "cell_type": "code",
   "execution_count": 50,
   "metadata": {},
   "outputs": [
    {
     "name": "stdout",
     "output_type": "stream",
     "text": [
      "Total Tweets in Dataset that are not duplicate after dropping: 1326\n",
      "Total Tweets in Dataset that are duplicate after dropping: 0\n"
     ]
    }
   ],
   "source": [
    "print('Total Tweets in Dataset that are not duplicate after dropping:',(~data.duplicated()).sum())\n",
    "print('Total Tweets in Dataset that are duplicate after dropping:',(data.duplicated()).sum())\n"
   ]
  },
  {
   "cell_type": "markdown",
   "metadata": {},
   "source": [
    "# Removing Spaces from beginning of Tweets"
   ]
  },
  {
   "cell_type": "code",
   "execution_count": 51,
   "metadata": {},
   "outputs": [
    {
     "data": {
      "text/plain": [
       "0       Pakistani Terrorist Intelligence ISI and MI re...\n",
       "1       Pakistani Terrorist Intelligence ISI and MI re...\n",
       "2       Pakistani Terrorist Intelligence ISI and MI re...\n",
       "3       Pakistani Terrorist Intelligence ISI and MI re...\n",
       "4       Pakistani Terrorist Intelligence ISI and MI re...\n",
       "                              ...                        \n",
       "1635    In sha Allah wo difah i Pakistan k liayay home...\n",
       "1636    Imran khan ne sabit kar deya hsi k wo allam a ...\n",
       "1637                                                Ameen\n",
       "1638    You are face of GilgitBaltistan  You are pride...\n",
       "1639    Aap b kin ko keh rahay hein ye opn jang ha aur...\n",
       "Name: tweet, Length: 1326, dtype: object"
      ]
     },
     "execution_count": 51,
     "metadata": {},
     "output_type": "execute_result"
    }
   ],
   "source": [
    "data['tweet'].apply(lambda x:x.strip())"
   ]
  },
  {
   "cell_type": "markdown",
   "metadata": {},
   "source": [
    "# Removing Numbers and Punctuations if any from dataset "
   ]
  },
  {
   "cell_type": "code",
   "execution_count": 52,
   "metadata": {},
   "outputs": [
    {
     "data": {
      "text/plain": [
       "'!\"#$%&\\'()*+,-./:;<=>?@[\\\\]^_`{|}~'"
      ]
     },
     "execution_count": 52,
     "metadata": {},
     "output_type": "execute_result"
    }
   ],
   "source": [
    " string.punctuation"
   ]
  },
  {
   "cell_type": "code",
   "execution_count": 53,
   "metadata": {},
   "outputs": [],
   "source": [
    "def removeDigits(tweet):\n",
    "    tweet=tweet.strip()\n",
    "    tweet=[t for t in tweet if t not in string.digits]\n",
    "    tweet=''.join(tweet)\n",
    "    tweet=[t for t in tweet if t not in string.punctuation]\n",
    "    return ''.join(tweet)\n",
    "\n",
    "data['tweet']=data['tweet'].apply(removeDigits)"
   ]
  },
  {
   "cell_type": "markdown",
   "metadata": {},
   "source": [
    "# Dividing Training dataset into Tweet and Label"
   ]
  },
  {
   "cell_type": "code",
   "execution_count": 54,
   "metadata": {},
   "outputs": [],
   "source": [
    "X=data['tweet']\n",
    "trainY=data['label']\n"
   ]
  },
  {
   "cell_type": "markdown",
   "metadata": {},
   "source": [
    "# Extracting Features from dataset as CountVectors "
   ]
  },
  {
   "cell_type": "code",
   "execution_count": 60,
   "metadata": {},
   "outputs": [
    {
     "name": "stdout",
     "output_type": "stream",
     "text": [
      "Features Corpus and Its occurrance\n",
      "{'pakistani': 4548, 'terrorist': 6114, 'intelligence': 3001, 'isi': 3058, 'and': 300, 'mi': 3995, 'register': 5145, 'coup': 1389, 'fir': 2164, 'on': 4425, 'jai': 3140, 'sindh': 5682, 'freedom': 2241, 'movement': 4105, 'twenty': 6358, 'female': 2131, 'workers': 6715, 'more': 4084, 'than': 6130, 'hundred': 2795, 'named': 4215, 'fifty': 2143, 'jsfm': 3256, 'have': 2598, 'been': 699, 'forcibly': 2213, 'disappeared': 1729, 'by': 1000, 'isisohail': 3069, 'abro': 45, 'chairman': 1089, 'jeay': 3196, 'sohail': 5754, 'they': 6158, 'are': 382, 'innocent': 2963, 'civilian': 1194, 'teachers': 6077, 'yet': 6789, 'you': 6793, 'sympathize': 5988, 'with': 6693, 'terrorists': 6116, 'attacks': 473, 'like': 3702, 'this': 6176, 'one': 4428, 'pakistan': 4540, 'army': 398, 'will': 6679, 'continue': 1342, 'to': 6225, 'eradicate': 1954, 'bla': 818, 'until': 6443, 'there': 6148, 'no': 4325, 'left': 3653, 'the': 6140, 'lota': 3783, 'dg': 1679, 'has': 2582, 'concern': 1285, 'of': 4400, 'terror': 6110, 'incidents': 2898, 'occurring': 4397, 'greater': 2446, 'frequency': 2246, 'nor': 4338, 'does': 1774, 'he': 2618, 'care': 1034, 'about': 42, 'promoting': 4913, 'themselves': 6144, 'social': 5749, 'media': 3952, 'hes': 2660, 'only': 4434, 'concerned': 1286, 'propping': 4923, 'up': 6446, 'puppet': 4971, 'regime': 5141, 'showbaz': 5637, 'sharif': 5596, 'ap': 346, 'logo': 3753, 'ko': 3501, 'khuda': 3442, 'ka': 3282, 'wasta': 6601, 'ha': 2491, 'khan': 3407, 'wapis': 6586, 'lai': 3582, 'or': 4460, 'in': 2892, 'sb': 5458, 'se': 5475, 'nimte': 4320, 'pti': 4954, 'ke': 3368, 'supporters': 5954, 'wo': 6699, 'waahid': 6555, 'community': 1268, 'jo': 3235, 'support': 5951, 'krti': 3536, 'jis': 3228, 'ne': 4256, 'bhi': 779, 'change': 1108, 'ki': 3452, 'liye': 3732, 'cpec': 1404, 'khatam': 3416, 'ho': 2709, 'russia': 5328, 'trade': 6271, 'na': 4188, 'while': 6662, 'state': 5853, 'committed': 1263, 'mumbai': 4148, 'which': 6661, 'killed': 3464, 'much': 4123, 'still': 5874, 'give': 2393, 'refuge': 5134, 'dawood': 1519, 'ibrahim': 2819, 'tiger': 6207, 'memon': 3967, 'who': 6666, 'masterminds': 3928, 'serial': 5537, 'bomb': 881, 'blasts': 834, 'way': 6614, 'werre': 6644, 'trained': 6281, 'not': 4345, 'sponsored': 5820, 'is': 3057, 'whole': 6668, 'idiot': 2831, 'mean': 3946, 'peoples': 4676, 'also': 260, 'grow': 2457, 'kid': 3457, 'jabse': 3130, 'ye': 6774, 'modi': 4056, 'aaya': 18, 'hai': 2504, 'tabse': 6003, 'indian': 2919, 'soch': 5747, 'batt': 670, 'battar': 671, 'hogai': 2715, 'ghatiya': 2368, 'log': 3750, 'bc': 680, 'yeh': 6780, 'sab': 5336, 'baat': 527, 'mujhse': 4137, 'better': 755, 'koi': 3505, 'nahi': 4202, 'samajh': 5397, 'saktha': 5389, 'my': 4183, 'father': 2102, 'big': 798, 'brother': 947, 'serving': 5544, 'airforce': 192, 'at': 458, 'pathankot': 4633, 'jodhpur': 3238, 'airbase': 190, 'respectively': 5231, 'getting': 2347, 'funds': 2272, 'from': 2255, 'dont': 1790, 'argue': 388, 'kashmiri': 3356, 'fighters': 2146, 'cz': 1461, 'funded': 2270, 'bt': 955, 'balochistan': 595, 'how': 2758, 'did': 1694, 'define': 1572, 'differentiate': 1704, 'between': 757, 'these': 6155, 'two': 6361, 'pls': 4776, 'explain': 2025, 'first': 2172, 'all': 230, 'bjp': 815, 'but': 995, 'was': 6598, 'planned': 4753, 'cia': 1182, 'few': 2137, 'members': 3964, 'congress': 1315, 'asked': 435, 'wear': 6631, 'hindu': 2688, 'thread': 6187, 'so': 5744, 'can': 1022, 'prove': 4939, 'through': 6195, 'their': 6141, 'dead': 1525, 'bodies': 865, 'that': 6137, 'were': 6643, 'gets': 2346, 'valid': 6486, 'reason': 5107, 'ban': 609, 'rss': 5312, 'easily': 1853, 'imraantaleban': 2888, 'holds': 2722, 'clout': 1217, 'within': 6696, 'organizations': 4471, 'backing': 548, 'take': 6019, 'revenge': 5255, 'chinese': 1146, 'outsted': 4501, 'him': 2681, 'pms': 4785, 'office': 4405, 'sound': 5782, 'it': 3110, 'attack': 468, 'release': 5169, 'fake': 2072, 'vedio': 6498, 'showing': 5640, 'claiming': 1200, 'we': 6624, 'understand': 6403, 'your': 6796, 'pain': 4523, 'never': 4290, 'issues': 3107, 'such': 5920, 'statements': 5858, 'against': 147, 'condemn': 1291, 'taliban': 6027, 'goal': 2403, 'demography': 1608, 'country': 1385, 'slowly': 5727, 'rule': 5317, 'gazwae': 2319, 'hind': 2685, 'directed': 1719, 'groups': 2456, 'intensify': 3005, 'jampk': 3158, 'infiltration': 2939, 'bids': 796, 'nationals': 4235, 'ttp': 6329, 'blas': 830, 'sacrifice': 5346, 'already': 257, 'carrying': 1040, 'out': 4494, 'now': 4356, 'baloch': 592, 'rebels': 5109, 'vows': 6550, 'waiting': 6566, 'for': 2207, 'sra': 5828, 'plan': 4750, 'free': 2240, 'balochistanthey': 598, 'ur': 6453, 'agency': 154, 'says': 5455, 'antiindia': 333, 'jihadi': 3215, 'kashmir': 3355, 'tracing': 6270, 'behind': 714, 'karachi': 3318, 'university': 6423, 'be': 683, 'punished': 4965, 'soon': 5775, 'should': 5633, 'do': 1770, 'surgical': 5965, 'strike': 5891, 'sirajuddin': 5696, 'leading': 3637, 'gov': 2424, 'pig': 4734, 'evil': 1993, 'man': 3868, 'khalifa': 3401, 'amp': 291, 'cant': 1027, 'read': 5098, 'quranhis': 5026, 'suicide': 5933, 'bomber': 885, 'recent': 5113, 'killing': 3468, 'happening': 2553, 'million': 4014, 'afghans': 133, 'get': 2345, 'fight': 2144, 'backattack': 544, 'soldiers': 5758, 'embraced': 1902, 'martyrdom': 3908, 'when': 6653, 'fired': 2167, 'upon': 6450, 'security': 5493, 'forces': 2212, 'initiated': 2954, 'prompt': 4914, 'response': 5235, 'during': 1839, 'exchange': 2003, 'fire': 2166, 'lnk': 3739, 'umar': 6382, 'ali': 226, 'sep': 5530, 'muhammad': 4126, 'fought': 2231, 'gallantly': 2294, 'ola': 4416, 'higher': 2671, 'rate': 5082, 'blast': 832, 'any': 338, 'other': 4482, 'organisation': 4466, 'bhai': 767, 'competition': 1273, 'laga': 3574, 'kya': 3558, 'tumhara': 6336, 'aur': 485, 'sabse': 5343, 'jada': 3131, 'kon': 3508, 'karega': 3328, 'serious': 5538, 'note': 4347, 'something': 5768, 'going': 2411, 'buy': 997, 'scooter': 5472, 'using': 6467, 'different': 1703, 'names': 4217, 'claim': 1198, 'since': 5678, 'grey': 2447, 'list': 3721, 'fatf': 2101, 'many': 3886, 'times': 6212, 'row': 5308, 'knows': 3499, 'if': 2838, 'allow': 242, 'let': 3673, 'hizbul': 2705, 'jaishemuhammed': 3147, 'then': 6145, 'likely': 3703, 'black': 820, 'waziristan': 6618, 'whats': 6651, 'its': 3116, 'wake': 6570, 'call': 1009, 'every': 1986, 'everyone': 1988, 'specially': 5804, 'our': 4489, 'beloved': 728, 'request': 5215, 'please': 4767, 'control': 1349, 'them': 6142, 'love': 3790, 'people': 4675, 'celebrated': 1064, 'had': 2496, 'happened': 2552, 'jammu': 3157, 'india': 2916, 'mujahid': 4131, 'din': 1714, 'returned': 5252, 'definitely': 1573, 'some': 5765, 'enjoying': 1932, 'as': 422, 'enjoyed': 1931, 'remember': 5182, 'think': 6172, 'confuse': 1312, 'students': 5902, 'learned': 3640, 'ones': 4429, 'friend': 2249, 'worry': 6727, 'im': 2861, 'sure': 5962, 'wont': 6709, 'crackdown': 1409, 'large': 3603, 'find': 2157, 'culprits': 1448, 'too': 6241, 'watching': 6609, 'closely': 1215, 'bahane': 567, 'duniya': 1834, 'pata': 4630, 'chala': 1094, 'me': 3945, 'haionly': 2509, 'camp': 1019, 'haithanks': 2513, 'intl': 3021, 'acclaimed': 66, 'ewu': 1995, 'pepper': 4677, 'soup': 5783, 'come': 1247, 'what': 6649, 'may': 3937, 'zoological': 6834, 'republic': 5211, 'must': 4178, 'defeated': 1562, 'cowardly': 1400, 'turn': 6349, 'tail': 6009, 'sight': 5659, 'bandits': 615, 'bh': 762, 'flex': 2185, 'grasshopper': 2443, 'muscles': 4171, 'massacring': 3920, 'ppl': 4834, 'world': 6720, 'capable': 1029, 'creating': 1413, 'bombers': 886, 'sahi': 5371, 'karti': 3346, 'hamari': 2530, 'pak': 4530, 'armyjo': 402, 'balocho': 599, 'gand': 2299, 'martey': 3906, 'haiye': 2515, 'hi': 2663, 'qabilsarey': 4994, 'missing': 4042, 'haikill': 2506, 'bastards': 662, 'chief': 1139, 'focusing': 2189, 'bringing': 941, 'hamza': 2538, 'into': 3022, 'power': 4830, 'mercy': 3979, 'pdm': 4650, 'allies': 241, 'shame': 5575, 'busy': 994, 'last': 3612, 'ball': 589, 'roaming': 5290, 'around': 407, 'both': 904, 'coas': 1222, 'immediately': 2869, 'resign': 5222, 'armyisi': 401, 'doing': 1781, 'everything': 1989, 'protecting': 4929, 'shitty': 5623, 'graphics': 2442, 'displaying': 1745, 'wannabe': 6582, 'imran': 2889, 'priorities': 4878, 'wrong': 6744, 'god': 2405, 'help': 2644, 'picture': 4729, 'usa': 6461, 'terrorism': 6111, 'namedfifty': 4216, 'ghussain': 2379, 'shabrani': 5559, 'gsjsfm': 2462, 'presence': 4861, 'rung': 5324, 'alarm': 218, 'bells': 725, 'among': 290, 'central': 1071, 'agencies': 153, 'trying': 6327, 'know': 3496, 'involvement': 3042, 'network': 4284, 'dreaded': 1807, 'group': 2455, 'having': 2603, 'close': 1213, 'ties': 6206, 'pumping': 4962, 'foreign': 2215, 'encounter': 1911, 'april': 373, 'intel': 2998, 'suspect': 5974, 'handiwork': 2545, 'operates': 4441, 'mostly': 4092, 'eastern': 1855, 'afghanistan': 129, 'northwestern': 4344, 'haqqani': 2561, 'suspected': 5975, 'new': 4292, 'organization': 4470, 'growing': 2458, 'valley': 6487, 'she': 5605, 'renewable': 5191, 'future': 2275, 'invited': 3039, 'those': 6181, 'oslo': 4481, 'rolled': 5299, 'red': 5127, 'carpet': 1037, 'trust': 6322, 'parrots': 4593, 'isiisis': 3062, 'an': 296, 'ally': 244, 'dy': 1845, 'cm': 1220, 'hv': 2804, 'funding': 2271, 'depart': 1621, 'sex': 5553, 'trades': 6273, 'local': 3743, 'ukgulfrassia': 6373, 'chains': 1088, 'condemning': 1294, 'civilians': 1195, 'nt': 4362, 'provided': 4944, 'money': 4071, 'prostitutes': 4926, 'dress': 1810, 'codes': 1224, 'sell': 5517, 'cr': 1407, 'vague': 6483, 'khaki': 3397, 'fr': 2234, 'isibright': 3059, 'literated': 3726, 'ground': 2454, 'gawty': 2314, 'child': 1140, 'wink': 6684, 'got': 2422, 'rid': 5269, 'andy': 304, 'vermaut': 6506, 'sharesisi': 5591, 'thank': 6132, 'hand': 2541, 'isis': 3066, 'after': 144, 'establishment': 1968, 'apprehensions': 370, 'diverted': 1763, 'due': 1832, 'dipping': 1717, 'recruitment': 5126, 'why': 6674, 'drag': 1804, 'soros': 5777, 'islamic': 3084, 'tools': 6247, 'trap': 6289, 'backfired': 547, 'rise': 5279, 'al': 215, 'qaeda': 5000, 'well': 6638, 'fighting': 2147, 'protect': 4927, 'interests': 3010, 'corrupt': 1371, 'jamiat': 3156, 'politicians': 4805, 'apparently': 362, 'forgets': 2220, 'mujahiddin': 4132, 'created': 1412, 'paki': 4537, 'same': 5398, 'talibs': 6034, 'case': 1047, 'discriminating': 1735, 'fair': 2068, 'hindus': 2690, 'muslims': 4176, 'peace': 4652, 'loving': 3793, 'violent': 6529, 'longer': 3762, 'muslim': 4174, 'whu': 6673, 'stronger': 5896, 'dnt': 1769, 'religions': 5176, 'anymore': 341, 'another': 323, 'revelation': 5254, 'infighting': 2936, 'directive': 1722, 'syndicate': 5993, 'leader': 3633, 'nonexistent': 4332, 'stooges': 5879, 'taking': 6025, 'orders': 4463, 'masters': 3929, 'assam': 443, 'police': 4796, 'arrests': 413, 'persons': 4697, 'including': 2904, 'absconding': 47, 'bangladeshi': 622, 'theprint': 6147, 'guwahati': 2480, 'ani': 310, 'far': 2085, 'said': 5375, 'ansarul': 325, 'bangla': 620, 'team': 6079, 'abt': 50, 'supported': 5952, 'alqaeda': 255, 'tb': 6072, 'celebrating': 1065, 'romanticizing': 5300, 'notorious': 4352, 'eyed': 2052, 'leaders': 3634, 'death': 1533, 'anniversary': 318, 'his': 2695, 'elusive': 1897, 'cronies': 1430, 'surprising': 5967, 'mohsin': 4064, 'dawarfazlur': 1518, 'rehman': 5149, 'mahmood': 3841, 'achakzai': 79, 'traitors': 6286, 'called': 1010, 'air': 189, 'force': 2209, 'tour': 6262, 'saudi': 5441, 'arabia': 377, 'shahbaz': 5562, 'united': 6418, 'states': 5860, 'slapped': 5717, 'face': 2055, 'rangers': 5071, 'half': 2523, 'includes': 2903, 'women': 6704, 'children': 1141, 'political': 4801, 'recalled': 5110, 'rally': 5063, 'held': 2639, 'sun': 5936, 'city': 1192, 'today': 6228, 'occasion': 4388, 'gm': 2401, 'syed': 5984, 'dawar': 1517, 'fazlur': 2116, 'bad': 552, 'thought': 6183, 'sediq': 5495, 'tells': 6088, 'role': 5298, 'model': 4055, 'really': 5105, 'physical': 4723, 'fanatic': 2082, 'alien': 227, 'saw': 5450, 'agent': 157, 'whose': 6671, 'followers': 2199, 'sworn': 5981, 'allegiance': 237, 'activists': 98, 'kidnapped': 3460, 'belonging': 726, 'continues': 1344, 'unabated': 6390, 'occupied': 4392, 'workersthat': 6716, 'next': 4296, 'months': 4079, 'send': 5523, 'heavily': 2630, 'disturb': 1758, 'present': 4862, 'ongoing': 4431, 'development': 1671, 'govt': 2429, 'bagawat': 560, 'jungstarted': 3272, 'inside': 2973, 'grand': 2437, 'alliance': 240, 'parties': 4601, 'degree': 1577, 'nhi': 4301, 'lekar': 3661, 'aaate': 1, 'jahar': 3139, 'aate': 17, 'bhart': 773, 'khilaf': 3428, 'ya': 6753, 'sleeper': 5725, 'cell': 1067, 'jaate': 3126, 'comment': 1257, 'files': 2151, 'disgusting': 1740, 'dcompany': 1523, 'pseudosecular': 4951, 'husband': 2801, 'most': 4091, 'dangerous': 1496, 'threat': 6189, 'bharat': 771, 'jnb': 3234, 'lait': 3585, 'chuky': 1176, 'hain': 2507, 'mila': 4004, 'dia': 1690, 'chwl': 1181, 'putr': 4992, 'ny': 4380, 'barbarity': 646, 'jem': 3201, 'promoted': 4912, 'caused': 1055, 'mayhem': 3939, 'kashmiris': 3357, 'wd': 6623, 'done': 1787, 'following': 2200, 'jinnah': 3225, 'moving': 4108, 'away': 503, 'border': 898, 'report': 5203, 'tragic': 6277, 'consequences': 1320, 'afghan': 127, 'hazara': 2612, 'shia': 5613, 'serve': 5542, 'mad': 3819, 'ideological': 2828, 'iskp': 3076, 'could': 1376, 'deliver': 1595, 'promised': 4909, 'seems': 5502, 'proxy': 4950, 'war': 6589, 'underway': 6406, 'shiahazara': 5614, 'ethnic': 1975, 'religious': 5177, 'minority': 4030, 'frequently': 2247, 'targeted': 6057, 'khorasan': 3433, 'isisk': 3068, 'sunni': 5942, 'yes': 6786, 'good': 2416, 'history': 2700, 'being': 715, 'governed': 2425, 'internally': 3014, 'problem': 4886, 'clears': 1210, 'work': 6713, 'together': 6231, 'solution': 5763, 'diplomatically': 1716, 'abe': 32, 'janhannamjannat': 3167, 'loda': 3748, 'lassan': 3611, 'kuch': 3540, 'hotaisi': 2749, 'chakkar': 1092, 'kaee': 3290, 'chutiye': 1179, 'jate': 3178, 'intellligence': 3003, 'napakistan': 4223, 'leadeship': 3636, 'direct': 1718, 'crimes': 1423, 'genocide': 2338, 'us': 6460, 'uk': 6372, 'supports': 5957, 'clear': 1207, 'ilhan': 2856, 'organisations': 4468, 'promote': 4911, 'activities': 99, 'sent': 5529, 'administration': 115, 'ie': 2835, 'democrats': 1607, 'kamla': 3308, 'harris': 2580, 'joe': 3239, 'biden': 795, 'time': 6211, 'boly': 880, 'gay': 2315, 'palestine': 4566, 'waly': 6580, 'ty': 6362, 'isliya': 3091, 'unko': 6429, 'mara': 3892, 'jata': 3177, 'liya': 3731, 'tm': 6221, 'jasy': 3176, 'gadho': 2283, 'gulami': 2472, 'nilkna': 4318, 'chahta': 1082, 'taka': 6018, 'galat': 2289, 'lo': 3740, 'kaho': 3295, 'karo': 3338, 'lakin': 3587, 'gadhy': 2284, 'hamesha': 2532, 'rehty': 5155, 'altqqaiya': 264, 'krne': 3531, 'wale': 6574, 'brain': 918, 'zombie': 6833, 'bahas': 569, 'karun': 3348, 'ja': 3121, 'madarson': 3823, 'unk': 6424, 'sympathizers': 5990, 'samjha': 5401, 'qayamat': 5005, 'ana': 297, 'hoor': 2739, 'zannat': 6816, 'milni': 4016, 'islie': 3090, 'hansi': 2549, 'khushi': 3450, 'rhe': 5265, 'bn': 859, 'mare': 3895, 'build': 969, 'reza': 5262, 'defeat': 1561, 'occupation': 4391, 'ataturk': 460, 'anything': 343, 'unite': 6417, 'afg': 125, 'least': 3644, 'pashtuns': 4619, 'payroll': 4647, 'defected': 1564, 'arabs': 380, 'lost': 3781, 'fiefdom': 2141, 'cause': 1054, 'died': 1697, 'runaway': 5323, 'thug': 6199, 'alaklarn': 216, 'ii': 2846, 'zaten': 6821, 'delikanl': 1593, 'olsalar': 4421, 'sava': 5442, 'meydanndan': 3992, 'kamazlard': 3306, 'kahpe': 3296, 'ermeniler': 1956, 'before': 702, 'killings': 3469, 'march': 3893, 'house': 2755, 'very': 6507, 'wealthy': 6627, 'philanthropist': 4713, 'bu': 960, 'mba': 3944, 'set': 5546, 'ablaze': 39, 'alleged': 235, 'placed': 4748, 'camera': 1016, 'monitoring': 4075, 'street': 5885, 'lights': 3701, 'imagine': 2864, 'main': 3844, 'wahi': 6562, 'radical': 5033, 'tha': 6128, 'uss': 6472, 'naam': 4190, 'paata': 4514, 'tuje': 6332, 'haji': 2517, 'bilal': 803, 'yahi': 6760, 'sachi': 5345, 'gujarat': 2467, 'samja': 5400, 'gyan': 2489, 'rana': 5069, 'ayub': 515, 'diya': 1766, 'madarsha': 3822, 'dena': 1615, 'worshiping': 6730, 'damn': 1491, 'boro': 902, 'eqa': 1949, 'khosh': 3435, 'dari': 1502, 'wahshiya': 6563, 'wa': 6553, 'mozdor': 4109, 'ra': 5028, 'nai': 4205, 'mra': 4113, 'islamiyat': 3087, 'mar': 3891, 'chuki': 1175, 'khoon': 3430, 'itna': 3112, 'sasta': 5436, 'gya': 2487, 'afsoos': 142, 'ab': 21, 'bny': 863, 'gi': 2380, 'islam': 3079, 'termite': 6101, 'anyone': 342, 'bengal': 735, 'violence': 6528, 'tmc': 6222, 'yl': 6792, 'kartala': 3343, 'deplasmana': 1626, 'gitmitik': 2392, 'otobs': 4485, 'sakarya': 5380, 'taraftar': 6050, 'gelmiti': 2330, 'maa': 3808, 'gc': 2321, 'brakp': 922, 'sakaryadan': 5381, 'helaliniz': 2638, 'var': 6491, 'kardeim': 3325, 'living': 3730, 'hopeless': 2741, 'where': 6654, 'option': 4459, 'either': 1877, 'body': 866, 'flesh': 2184, 'traders': 6272, 'orgs': 4475, 'waves': 6613, 'hitting': 2704, 'borders': 899, 'days': 1521, 'ago': 168, 'ex': 1996, 'nsa': 4360, 'hd': 2616, 'warned': 6594, 'readying': 5100, 'missions': 4044, 'bhagwe': 766, 'khule': 3445, 'aam': 12, 'hathiyaar': 2592, 'dara': 1499, 'rahe': 5042, 'julm': 3264, 'kar': 3317, 'dekhne': 1586, 'sunne': 5941, 'wala': 6572, 'par': 4578, 'agar': 148, 'musalmano': 4170, 'utha': 6475, 'inhe': 2950, 'yad': 6755, 'aa': 0, 'jaega': 3133, 'madeinpakistan': 3826, 'talibanhaqqani': 6028, 'clean': 1204, 'shit': 5622, 'without': 6698, 'pakistans': 4554, 'permission': 4690, 'guy': 2481, 'tamilnadu': 6041, 'asking': 436, 'plebiscite': 4768, 'hatred': 2594, 'sovereignity': 5786, 'potential': 4827, 'balochi': 594, 'persecution': 4693, 'minorities': 4029, 'sponsoring': 5821, 'record': 5121, 'number': 4371, 'known': 3498, 'worldwide': 6723, 'seen': 5503, 'positively': 4820, 'commission': 1260, 'operating': 4442, 'global': 2397, 'scale': 5461, 'chrislamocommies': 1170, 'china': 1144, 'burma': 983, 'christian': 1171, 'honor': 2736, 'responsible': 5237, 'bengalis': 737, 'might': 4000, 'aware': 502, 'loyal': 3795, 'enemies': 1920, 'myself': 4185, 'praising': 4848, 'wishes': 6691, 'riots': 5277, 'unrests': 6440, 'see': 5496, 'coming': 1251, 'flag': 2179, 'bearers': 684, 'secularism': 5491, 'islamist': 3086, 'extremist': 2049, 'bigot': 801, 'dss': 1826, 'tired': 6216, 'igbos': 2839, 'false': 2075, 'operations': 4446, 'kill': 3463, 'maim': 3843, 'futile': 2274, 'effort': 1870, 'taint': 6011, 'ipobesn': 3047, 'root': 5303, 'suffering': 5929, 'took': 6243, 'lives': 3729, 'truly': 6320, 'misses': 4040, 'hope': 2740, 'rest': 5238, 'faces': 2056, 'fate': 2100, 'inshallah': 2972, 'week': 6635, 'eight': 1876, 'tum': 6334, 'aayi': 20, 'saare': 5335, 'brahmano': 917, 'kyo': 3560, 'le': 3630, 'aaye': 19, 'bewkoof': 760, 'nalayak': 4209, 'tara': 6048, 'desh': 1640, 'rapist': 5078, 'apne': 353, 'bachaane': 536, 'bhagwa': 765, 'cholaa': 1155, 'odhte': 4399, 'lekin': 3664, 'sirf': 5698, 'aaropi': 15, 'bolta': 879, 'hoon': 2738, 'uske': 6469, 'baap': 525, 'ramadan': 5065, 'talibans': 6033, 'operational': 4444, 'partners': 4604, 'although': 262, 'previously': 4871, 'bombed': 884, 'mosques': 4090, 'schools': 5470, 'universities': 6422, 'hospitals': 2745, 'urge': 6458, 'recognise': 5117, 'anti': 329, 'isiterrorist': 3072, 'rajiv': 5055, 'gandi': 2302, 'marne': 3902, 'os': 4478, 'naxals': 4246, 'ltte': 3798, 'arw': 420, 'sadvi': 5354, 'pragya': 4845, 'dhruv': 1688, 'saxena': 5452, 'mohit': 4062, 'agarwal': 149, 'baki': 582, 'google': 2419, 'liyo': 3734, 'aap': 13, 'sai': 5374, 'laikin': 3584, 'training': 6283, 'cheez': 1132, 'dete': 1662, 'ham': 2524, 'ghalat': 2356, 'gey': 2348, 'seedha': 5498, 'jannat': 3168, 'jao': 3173, 'ge': 2324, 'jahannm': 3138, 'haalanke': 2492, 'mrney': 4118, 'maarney': 3813, 'waaley': 6556, 'donoon': 1788, 'hote': 2750, 'pakarmy': 4534, 'paf': 4517, 'combing': 1244, 'operation': 4443, 'khost': 3436, 'per': 4678, 'details': 1661, 'crossed': 1435, 'influence': 2943, 'areas': 384, 'just': 3276, 'fact': 2061, 'lashkaretoiba': 3610, 'jaishemuhammad': 3146, 'thousands': 6186, 'innocents': 2964, 'look': 3764, 'came': 1015, 'here': 2652, 'sabotage': 5341, 'unity': 6419, 'welcome': 6637, 'jobs': 3237, 'absolutely': 49, 'news': 4294, 'drive': 1812, 'remove': 5188, 'unauthorised': 6396, 'colony': 1238, 'btw': 959, 'need': 4260, 'learn': 3639, 'tolerance': 6238, 'propaganda': 4918, 'conducted': 1300, 'active': 96, 'stop': 5880, 'remain': 5179, 'jail': 3141, 'fayeda': 2113, 'warna': 6593, 'dehshatagard': 1580, 'join': 3241, 'ata': 459, 'fc': 2118, 'samne': 5403, 'kutte': 3555, 'mot': 4093, 'marta': 3904, 'ache': 81, 'deshatgardi': 1641, 'bache': 539, 'raw': 5087, 'fastest': 2098, 'nation': 4231, 'bangladesh': 621, 'years': 6779, 'siachen': 5648, 'full': 2263, 'capture': 1031, 'formed': 2222, 'except': 2001, 'zero': 6827, 'acheivement': 82, 'mukti': 4141, 'vahini': 6484, 'terrorismare': 6112, 'guys': 2482, 'youre': 6797, 'accepting': 62, 'upper': 6451, 'worlds': 6722, 'patronage': 4638, 'check': 1129, 'lashkaretaiba': 3609, 'provlem': 4948, 'lies': 3696, 'agents': 159, 'maulana': 3935, 'radicalise': 5034, 'teens': 6082, 'secretly': 5485, 'even': 1983, 'tell': 6086, 'routes': 5307, 'go': 2402, 'camos': 1018, 'pok': 4792, 'things': 6171, 'follows': 2201, 'biggest': 800, 'maybe': 3938, 'start': 5848, 'srap': 5831, 'unless': 6431, 'wahan': 6560, 'karodon': 3340, 'bante': 633, 'hen': 2649, 'marte': 3905, 'har': 2564, 'paap': 4513, 'ek': 1879, 'ant': 327, 'hota': 2748, 'america': 278, 'beware': 759, 'watch': 6606, 'breaking': 931, 'caught': 1053, 'washington': 6600, 'posing': 4818, 'homeland': 2725, 'youtube': 6805, 'make': 3853, 'permanently': 4689, 'destroy': 1655, 'sponsered': 5818, 'method': 3991, 'remote': 5187, 'controlled': 1350, 'brains': 919, 'jaishe': 3145, 'mohommad': 4063, 'etc': 1973, 'selective': 5512, 'condemnation': 1292, 'shows': 5642, 'hypocrisy': 2810, 'spared': 5797, 'mercenaries': 3977, 'confirmed': 1307, 'unicef': 6413, 'selectively': 5513, 'paid': 4522, 'dispatched': 1744, 'hell': 2641, 'long': 3760, 'live': 3728, 'her': 2651, 'lot': 3782, 'cair': 1006, 'infiltrated': 2938, 'trip': 6314, 'organized': 4472, 'championed': 1103, 'aafia': 3, 'siddiqui': 5651, 'texas': 6125, 'prison': 4880, 'soldier': 5757, 'injured': 2955, 'causing': 1056, 'heavy': 2631, 'losses': 3780, 'step': 5871, 'determined': 1664, 'thwart': 6202, 'attempts': 475, 'sabotaging': 5342, 'stability': 5836, 'progress': 4901, 'established': 1966, 'cut': 1458, 'off': 4401, 'fleeing': 2183, 'place': 4747, 'bw': 999, 'skirmish': 5711, 'valiant': 6485, 'son': 5770, 'soil': 5755, 'major': 3851, 'shahid': 5566, 'basheer': 657, 'pay': 4645, 'department': 1622, 'abducted': 26, 'educational': 1867, 'institutions': 2984, 'law': 3621, 'enforcement': 1924, 'abductor': 28, 'talibanjihadists': 6031, 'ciami': 1183, 'aims': 187, 'creation': 1414, 'discredit': 1733, 'islamafghans': 3082, 'deprive': 1628, 'pashtoons': 4614, 'side': 5652, 'durand': 1837, 'line': 3716, 'basic': 658, 'rights': 5275, 'keep': 3370, 'darkness': 1505, 'correct': 1368, 'voice': 6544, 'der': 1632, 'sympathiserswho': 5987, 'hav': 2597, 'enuff': 1944, 'glorification': 2400, 'producersshd': 4894, 'unrepresentedkms': 6438, 'victims': 6513, 'tooforces': 6242, 'faltered': 2077, 'course': 1392, 'correctedforces': 1369, 'kms': 3493, 'journey': 3254, 'fascinating': 2093, 'subject': 5911, 'crime': 1422, 'land': 3593, 'clearly': 1209, 'mentioned': 3973, 'hijab': 2676, 'education': 1866, 'sexena': 5554, 'uri': 6459, 'base': 654, 'attackis': 471, 'part': 4596, 'jk': 3232, 'till': 6210, 'date': 1511, 'clue': 1219, 'frm': 2254, 'wer': 6642, 'tat': 6064, 'dsp': 1825, 'davinder': 1516, 'singharrested': 5687, 'ferrying': 2136, 'hampm': 2536, 'vehicle': 6500, 'granted': 2439, 'bail': 572, 'moles': 4066, 'recruiter': 5125, 'trainer': 6282, 'org': 4465, 'wait': 6565, 'investigated': 3035, 'spreading': 5824, 'accounts': 74, 'checked': 1130, 'behalf': 711, 'speaking': 5801, 'mother': 4094, 'wiped': 6687, 'name': 4214, 'blasphemy': 831, 'type': 6363, 'involving': 3043, 'own': 4508, 'jehadis': 3200, 'shoot': 5629, 'latest': 3615, 'tactics': 6006, 'avoid': 494, 'pressure': 4866, 'particularly': 4600, 'un': 6389, 'mindset': 4023, 'types': 6364, 'statement': 5857, 'knowing': 3497, 'facts': 2065, 'checking': 1131, 'important': 2879, 'thing': 6170, 'acknowledge': 87, 'member': 3963, 'frankly': 2238, 'represent': 5207, 'fm': 2187, 'point': 4791, 'plus': 4779, 'led': 3650, 'photo': 4718, 'session': 5545, 'investigate': 3034, 'incident': 2897, 'aby': 57, 'bhootnike': 787, 'tu': 6330, 'nu': 4363, 'kr': 3523, 'teri': 6097, 'investment': 3038, 'di': 1689, 'lod': 3747, 'ni': 4303, 'punjab': 4967, 'galia': 2291, 'de': 1524, 'la': 3563, 'balk': 588, 'nawaz': 4243, 'oath': 4382, 'gaya': 2316, 'jahan': 3137, 'ashraf': 431, 'ghani': 2359, 'kaha': 3292, 'jandal': 3164, 'muree': 4164, 'kaun': 3363, 'layamodi': 3627, 'kaisa': 3299, 'baghair': 562, 'visa': 6533, 'aya': 507, 'bibi': 793, 'lifafa': 3697, 'halal': 2522, 'bhe': 776, 'karna': 3334, 'reported': 5204, 'account': 71, 'delete': 1589, 'tweet': 6354, 'ability': 38, 'use': 6462, 'sake': 5382, 'endians': 1918, 'struck': 5898, 'silent': 5673, 'building': 970, 'mobile': 4054, 'towers': 6266, 'disputed': 1746, 'indias': 2924, 'rightwing': 5276, 'regimes': 5142, 'bravado': 925, 'countrys': 1387, 'poor': 4807, 'nigerians': 4310, 'hands': 2548, 'abujakaduna': 52, 'train': 6280, 'bombing': 887, 'despicable': 1648, 'hypocrites': 2812, 'todays': 6229, 'kunduz': 3549, 'enemy': 1921, 'sparing': 5798, 'attentioncondemnation': 479, 'cure': 1454, 'aiding': 182, 'daish': 1473, 'afghanistanisi': 130, 'directly': 1723, 'involved': 3041, 'current': 1455, 'bloodshed': 851, 'turkmenpashtuntajickbalochshia': 6348, 'oin': 4413, 'ashole': 430, 'mind': 4020, 'educated': 1864, 'ass': 440, 'joining': 3242, 'isitalibanjemhijbulaq': 3071, 'ignorant': 2841, 'thats': 6139, 'afraid': 139, 'someone': 5767, 'remind': 5183, 'supporting': 5956, 'militia': 4012, 'criminal': 1424, 'hqn': 2763, 'drones': 1816, 'jets': 3207, 'carried': 1038, 'brutal': 951, 'panjshir': 4576, 'lashkar': 3608, 'travel': 6295, 'encouraging': 1913, 'game': 2297, 'victimhood': 6512, 'right': 5273, 'weaponry': 6628, 'american': 280, 'play': 4762, 'stupid': 5904, 'games': 2298, 'win': 6681, 'prizes': 4883, 'actions': 95, 'reasons': 5108, 'passport': 4626, 'holders': 2720, 'respected': 5229, 'arent': 385, 'humare': 2789, 'aise': 199, 'life': 3698, 'matter': 3933, 'kartishayad': 3347, 'itni': 3114, 'himmat': 2683, 'jaati': 3127, 'nuksaan': 4368, 'pahuchane': 4521, 'kosis': 3517, 'karte': 3345, 'haipata': 2510, 'unhe': 6411, 'karne': 3336, 'fall': 2073, 'pashtun': 4615, 'identities': 2827, 'nrf': 4358, 'slaves': 5723, 'france': 2236, 'iran': 3052, 'daughter': 1513, 'aka': 205, 'saleh': 5393, 'dirty': 1725, 'grave': 2444, 'want': 6583, 'stable': 5837, 'thieves': 6167, 'dancing': 1492, 'boys': 913, 'didnt': 1695, 'qaida': 5001, 'ask': 434, 'military': 4011, 'decades': 1536, 'would': 6737, 'happen': 2551, 'once': 4426, 'pride': 4873, 'indulge': 2931, 'sky': 5715, 'ill': 2857, 'minded': 4021, 'youths': 6804, 'treated': 6297, 'wouldnt': 6738, 'operationit': 4445, 'each': 1849, 'organisationisis': 4467, 'youth': 6802, 'bnne': 861, 'mekyu': 3962, 'dharam': 1683, 'nikalte': 4315, 'hamain': 2526, 'pahle': 4520, 'bhot': 788, 'bhain': 768, 'allbut': 234, 'mentalityshuru': 3971, 'kabza': 3289, 'krna': 3530, 'sikha': 5667, 'inhoneinhone': 2951, 'aakr': 11, 'mandir': 3872, 'todde': 6230, 'kuchh': 3541, 'kiya': 3488, 'mingle': 4025, 'try': 6326, 'section': 5488, 'target': 6056, 'tacking': 6004, 'expert': 2024, 'burntterrorists': 987, 'mastersread': 3930, 'fidayeen': 2140, 'nurtures': 4376, 'alnagrib': 250, 'riveting': 5284, 'spy': 5826, 'thriller': 6194, 'order': 4462, 'copy': 1363, 'listen': 3723, 'scholars': 5468, 'theyll': 6159, 'respect': 5228, 'mufti': 4124, 'madrassa': 3830, 'plenty': 4770, 'mullahs': 4145, 'superior': 5945, 'ways': 6615, 'terminologicak': 6099, 'differance': 1701, 'hum': 2782, 'mein': 3960, 'sort': 5780, 'sakte': 5387, 'terminologies': 6100, 'aksar': 214, 'bada': 553, 'confusion': 1313, 'rehta': 5151, 'context': 1340, 'lolog': 3757, 'theory': 6146, 'partition': 4602, 'bich': 794, 'subtle': 5915, 'janteaur': 3170, 'assasin': 444, 'kher': 3426, 'happy': 2557, 'abdullahs': 31, 'muftis': 4125, 'inc': 2894, 'cpim': 1406, 'based': 655, 'khalistanis': 3405, 'armour': 396, 'piercing': 4733, 'vehicles': 6501, 'armed': 391, 'convey': 1357, 'infront': 2948, 'pigs': 4735, 'fortytwo': 2228, 'odd': 4398, 'camps': 1021, 'run': 5322, 'jehad': 3198, 'exposed': 2036, 'unputdownable': 6436, 'repeat': 5194, 'doha': 1780, 'talib': 6026, 'deal': 1529, 'actually': 106, 'signed': 5664, 'paved': 4642, 'uspakistan': 6471, 'legitimate': 3658, 'great': 2445, 'traitor': 6285, 'ss': 5833, 'karzai': 3352, 'abdullah': 30, 'supply': 5949, 'bombarded': 882, 'houses': 2756, 'elder': 1882, 'burnt': 986, 'srai': 5829, 'qurban': 5027, 'khuawer': 3440, 'ruplo': 5326, 'choliani': 1156, 'noorullah': 4336, 'tunio': 6340, 'larkana': 3606, 'pays': 4648, 'tribute': 6305, 'martyrs': 3910, 'harm': 2576, 'beth': 749, 'indirectly': 2928, 'via': 6510, 'indians': 2921, 'break': 930, 'mention': 3972, 'trillions': 6313, 'looted': 3770, 'east': 1854, 'company': 1269, 'raj': 5053, 'coin': 1229, 'choice': 1153, 'worst': 6733, 'coordination': 1362, 'ruined': 5316, 'darkest': 1504, 'day': 1520, 'again': 145, 'issue': 3105, 'nothing': 4350, 'unrest': 6439, 'waged': 6559, 'sending': 5524, 'conspiratorial': 1329, 'understood': 6405, 'ghq': 2372, 'rawalpindi': 5088, 'thirty': 6175, 'madrasas': 3828, 'working': 6717, 'becomes': 695, 'easier': 1852, 'newly': 4293, 'raise': 5051, 'because': 693, 'isiisiss': 3063, 'jihadwar': 3220, 'open': 4437, 'mouth': 4103, 'shameless': 5577, 'parrot': 4591, 'truth': 6325, 'underestimate': 6401, 'tendency': 6090, 'believe': 721, 'comforting': 1250, 'columnist': 1241, 'genuinely': 2342, 'iaf': 2814, 'hit': 2701, 'couple': 1390, 'trees': 6298, 'balakot': 586, 'willing': 6680, 'accept': 60, 'probably': 4885, 'sikhskhalistan': 5670, 'sikhsthey': 5671, 'dogs': 1779, 'izlamic': 3120, 'therea': 6149, 'attacklooks': 472, 'started': 5849, 'armyshame': 406, 'constitution': 1333, 'made': 3824, 'british': 943, 'jina': 3224, 'himself': 2684, 'dog': 1776, 'talking': 6036, 'forward': 2230, 'hello': 2643, 'dr': 1803, 'asad': 424, 'hates': 2591, 'equal': 1950, 'brothers': 948, 'faith': 2070, 'hate': 2590, 'pk': 4745, 'governments': 2427, 'dear': 1532, 'blindly': 844, 'oppose': 4453, 'little': 3727, 'research': 5219, 'infiltrations': 2940, 'back': 543, 'neutralising': 4287, 'lethal': 3676, 'bullets': 976, 'facilitate': 2057, 'abhi': 33, 'zinda': 6830, 'explained': 2026, 'nab': 4191, 'companysponsored': 1270, 'module': 4058, 'revealed': 5253, 'dossier': 1794, 'video': 6516, 'quran': 5025, 'backkick': 549, 'talibanout': 6032, 'pakis': 4538, 'dostum': 1795, 'teprrists': 6093, 'eliminatedin': 1889, 'wan': 6581, 'supplied': 5948, 'given': 2394, 'sanctuary': 5414, 'loss': 3779, 'failure': 2067, 'initially': 2953, 'retaliate': 5246, 'crush': 1441, 'became': 692, 'forever': 2218, 'oligarchy': 4420, 'mafia': 3834, 'hijacked': 2677, 'nationthese': 4237, 'insidepmimrannawazzardari': 2974, 'isiib': 3061, 'running': 5325, 'worldwidewe': 6724, 'strongly': 5897, 'condemned': 1293, 'sikh': 5666, 'families': 2079, 'gurdwara': 2477, 'recently': 5114, 'maharaja': 3839, 'ranjit': 5072, 'singh': 5686, 'statue': 5865, 'kicked': 3456, 'demolished': 1610, 'sikhs': 5669, 'opposing': 4454, 'kf': 3391, 'real': 5101, 'actors': 102, 'job': 3236, 'fascist': 2095, 'heroin': 2658, 'foreigners': 2216, 'landghar': 3595, 'forget': 2219, 'coimbatore': 1228, 'used': 6463, 'dmk': 1768, 'cover': 1396, 'wanted': 6584, 'releaed': 5168, 'permanantly': 4688, 'bastd': 663, 'demand': 1600, 'governor': 2428, 'rightly': 5274, 'cleansing': 1205, 'punjabi': 4968, 'qatar': 5004, 'mixed': 4049, 'wants': 6585, 'band': 614, 'madrass': 3829, 'become': 694, 'happing': 2556, 'mystery': 4187, 'kapil': 3314, 'sibal': 5649, 'advocate': 121, 'stone': 5877, 'pelters': 4670, 'pfi': 4703, 'countries': 1384, 'pelting': 4671, 'shot': 5632, 'restraint': 5241, 'pakchina': 4535, 'doomed': 1791, 'parroted': 4592, 'ciazalilzad': 1185, 'empowered': 1908, 'isisisi': 3067, 'particular': 4599, 'head': 2619, 'doubt': 1797, 'sympathy': 5992, 'controlling': 1351, 'thugs': 6200, 'delhi': 1591, 'opened': 4439, 'letter': 3678, 'plans': 4756, 'pole': 4795, 'exposedisi': 2037, 'sponsors': 5822, 'wild': 6678, 'slaughter': 5718, 'powertaliban': 4833, 'stopped': 5881, 'booby': 891, 'traps': 6291, 'task': 6062, 'taken': 6020, 'over': 4502, 'nalliance': 4210, 'isik': 3064, 'scattered': 5466, 'praying': 4852, 'ordinary': 4464, 'apologists': 358, 'savages': 5445, 'true': 6318, 'armys': 405, 'primary': 4874, 'defend': 1566, 'ensure': 1935, 'generals': 2333, 'troops': 6315, 'easy': 1856, 'sipahi': 5692, 'laying': 3629, 'under': 6400, 'equipped': 1951, 'hide': 2666, 'sacrifices': 5348, 'men': 3968, 'launch': 3618, 'bombings': 888, 'captured': 1032, 'claimed': 1199, 'hiding': 2669, 'isnt': 3095, 'proof': 4916, 'indeed': 2912, 'safehaven': 5362, 'blasted': 833, 'renounced': 5192, 'international': 3015, 'jihidi': 3221, 'sarai': 5426, 'kurban': 3550, 'khawar': 3421, 'enforced': 1923, 'disappearances': 1728, 'mutilation': 4181, 'am': 266, 'saying': 5454, 'spies': 5811, 'americans': 281, 'bkaz': 816, 'kabul': 3288, 'appoint': 369, 'hazarasiranians': 2614, 'lets': 3677, 'scream': 5474, 'hazaras': 2613, 'old': 4419, 'habit': 2495, 'spends': 5809, 'viewing': 6520, 'private': 4882, 'family': 2080, 'scenes': 5467, 'phone': 4716, 'virus': 6532, 'software': 5753, 'hidden': 2665, 'cameras': 1017, 'embassy': 1901, 'staff': 5838, 'bedrooms': 697, 'observing': 4385, 'jihadists': 3218, 'libya': 3691, 'iraq': 3054, 'nazis': 4252, 'ukraine': 6374, 'depths': 1631, 'sink': 5690, 'disappearance': 1727, 'gulab': 2471, 'shaheen': 5565, 'mastan': 3923, 'dhami': 1682, 'reacted': 5096, 'kwon': 3556, 'namak': 4213, 'haram': 2567, 'sath': 5439, 'khata': 3415, 'yaha': 6758, 'deta': 1659, 'allowed': 243, 'rohingyas': 5293, 'hindustan': 2691, 'investigating': 3036, 'exits': 2014, 'enterpakistani': 1939, 'takes': 6022, 'cabinet': 1005, 'memberspakistani': 3966, 'net': 4283, 'numerous': 4372, 'unregistered': 6437, 'semites': 5519, 'followed': 2197, 'attacking': 470, 'speak': 5799, 'regarding': 5139, 'igency': 2840, 'supporter': 5953, 'region': 5143, 'shaikh': 5569, 'abdul': 29, 'baqi': 637, 'reflecting': 5131, 'genuine': 2341, 'authentic': 489, 'thoughts': 6184, 'saheenbagh': 5370, 'dange': 1494, 'kisne': 3481, 'karwaya': 3351, 'mla': 4050, 'jab': 3129, 'juda': 3260, 'kejri': 3376, 'andar': 301, 'toolkit': 6246, 'bhoot': 786, 'ageya': 163, 'antinational': 335, 'vash': 6493, 'karke': 3333, 'kabhi': 3286, 'khalistani': 3404, 'dilwa': 1712, 'program': 4899, 'pgm': 4704, 'helping': 2646, 'ran': 5068, 'arrested': 410, 'commander': 1254, 'unknown': 6428, 'human': 2783, 'suffers': 5931, 'painful': 4527, 'suffer': 5926, 'putin': 4990, 'talk': 6035, 'cuban': 1445, 'missile': 4041, 'crisis': 1428, 'kgb': 3392, 'mosad': 4087, 'convenient': 1353, 'territories': 6108, 'humara': 2788, 'kutta': 3553, 'tommy': 6239, 'benazir': 730, 'bhutto': 791, 'goodwill': 2418, 'gesture': 2344, 'gave': 2313, 'rajeev': 5054, 'gandhi': 2300, 'allegedly': 236, 'proxies': 4949, 'pakistanis': 4552, 'khalistan': 3403, 'universe': 6421, 'tried': 6308, 'best': 746, 'create': 1411, 'movements': 4106, 'places': 4749, 'failed': 2066, 'miserably': 4036, 'instructions': 2985, 'poke': 4793, 'turned': 6350, 'heaven': 2629, 'links': 3719, 'parliament': 4590, 'kargil': 3330, 'pulwama': 4961, 'vedic': 6497, 'meeting': 3955, 'hafeez': 2498, 'saeed': 5356, 'bda': 682, 'strikes': 5892, 'mastermind': 3927, 'lmao': 3738, 'pro': 4884, 'hype': 2809, 'jumped': 3267, 'bandwagon': 616, 'visit': 6537, 'show': 5636, 'credentials': 1417, 'according': 69, 'pm': 4781, 'changed': 1109, 'language': 3597, 'samjhte': 5402, 'high': 2670, 'announce': 320, 'invaders': 3029, 'unleashed': 6430, 'needs': 4262, 'th': 6127, 'century': 1074, 'honest': 2729, 'ourselves': 4491, 'encourage': 1912, 'always': 265, 'hindutva': 2692, 'noted': 4348, 'played': 4763, 'defence': 1565, 'gen': 2331, 'nick': 4307, 'carter': 1043, 'gchq': 2322, 'past': 4627, 'globally': 2398, 'designated': 1643, 'ruling': 5319, 'keeping': 3371, 'quiet': 5019, 'sold': 5756, 'yourself': 6799, 'blood': 850, 'alqaida': 256, 'haqani': 2559, 'networks': 4285, 'produce': 4892, 'safe': 5360, 'haven': 2600, 'masterisi': 3926, 'propagate': 4919, 'baghdadiosamatalibanboko': 563, 'inspired': 2976, 'hindutvabiggest': 2693, 'hindutvakilling': 2694, 'shiashazaras': 5616, 'sanatanis': 5408, 'sir': 5694, 'gar': 2306, 'muslimo': 4175, 'dillo': 1711, 'mah': 3838, 'sa': 5331, 'yah': 6757, 'bat': 665, 'bhati': 775, 'hoi': 2718, 'han': 2540, 'phala': 4705, 'hama': 2525, 'khayal': 3425, 'nikalna': 4314, 'hoga': 2713, 'hamara': 2527, 'deen': 1555, 'asa': 423, 'kabi': 3287, 'taraf': 6049, 'aaga': 5, 'nafrat': 4198, 'hogi': 2717, 'ruthlessly': 5330, 'demolish': 1609, 'cells': 1068, 'centres': 1073, 'constitutional': 1334, 'duty': 1844, 'government': 2426, 'remeber': 5181, 'handed': 2543, 'hostage': 2746, 'defferient': 1570, 'farari': 2086, 'friends': 2251, 'lobbyister': 3742, 'kind': 3473, 'collaboration': 1231, 'colour': 1239, 'isk': 3073, 'former': 2223, 'buddies': 963, 'upset': 6452, 'various': 6492, 'judiciary': 3263, 'behaving': 712, 'currently': 1456, 'extended': 2040, 'branch': 923, 'jihadist': 3217, 'destroying': 1657, 'judicial': 3262, 'reforms': 5133, 'asap': 426, 'sick': 5650, 'offer': 4403, 'calls': 1012, 'fascism': 2094, 'herion': 2655, 'ladt': 3571, 'funny': 2273, 'slave': 5720, 'condemend': 1290, 'others': 4483, 'partner': 4603, 'haqqqani': 2562, 'landaghar': 3594, 'wali': 6575, 'else': 1895, 'faiz': 2071, 'hameed': 2531, 'babas': 532, 'etnonationalism': 1978, 'karzia': 3353, 'telling': 6087, 'distract': 1754, 'ideas': 2824, 'counterterrorism': 1383, 'playing': 4764, 'paradoxically': 4581, 'backed': 546, 'include': 2902, 'ever': 1985, 'exit': 2012, 'strengthening': 5889, 'financially': 2155, 'politicallyn': 4803, 'fundamentalist': 2268, 'illegal': 2858, 'cattle': 1052, 'smugglers': 5736, 'ambush': 274, 'wee': 6634, 'hours': 2754, 'tuesday': 6331, 'kok': 3506, 'whoswho': 6672, 'secessionists': 5481, 'xtian': 6752, 'radicals': 5036, 'fiacona': 2138, 'iamc': 2817, 'humanism': 2784, 'project': 4905, 'jamaaliislami': 3153, 'rep': 5193, 'ather': 462, 'zia': 6828, 'haykey': 2608, 'duschinksi': 1840, 'angana': 305, 'chatterji': 1125, 'sympathiser': 5985, 'amnesty': 288, 'goi': 2410, 'bro': 944, 'western': 6647, 'expacting': 2016, 'baba': 530, 'tribe': 6304, 'action': 93, 'sanction': 5409, 'blacklist': 821, 'happens': 2554, 'benefit': 733, 'forced': 2210, 'prime': 4875, 'minister': 4027, 'officially': 4410, 'worked': 6714, 'commanders': 1255, 'north': 4342, 'expact': 2015, 'pastun': 4629, 'saale': 5334, 'kisi': 3479, 'baitha': 575, 'hua': 2772, 'sbko': 5459, 'pta': 4953, 'tbi': 6073, 'airports': 194, 'hti': 2770, 'jamaat': 3154, 'tumhari': 6337, 'puri': 4979, 'nz': 4381, 'spewing': 5810, 'instability': 2977, 'neighboring': 4270, 'seeks': 5500, 'excuse': 2004, 'domestic': 1785, 'woes': 6700, 'undermining': 6402, 'citizens': 1190, 'raiding': 5050, 'plz': 4780, 'beautiful': 690, 'kejriwal': 3377, 'tratior': 6294, 'planted': 4757, 'naxalist': 4244, 'beings': 717, 'level': 3679, 'extremism': 2048, 'humans': 2787, 'horrific': 2742, 'blamed': 828, 'hande': 2542, 'burning': 985, 'jagmohan': 3135, 'threads': 6188, 'term': 6098, 'reports': 5206, 'centre': 1072, 'jan': 3160, 'mujhadeens': 4135, 'wars': 6597, 'along': 253, 'masses': 3922, 'declare': 1545, 'independent': 2915, 'explosions': 2031, 'stated': 5854, 'plot': 4773, 'decides': 1542, 'em': 1898, 'unfortunately': 6410, 'sudden': 5922, 'meascreants': 3949, 'intruders': 3026, 'lead': 3632, 'tanks': 6044, 'mentorsansar': 3975, 'shekh': 5610, 'intact': 2992, 'harmful': 2577, 'rohangiyas': 5292, 'journos': 3255, 'jehadi': 3199, 'intellectuals': 3000, 'processions': 4890, 'israel': 3100, 'sooon': 5776, 'akbar': 210, 'salman': 5394, 'meerut': 3954, 'charges': 1120, 'smuggling': 5737, 'accuse': 75, 'act': 91, 'school': 5469, 'mosque': 4089, 'humanity': 2786, 'hahah': 2502, 'protection': 4930, 'isl': 3078, 'islmist': 3092, 'jaziya': 3191, 'dene': 1616, 'tareeka': 6052, 'lene': 3666, 'niche': 4306, 'baith': 574, 'considered': 1321, 'nd': 4253, 'grade': 2435, 'person': 4694, 'tere': 6095, 'jaise': 3143, 'chaudhary': 1126, 'jimmi': 3222, 'banne': 629, 'accha': 64, 'convert': 1355, 'hue': 2777, 'thinking': 6173, 'cooking': 1360, 'accepted': 61, 'non': 4330, 'vegonces': 6499, 'peacefully': 4654, 'religion': 5175, 'whatever': 6650, 'national': 4232, 'activitieshow': 100, 'girls': 2390, 'kerala': 3380, 'launguage': 3620, 'attacked': 469, 'officer': 4406, 'yesterday': 6787, 'kahsmir': 3297, 'exactly': 1997, 'party': 4607, 'president': 4864, 'ulf': 6380, 'hinduphobia': 2689, 'constantly': 1331, 'naive': 4207, 'theres': 6152, 'difference': 1702, 'patriotic': 4635, 'nationalist': 4233, 'hear': 2626, 'brainwashed': 920, 'young': 6795, 'kids': 3462, 'videos': 6517, 'preaching': 4855, 'headquarters': 2622, 'plannedand': 4754, 'keya': 3390, 'phir': 4715, 'shahrukh': 5567, 'saif': 5376, 'amir': 285, 'intoleranceamphabitual': 3023, 'byleftists': 1002, 'cum': 1453, 'isichineseterrorists': 3060, 'ideologyelements': 2830, 'threatening': 6191, 'democracyampstone': 1604, 'anyauspiciousoccasions': 339, 'indianstates': 2922, 'wbjhchmpmhkarjtsapklgjampdletc': 6620, 'moreindians': 4085, 'shouldaware': 5634, 'leftists': 3654, 'ideology': 2829, 'elements': 1886, 'democracy': 1603, 'auspicious': 487, 'occasions': 4389, 'wbjhchmpmhkarjtsapklgjampdl': 6619, 'puppets': 4972, 'sitting': 5705, 'argh': 387, 'kissing': 3484, 'safirs': 5364, 'feet': 2128, 'khahenin': 3396, 'khawarij': 3422, 'identify': 2826, 'gleefully': 2396, 'tea': 6074, 'theyre': 6160, 'aggression': 164, 'towards': 6265, 'cuz': 1460, 'nope': 4337, 'regardless': 5140, 'panjabi': 4573, 'chatterjee': 1124, 'related': 5162, 'wonder': 6708, 'gather': 2310, 'audacity': 483, 'sole': 5760, 'purpose': 4982, 'incite': 2899, 'destruction': 1658, 'dirt': 1724, 'society': 5751, 'murderers': 4161, 'ages': 162, 'slavery': 5722, 'americaisrael': 279, 'hmne': 2708, 'kbhi': 3367, 'bhut': 790, 'km': 3492, 'godse': 2407, 'bolne': 877, 'rkhte': 5287, 'hon': 2727, 'pakda': 4536, 'information': 2945, 'share': 5585, 'inspector': 2975, 'raam': 5030, 'dekh': 1583, 'raha': 5039, 'inlogo': 2960, 'mere': 3980, 'yatra': 6772, 'nikala': 4312, 'uksane': 6378, 'taychar': 6070, 'musalman': 4169, 'kahi': 3294, 'lakho': 3586, 'begunah': 710, 'jayega': 3187, 'tab': 6001, 'galti': 2295, 'kiski': 3480, 'banaya': 613, 'claims': 1201, 'associated': 452, 'kehna': 3375, 'toh': 6232, 'bohot': 869, 'mujhe': 4136, 'ghar': 2361, 'aajayegi': 7, 'wajah': 6568, 'hu': 2771, 'bass': 661, 'kami': 3307, 'thi': 6164, 'space': 5793, 'madam': 3821, 'petrol': 4701, 'phenkne': 4711, 'dosaari': 1793, 'kyin': 3559, 'kyun': 3562, 'nahin': 4203, 'kal': 3302, 'sweeden': 5978, 'danga': 1493, 'lagta': 3579, 'entity': 1942, 'balochspukhtuns': 602, 'class': 1203, 'whatsoever': 6652, 'mha': 3994, 'declares': 1547, 'jaish': 3144, 'ashiq': 429, 'ahmed': 177, 'nengroo': 4277, 'individual': 2929, 'uapa': 6366, 'planning': 4755, 'directions': 1721, 'listed': 3722, 'forms': 2224, 'mujahdeen': 4128, 'shelter': 5611, 'openly': 4440, 'praise': 4846, 'shah': 5561, 'shoja': 5628, 'rd': 5092, 'nae': 4197, 'krta': 3535, 'karunga': 3349, 'agr': 169, 'unho': 6412, 'jurm': 3274, 'tou': 6260, 'allah': 231, 'pakar': 4532, 'lay': 3624, 'tarah': 6051, 'saza': 5456, 'ese': 1960, 'milegi': 4007, 'totally': 6259, 'israels': 3102, 'sanghis': 5416, 'koyi': 3519, 'kare': 3327, 'ga': 2277, 'terroristsanghis': 6117, 'caption': 1030, 'photos': 4719, 'vote': 6547, 'bank': 627, 'ak': 204, 'ms': 4120, 'maulvees': 3936, 'drs': 1818, 'engrs': 1929, 'story': 5882, 'jajo': 3149, 'price': 4872, 'jihaadan': 3213, 'common': 1266, 'shantidut': 5581, 'journalist': 3252, 'apologies': 357, 'sponsee': 5817, 'county': 1388, 'bring': 940, 'justice': 3277, 'later': 3614, 'multiple': 4146, 'reference': 5129, 'outfits': 4497, 'rehtoric': 5154, 'article': 417, 'articulated': 418, 'vision': 6536, 'fazili': 2114, 'union': 6416, 'rs': 5311, 'month': 4078, 'complete': 1277, 'phd': 4709, 'pre': 4854, 'arranged': 408, 'stones': 5878, 'brought': 949, 'distributed': 1755, 'whether': 6660, 'weaken': 6626, 'eyes': 2053, 'pe': 4651, 'bhejti': 778, 'chhota': 1137, 'rehkar': 5148, 'ahsaanfaramosh': 179, 'yahan': 6759, 'khate': 3417, 'leke': 3662, 'propeganda': 4920, 'gaddar': 2281, 'aisa': 198, 'ayga': 514, 'jb': 3192, 'shebaz': 5606, 'apni': 355, 'galiyon': 2293, 'dhake': 1681, 'khay': 3424, 'sha': 5557, 'zindabad': 6832, 'jihad': 3214, 'philistine': 4714, 'aqsa': 375, 'israeli': 3101, 'bhonpu': 784, 'kiseke': 3478, 'bahar': 568, 'aakar': 8, 'usko': 6470, 'gali': 2290, 'doge': 1777, 'vo': 6542, 'tumhe': 6338, 'mala': 3858, 'pehnayega': 4665, 'jhagdabaaz': 3210, 'chutti': 1180, 'jayegi': 3188, 'darr': 1506, 'badi': 554, 're': 5093, 'controls': 1352, 'owners': 4510, 'panjab': 4572, 'expect': 2019, 'owner': 4509, 'oh': 4412, 'bakre': 584, 'sarook': 5433, 'drug': 1819, 'lord': 3774, 'makes': 3854, 'himless': 2682, 'gauri': 2312, 'durgs': 1838, 'airport': 193, 'cross': 1433, 'acts': 104, 'simply': 5676, 'migrate': 4002, 'visas': 6534, 'arab': 376, 'agains': 146, 'russians': 5329, 'naxalistjehadi': 4245, 'soniya': 5771, 'ganghi': 2304, 'nac': 4195, 'rehte': 5152, 'agentindia': 158, 'kerne': 3381, 'aai': 6, 'isko': 3075, 'kisse': 3482, 'khatra': 3419, 'sympathizer': 5989, 'iss': 3104, 'hamla': 2534, 'chaheta': 1080, 'kehege': 3374, 'hume': 2791, 'bolege': 876, 'shuruwat': 5645, 'apna': 351, 'dekhiye': 1585, 'ussi': 6473, 'maine': 3845, 'hard': 2573, 'locate': 3745, 'night': 4311, 'carryout': 1041, 'sniper': 5742, 'thermal': 6153, 'imaging': 2865, 'systems': 5999, 'nefarious': 4263, 'talibanis': 6030, 'provide': 4943, 'asli': 437, 'zameen': 6814, 'khali': 3400, 'neutral': 4286, 'ghulami': 2374, 'bardasht': 647, 'kroon': 3534, 'words': 6712, 'tmhare': 6223, 'khadim': 3395, 'rizvi': 5286, 'nay': 4247, 'sae': 5355, 'fasad': 2091, 'puriya': 4981, 'hmay': 2707, 'sakoon': 5384, 'manhoos': 3876, 'hibatullah': 2664, 'trusted': 6323, 'recites': 5116, 'raag': 5029, 'chants': 1116, 'kathmullas': 3361, 'snake': 5739, 'billions': 810, 'debt': 1535, 'fend': 2134, 'itself': 3117, 'loudspeaker': 3789, 'bar': 638, 'hugte': 2779, 'uska': 6468, 'khargaon': 3413, 'murtiya': 4167, 'tod': 6227, 'dhi': 1687, 'patthar': 4639, 'baji': 578, 'mre': 4115, 'jane': 3165, 'kam': 3305, 'thha': 6163, 'dimagi': 1713, 'karan': 3321, 'pute': 4989, 'jyada': 3281, 'grp': 2460, 'mr': 4112, 'pr': 4838, 'rh': 5263, 'maje': 3849, 'seriously': 5539, 'kitna': 3486, 'karta': 3342, 'hun': 2794, 'bakri': 585, 'pelo': 4668, 'say': 5453, 'urban': 6455, 'militants': 4010, 'banner': 631, 'militant': 4009, 'proved': 4940, 'paks': 4560, 'munafiqs': 4151, 'afrasiab': 140, 'saheb': 5369, 'haqq': 2560, 'official': 4409, 'nato': 4239, 'general': 2332, 'secretary': 5484, 'special': 5803, 'envoy': 1946, 'otherwise': 4484, 'word': 6711, 'balochs': 601, 'asylum': 457, 'unama': 6392, 'dat': 1509, 'ciamishe': 1184, 'benon': 739, 'sivan': 5708, 'da': 1462, 'therefore': 6150, 'oppressed': 4456, 'nations': 4236, 'invasion': 3031, 'savage': 5443, 'animal': 311, 'unnatural': 6433, 'end': 1914, 'necessary': 4258, 'peaceful': 4653, 'developmentthe': 1673, 'conditional': 1296, 'independence': 2914, 'sympathizing': 5991, 'showed': 5639, 'loyalty': 3796, 'lie': 3694, 'double': 1796, 'move': 4104, 'expelled': 2022, 'enslaved': 1934, 'sindhi': 5683, 'deception': 1539, 'guns': 2475, 'jsmm': 3257, 'cartoon': 1045, 'heading': 2620, 'labelled': 3565, 'thanks': 6135, 'bajwa': 579, 'extension': 2041, 'lanat': 3590, 'stand': 5843, 'balls': 590, 'monger': 4073, 'genocidal': 2337, 'cowards': 1401, 'hinde': 2686, 'saviours': 5449, 'deterrents': 1665, 'bhartiya': 774, 'civilization': 1196, 'sign': 5661, 'qasims': 5003, 'dreams': 1809, 'increase': 2907, 'activity': 101, 'attempt': 474, 'tora': 6253, 'bora': 897, 'pmik': 4782, 'qasim': 5002, 'nonsense': 4334, 'starts': 5850, 'criminals': 1427, 'damaging': 1489, 'relations': 5164, 'bastrd': 664, 'making': 3855, 'efforts': 1871, 'image': 2862, 'ukraines': 6376, 'elected': 1883, 'toppled': 6252, 'west': 6646, 'plate': 4758, 'constant': 1330, 'feel': 2123, 'feelplease': 2127, 'baloach': 591, 'languages': 3598, 'replaced': 5200, 'mish': 4038, 'mash': 3915, 'arabic': 379, 'hindi': 2687, 'urdu': 6456, 'gutless': 2479, 'calling': 1011, 'fully': 2264, 'spilled': 5812, 'explosives': 2032, 'tag': 6007, 'shd': 5604, 'tlp': 6219, 'plays': 4765, 'card': 1033, 'pmln': 4784, 'agenda': 155, 'appease': 365, 'fathers': 2103, 'westwhich': 6648, 'hefty': 2633, 'stage': 5839, 'protests': 4937, 'stateneeds': 5859, 'blacklisted': 822, 'dept': 1630, 'designate': 1642, 'consorting': 1325, 'channeling': 1112, 'moneys': 4072, 'financial': 2154, 'system': 5997, 'democratic': 1605, 'likes': 3704, 'imaran': 2866, 'labour': 3567, 'area': 383, 'caste': 1049, 'wasabis': 6599, 'sharia': 5595, 'compliance': 1280, 'stateuk': 5864, 'rogue': 5291, 'statehmm': 5855, 'whileyour': 6663, 'parities': 4588, 'especially': 1962, 'votes': 6548, 'election': 1884, 'selling': 5518, 'muslimz': 4177, 'suspended': 5976, 'relief': 5174, 'package': 4516, 'discontinued': 1732, 'sehat': 5505, 'panah': 4568, 'gah': 2285, 'bhooka': 785, 'soye': 5791, 'farmers': 2088, 'dissolving': 1752, 'bets': 754, 'gangster': 2305, 'choose': 1161, 'pick': 4727, 'though': 6182, 'stole': 5876, 'lands': 3596, 'massacred': 3919, 'porkistan': 4816, 'bengali': 736, 'economic': 1858, 'blowers': 855, 'yemen': 6784, 'generations': 2335, 'nice': 4305, 'whites': 6665, 'africa': 141, 'christians': 1172, 'parts': 4606, 'brexit': 935, 'strong': 5895, 'immigration': 2871, 'policy': 4798, 'arming': 395, 'millions': 4015, 'culturally': 1452, 'refugees': 5135, 'mifta': 3998, 'ismail': 3093, 'beneficiary': 732, 'label': 3564, 'happily': 2555, 'fund': 2266, 'complain': 1274, 'sides': 5655, 'yall': 6765, 'blab': 819, 'went': 6641, 'gone': 2414, 'sidhu': 5656, 'holding': 2721, 'relevant': 5173, 'fof': 2192, 'japan': 3174, 'australia': 488, 'quad': 5010, 'protest': 4933, 'democratically': 1606, 'found': 2232, 'met': 3989, 'removing': 5190, 'warnedpls': 6595, 'panel': 4570, 'silence': 5672, 'nonmuslims': 4333, 'secular': 5490, 'aboriginal': 41, 'behest': 713, 'invading': 3030, 'lol': 3756, 'jog': 3240, 'concerted': 1288, 'worse': 6728, 'anywhere': 345, 'anyway': 344, 'illegally': 2859, 'entered': 1938, 'integral': 2994, 'congresswoman': 1316, 'miscreant': 4033, 'trespassing': 6302, 'favour': 2108, 'compare': 1271, 'autocratic': 491, 'neighborhoodin': 4269, 'subcontinentplease': 5909, 'youll': 6794, 'bharatiya': 772, 'harmony': 2579, 'kindly': 3474, 'concrete': 1289, 'continued': 1343, 'rapes': 5076, 'giving': 2395, 'guidance': 2466, 'axed': 505, 'married': 3903, 'omar': 4424, 'legally': 3656, 'instead': 2979, 'apart': 347, 'servant': 5541, 'dictatorship': 1693, 'airstrike': 196, 'kunar': 3548, 'provinces': 4947, 'crucial': 1438, 'yrs': 6806, 'leave': 3645, 'paving': 4643, 'comeback': 1248, 'drone': 1815, 'uzbakistan': 6482, 'iskps': 3077, 'voa': 6543, 'top': 6250, 'platform': 4759, 'gaza': 2318, 'bombardment': 883, 'ukrainian': 6377, 'barbarism': 645, 'semitism': 5521, 'orthodox': 4477, 'jewish': 3208, 'rabbis': 5032, 'dare': 1501, 'semitic': 5520, 'llegal': 3737, 'murderer': 4160, 'hitler': 2702, 'popular': 4809, 'mran': 4114, 'tomorrow': 6240, 'measures': 3950, 'hub': 2773, 'deserve': 1637, 'slap': 5716, 'gorras': 2421, 'shampoo': 5578, 'thesaurus': 6154, 'yapping': 6767, 'entire': 1940, 'soaked': 5745, 'violated': 6524, 'sovereignty': 5787, 'territorial': 6107, 'integrity': 2997, 'intern': 3012, 'norms': 4341, 'lecturing': 3649, 'harbour': 2571, 'heinous': 2636, 'generation': 2334, 'bloodsoaked': 852, 'stupor': 5905, 'downfall': 1801, 'theyve': 6161, 'freemason': 2243, 'satan': 5437, 'worshippers': 6732, 'spoiled': 5815, 'ageold': 160, 'unanimous': 6393, 'concept': 1284, 'certainly': 1075, 'mideast': 3997, 'adamant': 110, 'acknowledging': 88, 'learning': 3641, 'business': 991, 'sanctions': 5413, 'attention': 478, 'gandhis': 2301, 'nehrus': 4266, 'lots': 3787, 'bullshit': 977, 'headquarter': 2621, 'declared': 1546, 'osama': 4479, 'accused': 76, 'requested': 5216, 'participate': 4598, 'socalled': 5746, 'brutality': 953, 'visiting': 6539, 'occupier': 4393, 'unarmed': 6395, 'satanic': 5438, 'cult': 1449, 'amarica': 268, 'master': 3924, 'nurished': 4375, 'havens': 2601, 'victom': 6514, 'definition': 1574, 'laden': 3570, 'bounty': 910, 'dollars': 1784, 'blm': 845, 'antifa': 332, 'front': 2256, 'teresa': 6096, 'fucking': 2261, 'conspiracies': 1326, 'fuck': 2260, 'enjoy': 1930, 'ppp': 4836, 'needed': 4261, 'imf': 2867, 'despite': 1649, 'resources': 5227, 've': 6496, 'surgery': 5964, 'certification': 1076, 'countrydont': 1386, 'shy': 5646, 'refferencei': 5130, 'successfully': 5919, 'certify': 1077, 'purposegoalmoto': 4983, 'existence': 2010, 'spread': 5823, 'noam': 4326, 'chomsky': 1157, 'presidents': 4865, 'atrocities': 466, 'criminalistic': 1426, 'arrogantly': 416, 'blatantly': 835, 'executed': 2005, 'statesman': 5862, 'evicted': 1991, 'pave': 4641, 'baby': 534, 'rouge': 5306, 'garden': 2308, 'path': 4632, 'throw': 6197, 'toons': 6248, 'flames': 2181, 'near': 4257, 'shall': 5573, 'fuels': 2262, 'yesterdays': 6788, 'reconcile': 5120, 'highly': 2675, 'isipak': 3065, 'isisterrorist': 3070, 'won': 6707, 'kpk': 3521, 'federal': 2122, 'harbours': 2572, 'helps': 2648, 'infiltrate': 2937, 'bottomline': 905, 'strategists': 5884, 'partnership': 4605, 'trillion': 6312, 'wasted': 6603, 'duplicitous': 1836, 'tajikistan': 6015, 'wouldve': 6739, 'impose': 2883, 'revert': 5256, 'reply': 5202, 'murdering': 4162, 'machine': 3817, 'declaring': 1548, 'lifeline': 3699, 'kidnapping': 3461, 'raping': 5077, 'womens': 6706, 'stuck': 5901, 'down': 1800, 'loser': 3777, 'drama': 1805, 'kalbhushan': 3303, 'save': 5446, 'retaliation': 5247, 'baluchistan': 608, 'exile': 2008, 'blacklisting': 823, 'diplomatic': 1715, 'isolation': 3097, 'talibani': 6029, 'terroristsbin': 6118, 'statethey': 5863, 'modihow': 4057, 'develop': 1669, 'victory': 6515, 'platformbig': 4760, 'rawkulbhushan': 5089, 'jadhav': 3132, 'decleared': 1549, 'icj': 2821, 'salute': 5395, 'danke': 1497, 'chot': 1169, 'chalna': 1100, 'chahye': 1085, 'nexus': 4297, 'denying': 1619, 'admits': 117, 'properly': 4921, 'depriving': 1629, 'healtheducation': 2624, 'second': 5482, 'crossborder': 1434, 'remains': 5180, 'driving': 1814, 'seat': 5478, 'andhy': 303, 'aata': 16, 'liberation': 3689, 'ky': 3557, 'khilaaf': 3427, 'lar': 3602, 'rahy': 5047, 'phela': 4710, 'riyasat': 5285, 'kaam': 3283, 'jeso': 3205, 'mulk': 4143, 'bani': 625, 'isme': 3094, 'kasur': 3360, 'connected': 1317, 'specifically': 5805, 'ammo': 286, 'doesnt': 1775, 'ahs': 178, 'hypocrite': 2811, 'blaming': 829, 'justify': 3279, 'martyred': 3909, 'gun': 2474, 'battle': 673, 'south': 5785, 'ispr': 3099, 'id': 2822, 'heres': 2654, 'blessed': 840, 'forbidden': 2208, 'swt': 5982, 'enter': 1937, 'paradise': 4580, 'adha': 113, 'zyda': 6841, 'comments': 1258, 'sala': 5391, 'begerat': 705, 'jus': 3275, 'zahir': 6811, 'rha': 5264, 'kra': 3524, 'tumari': 6335, 'chekhan': 1133, 'niklan': 4317, 'insalon': 2968, 'awam': 499, 'nimat': 4319, 'carry': 1039, 'separatist': 5533, 'styled': 5906, 'targeting': 6058, 'indicative': 2926, 'blattp': 836, 'separatists': 5534, 'donot': 1789, 'sad': 5349, 'deeply': 1557, 'saddened': 5351, 'secondly': 5483, 'informed': 2946, 'vineet': 6523, 'nh': 4299, 'afghani': 128, 'balock': 603, 'khud': 3441, 'inko': 2958, 'maarti': 3814, 'kese': 3387, 'wese': 6645, 'abi': 36, 'nandan': 4218, 'yd': 6773, 'kro': 3533, 'muqabla': 4155, 'door': 1792, 'dewagar': 1677, 'three': 6193, 'officers': 4408, 'implementation': 2875, 'agreement': 171, 'cleared': 1208, 'sorry': 5779, 'combating': 1243, 'highest': 2672, 'alert': 220, 'tv': 6353, 'year': 6777, 'hunt': 2798, 'tola': 6235, 'imposed': 2884, 'speeding': 5808, 'across': 90, 'consent': 1319, 'arms': 397, 'idiots': 2833, 'lunch': 3800, 'commando': 1256, 'wipe': 6686, 'blow': 854, 'oneselves': 4430, 'labelling': 3566, 'desperation': 1647, 'justifying': 3280, 'okay': 4415, 'learnt': 3643, 'haha': 2501, 'threats': 6192, 'tiny': 6214, 'tht': 6198, 'conquer': 1318, 'll': 3736, 'crushed': 1442, 'insectsu': 2969, 'achieve': 84, 'able': 40, 'ghadaro': 2353, 'asal': 425, 'thikana': 6168, 'jhanum': 3211, 'bno': 862, 'foj': 2193, 'demagh': 1599, 'khrab': 3437, 'hy': 2805, 'uthaye': 6478, 'pury': 4986, 'mn': 4051, 'balochon': 600, 'uthana': 6477, 'onko': 4433, 'sahulat': 5373, 'osko': 4480, 'uthya': 6480, 'bhakts': 770, 'passed': 4622, 'outs': 4499, 'wing': 6683, 'bangles': 624, 'sharab': 5584, 'pee': 4659, 'mitti': 4048, 'kay': 3365, 'hoe': 2711, 'peshaab': 4699, 'tumko': 6339, 'manay': 3871, 'lanti': 3601, 'politics': 4806, 'rather': 5083, 'focus': 2188, 'management': 3870, 'removed': 5189, 'waste': 6602, 'energy': 1922, 'wholl': 6669, 'stay': 5867, 'leaves': 3646, 'identified': 2825, 'yearold': 6778, 'lance': 3592, 'naik': 4206, 'resident': 5221, 'bannu': 632, 'sepoy': 5536, 'siraj': 5695, 'ud': 6368, 'dera': 1633, 'implications': 2877, 'cpecleadership': 1405, 'sit': 5703, 'put': 4988, 'steady': 5868, 'growth': 2459, 'pakwe': 4563, 'barrier': 653, 'acha': 78, 'pa': 4512, 'baro': 650, 'lgata': 3683, 'napak': 4221, 'arresting': 412, 'tackle': 6005, 'regroup': 5146, 'fenced': 2133, 'rip': 5278, 'lodge': 3749, 'nuke': 4367, 'endia': 1917, 'manipur': 3880, 'nagalandamp': 4199, 'prefer': 4856, 'slaveries': 5721, 'blackmailing': 825, 'meddling': 3951, 'elimination': 1892, 'haunt': 2596, 'decide': 1540, 'confront': 1310, 'conventional': 1354, 'cremate': 1419, 'pagans': 4518, 'purify': 4980, 'profanity': 4896, 'die': 1696, 'daily': 1471, 'basis': 660, 'collide': 1234, 'escalated': 1958, 'nuclear': 4364, 'obnoxious': 4384, 'infidels': 2935, 'embraces': 1903, 'gift': 2384, 'seating': 5479, 'coalition': 1221, 'barks': 649, 'stern': 5873, 'charge': 1119, 'late': 3613, 'sharestwo': 5593, 'public': 4957, 'severely': 5552, 'friendship': 2252, 'chinapak': 1145, 'suffered': 5928, 'eliminate': 1887, 'baluch': 607, 'freeom': 2244, 'fighter': 2145, 'ghaseet': 2366, 'usi': 6466, 'layak': 3626, 'patak': 4631, 'chode': 1152, 'somebody': 5766, 'ibo': 2818, 'weeks': 6636, 'eh': 1874, 'chalnay': 1101, 'inhuman': 2952, 'sons': 5773, 'brave': 926, 'lessons': 3671, 'limits': 3714, 'committing': 1265, 'neutralizing': 4289, 'herself': 2659, 'proofs': 4917, 'butcher': 996, 'sorrow': 5778, 'wazaristan': 6616, 'shaheeds': 5564, 'diedhowever': 1698, 'hetting': 2662, 'minds': 4022, 'personnel': 4696, 'trainings': 6284, 'lacking': 3568, 'itwhat': 3118, 'blame': 827, 'armyquestion': 404, 'truewas': 6319, 'pakistangive': 4547, 'fraction': 2235, 'self': 5514, 'creatrd': 1415, 'stuff': 5903, 'motive': 4099, 'woman': 6703, 'cowardice': 1399, 'earth': 1851, 'interest': 3007, 'besides': 745, 'warfare': 6590, 'fear': 2120, 'outfit': 4496, 'hardcore': 2574, 'fans': 2084, 'neutralized': 4288, 'suggest': 5932, 'tool': 6244, 'brainwashing': 921, 'faction': 2062, 'majeed': 3850, 'brigade': 937, 'shari': 5594, 'rots': 5304, 'eternal': 1974, 'insha': 2970, 'lahore': 3581, 'limelite': 3709, 'kpklots': 3522, 'location': 3746, 'omany': 4423, 'nobody': 4327, 'worried': 6726, 'wreaking': 6740, 'havoc': 2605, 'wheres': 6658, 'barbarians': 643, 'example': 1999, 'chickens': 1138, 'home': 2724, 'roost': 5302, 'sow': 5790, 'wind': 6682, 'reap': 5106, 'whirlwind': 6664, 'theser': 6156, 'timetested': 6213, 'proverbs': 4942, 'protesting': 4935, 'patron': 4637, 'saints': 5378, 'recoiling': 5119, 'retreating': 5250, 'battlefield': 674, 'khawariji': 3423, 'ive': 3119, 'decided': 1541, 'trailer': 6279, 'comrades': 1283, 'spare': 5796, 'mujahideen': 4133, 'nationalists': 4234, 'benglis': 738, 'chaina': 1087, 'economical': 1859, 'corridor': 1370, 'treat': 6296, 'samegive': 5399, 'means': 3948, 'cricket': 1421, 'pic': 4725, 'deep': 1556, 'pundit': 4963, 'huh': 2780, 'legal': 3655, 'annexation': 317, 'gibralter': 2383, 'changez': 1110, 'insurgents': 2989, 'innumerable': 2965, 'attemptsplz': 476, 'withdrawal': 6695, 'fata': 2099, 'surrender': 5968, 'gaining': 2288, 'territory': 6109, 'maintain': 3847, 'healthy': 2625, 'trustworthy': 6324, 'relationship': 5166, 'pakistanfurther': 4546, 'mujahedeen': 4129, 'soviet': 5789, 'wish': 6690, 'musharaf': 4172, 'bombs': 889, 'mujahidin': 4134, 'mujaheden': 4130, 'konsa': 3511, 'zulm': 6839, 'rhi': 5266, 'gharon': 2364, 'walon': 6578, 'ghalti': 2357, 'thodiagar': 6179, 'pakra': 4559, 'pakara': 4533, 'jana': 3161, 'chaiye': 1090, 'thy': 6205, 'bahnis': 571, 'bd': 681, 'wearing': 6632, 'uniforms': 6414, 'stealing': 5870, 'vs': 6551, 'indarnyk': 2911, 'bahni': 570, 'write': 6743, 'manek': 3873, 'ind': 2910, 'disclosed': 1731, 'jitna': 3230, 'mrzi': 4119, 'ghuma': 2376, 'yhi': 6791, 'khungaany': 3446, 'mess': 3985, 'prepared': 4860, 'invaded': 3028, 'sawat': 5451, 'velly': 6502, 'terrorized': 6120, 'locals': 3744, 'picked': 4728, 'doghters': 1778, 'cam': 1014, 'single': 5688, 'survived': 5971, 'ummat': 6386, 'praises': 4847, 'ramzi': 5067, 'yousaf': 6800, 'aimal': 184, 'kansi': 3313, 'criticises': 1429, 'govts': 2431, 'extraditing': 2044, 'laments': 3588, 'accuses': 77, 'expects': 2021, 'heroes': 2657, 'salutes': 5396, 'immense': 2870, 'quarters': 5012, 'hqs': 2764, 'elsewhere': 1896, 'problems': 4887, 'prior': 4877, 'superiors': 5946, 'shown': 5641, 'issuing': 3108, 'imrankhan': 2890, 'coz': 1403, 'small': 5728, 'ready': 5099, 'favor': 2107, 'leaving': 3647, 'weaponsnight': 6630, 'goggles': 2409, 'ammunition': 287, 'casualties': 1050, 'iafsabhinandan': 2816, 'nabi': 4192, 'clash': 1202, 'militns': 4013, 'casualty': 1051, 'commet': 1259, 'bogus': 867, 'fooling': 2203, 'viewersspinning': 6519, 'internal': 3013, 'powerplay': 4832, 'workshortlived': 6719, 'turbulence': 6342, 'reality': 5104, 'armyampindias': 399, 'retrace': 5249, 'steps': 5872, 'agst': 173, 'ampmuslims': 293, 'launched': 3619, 'constructing': 1335, 'fence': 2132, 'repulsed': 5213, 'scores': 5473, 'forcing': 2214, 'withdraw': 6694, 'post': 4823, 'nao': 4220, 'bajaur': 576, 'districtpak': 1757, 'repelled': 5198, 'gunship': 2476, 'helicopters': 2640, 'blown': 856, 'return': 5251, 'unofficially': 6435, 'gifted': 2385, 'mil': 4003, 'weapons': 6629, 'finally': 2153, 'reached': 5094, 'delisting': 1594, 'paying': 4646, 'agreeing': 170, 'takfir': 6023, 'jumma': 3265, 'takfiri': 6024, 'munafiqeen': 4150, 'interesting': 3009, 'armyanybody': 400, 'speaks': 5802, 'gain': 2287, 'breed': 933, 'fed': 2121, 'killers': 3467, 'qabza': 4996, 'drugs': 1820, 'dealers': 1530, 'trafficking': 6276, 'walay': 6573, 'sarah': 5425, 'chuthyay': 1178, 'kashimiris': 3354, 'engaged': 1925, 'backdoor': 545, 'channels': 1113, 'tips': 6215, 'pakistanany': 4542, 'trigger': 6310, 'onus': 4436, 'responsibility': 5236, 'offensive': 4402, 'works': 6718, 'district': 1756, 'pakafghan': 4531, 'prompting': 4915, 'bym': 1003, 'firing': 2168, 'pasni': 4620, 'dialogue': 1691, 'whomterrorists': 6670, 'govtdialogue': 2430, 'relationsdialogues': 5165, 'waitrelations': 6567, 'severed': 5551, 'indiapak': 2923, 'ned': 4259, 'murdabad': 4157, 'zindabaad': 6831, 'intrnational': 3024, 'bordr': 900, 'opend': 4438, 'saturday': 5440, 'watched': 6608, 'docu': 1772, 'cracking': 1410, 'hideout': 2667, 'cave': 1057, 'decorated': 1551, 'pictures': 4730, 'nazia': 4251, 'iqbal': 3050, 'singer': 5685, 'jihads': 3219, 'virgin': 6531, 'sinceutc': 5681, 'protects': 4932, 'danger': 1495, 'iranian': 3053, 'simelteneously': 5674, 'tension': 6091, 'rising': 5282, 'awaran': 501, 'balochistans': 597, 'eu': 1979, 'supplying': 5950, 'providing': 4945, 'bulshit': 978, 'groomed': 2451, 'ik': 2852, 'contained': 1338, 'devoid': 1675, 'wisdom': 6689, 'cheap': 1127, 'cartridge': 1046, 'sympathisers': 5986, 'heshe': 2661, 'abuse': 53, 'offering': 4404, 'punjabis': 4969, 'joke': 3245, 'indepe': 2913, 'descent': 1636, 'indiawhat': 2925, 'pakwill': 4564, 'suddenly': 5923, 'govtsee': 2433, 'results': 5244, 'protective': 4931, 'gear': 2325, 'jawans': 3184, 'ratio': 5085, 'less': 3668, 'quality': 5011, 'masteramerica': 3925, 'gears': 2326, 'int': 2991, 'hideouts': 2668, 'blf': 842, 'bra': 915, 'daesh': 1466, 'jamatulahrar': 3155, 'responds': 5234, 'iea': 2836, 'jumps': 3268, 'crying': 1443, 'victim': 6511, 'khwarij': 3451, 'uphold': 6449, 'accords': 70, 'bragged': 916, 'nds': 4255, 'survival': 5969, 'worthless': 6735, 'seize': 5507, 'exist': 2009, 'heed': 2632, 'tta': 6328, 'hasnt': 2586, 'eliminating': 1891, 'suna': 5937, 'naye': 4249, 'peda': 4658, 'ker': 3379, 'machinery': 3818, 'shazeb': 5603, 'haramzada': 2568, 'interview': 3019, 'thg': 6162, 'prepare': 4859, 'countering': 1382, 'fuly': 2265, 'nationv': 4238, 'successful': 5918, 'defeating': 1563, 'degrading': 1576, 'dismantling': 1743, 'infrastructure': 2947, 'stands': 5847, 'endeavor': 1916, 'succeed': 5916, 'thwarted': 6203, 'taimoor': 6010, 'shoaib': 5625, 'saqab': 5421, 'laid': 3583, 'shangla': 5580, 'grant': 2438, 'ul': 6379, 'firdouspak': 2165, 'cleanup': 1206, 'khawaja': 3420, 'asif': 433, 'spin': 5813, 'period': 4687, 'mosharaf': 4088, 'waa': 6554, 'coward': 1398, 'lied': 3695, 'aq': 374, 'wot': 6736, 'lest': 3672, 'officeropen': 4407, 'rascals': 5079, 'terroristsince': 6119, 'badly': 555, 'itno': 3115, 'shaheed': 5563, 'petty': 4702, 'town': 6267, 'burn': 984, 'neighbours': 4274, 'chatalistan': 1123, 'mistake': 4045, 'britain': 942, 'condumn': 1302, 'standing': 5846, 'express': 2038, 'condolences': 1298, 'bereaved': 741, 'familes': 2078, 'responded': 5233, 'befitting': 701, 'manner': 3882, 'majority': 3852, 'result': 5243, 'comdenm': 1246, 'cases': 1048, 'imrans': 2891, 'falsehood': 2076, 'narrative': 4225, 'conspiracy': 1327, 'raising': 5052, 'concerns': 1287, 'antiamericans': 330, 'accelerated': 59, 'iafs': 2815, 'abhinandan': 34, 'soliders': 5762, 'isp': 3098, 'subscribe': 5913, 'newsone': 4295, 'channel': 1111, 'ignore': 2842, 'proclaiming': 4891, 'eventually': 1984, 'legs': 3659, 'dad': 1464, 'reduced': 5128, 'beggar': 706, 'mils': 4017, 'yeah': 6776, 'approval': 371, 'laws': 3623, 'apply': 368, 'implement': 2874, 'everywhere': 1990, 'obey': 4383, 'demanding': 1601, 'cities': 1188, 'abusing': 56, 'sheltering': 5612, 'citizen': 1189, 'activist': 97, 'wazir': 6617, 'mna': 4052, 'refused': 5137, 'anthem': 328, 'abused': 54, 'incited': 2900, 'strengthen': 5887, 'mrmrsmiss': 4117, 'pandits': 4569, 'warn': 6592, 'moment': 4067, 'pakistanpak': 4553, 'arrest': 409, 'worldpope': 6721, 'vatican': 6495, 'triggering': 6311, 'indiajust': 2918, 'efficiency': 1869, 'guarantee': 2463, 'unstability': 6441, 'wreaths': 6741, 'coffins': 1226, 'equivalent': 1952, 'establishments': 1969, 'associations': 454, 'posts': 4826, 'justified': 3278, 'trace': 6269, 'whereabouts': 6655, 'enough': 1933, 'untill': 6444, 'wrongs': 6745, 'violating': 6525, 'promises': 4910, 'airstrikes': 197, 'collateral': 1232, 'damage': 1487, 'wion': 6685, 'abhinandanwion': 35, 'sharespak': 5592, 'finish': 2161, 'undefeated': 6399, 'core': 1364, 'jihadis': 3216, 'dems': 1613, 'destitute': 1654, 'signaling': 5662, 'tribal': 6303, 'shamsi': 5579, 'politician': 4804, 'court': 1393, 'testify': 6124, 'commits': 1262, 'bangladsh': 623, 'graphic': 2441, 'ssg': 5834, 'snipers': 5743, 'panjgur': 4574, 'defense': 1569, 'evidence': 1992, 'pervious': 4698, 'speech': 5807, 'imported': 2880, 'fayda': 2112, 'maarke': 3812, 'fundamentals': 2269, 'tak': 6017, 'jaayenge': 3128, 'unke': 6426, 'jawanon': 3183, 'hafte': 2500, 'pelte': 4669, 'raho': 5046, 'ceasefire': 1061, 'turant': 6341, 'khatm': 3418, 'roz': 5310, 'thoko': 6180, 'wherever': 6659, 'miscreants': 4034, 'shine': 5620, 'ugly': 6371, 'ptmraised': 4955, 'angor': 308, 'ada': 108, 'ok': 4414, 'hosting': 2747, 'gonna': 2415, 'total': 6258, 'personal': 4695, 'degrees': 1578, 'guess': 2465, 'mrmodi': 4116, 'visited': 6538, 'nawaj': 4242, 'shariffs': 5597, 'congratulatory': 1314, 'messages': 3987, 'pmthey': 4786, 'decencytell': 1538, 'required': 5217, 'havnt': 2604, 'uttered': 6481, 'agnst': 167, 'ghastly': 2367, 'murder': 4159, 'raws': 5090, 'jet': 3206, 'killer': 3466, 'azad': 516, 'kashmirone': 3358, 'kashmirwhose': 3359, 'integrated': 2995, 'several': 5550, 'proindia': 4904, 'rallies': 5062, 'frustrated': 2258, 'colonised': 1237, 'nurturing': 4377, 'stroking': 5894, 'documents': 1773, 'warlord': 6591, 'jawan': 3182, 'mum': 4147, 'haraami': 2565, 'procession': 4889, 'automatically': 492, 'surely': 5963, 'supreme': 5961, 'humanitarian': 2785, 'faulty': 2106, 'upbringing': 6447, 'sanskaars': 5419, 'pushing': 4987, 'turning': 6351, 'shared': 5586, 'indianexpress': 2920, 'ios': 3046, 'app': 360, 'click': 1211, 'download': 1802, 'shield': 5618, 'haste': 2588, 'alot': 254, 'restrain': 5240, 'practiced': 4842, 'lea': 3631, 'repeatedly': 5196, 'interim': 3011, 'react': 5095, 'actionable': 94, 'zor': 6835, 'bolo': 878, 'ura': 6454, 'rakh': 5056, 'iok': 3044, 'soldout': 5759, 'deposed': 1627, 'assume': 455, 'command': 1252, 'ppls': 4835, 'gw': 2484, 'busted': 993, 'grps': 2461, 'zarbazb': 6818, 'undone': 6407, 'div': 1761, 'sovernity': 5788, 'compromised': 1282, 'welldone': 6639, 'nov': 4355, 'afghanpak': 132, 'january': 3172, 'implemented': 2876, 'spokesman': 5816, 'confirm': 1305, 'aadhaar': 2, 'banai': 611, 'gai': 2286, 'pehle': 4664, 'achanak': 80, 'huwe': 2803, 'hrs': 2767, 'karwai': 3350, 'khoostan': 3431, 'kandhar': 3311, 'mary': 3912, 'gvt': 2483, 'ijajat': 2850, 'kills': 3470, 'holy': 2723, 'shehbaz': 5608, 'khores': 3434, 'detriment': 1667, 'nevitably': 4291, 'endanger': 1915, 'bleed': 837, 'hr': 2765, 'violations': 6527, 'vulnerable': 6552, 'gb': 2320, 'plundering': 4778, 'acquisition': 89, 'projects': 4906, 'joint': 3244, 'attitude': 480, 'parasite': 4582, 'cultivated': 1450, 'heard': 2627, 'handled': 2546, 'sources': 5784, 'told': 6237, 'temporary': 6089, 'phase': 4708, 'reverts': 5257, 'often': 4411, 'sq': 5827, 'tries': 6309, 'improvement': 2887, 'nervoushow': 4280, 'huge': 2778, 'budgets': 966, 'corner': 1365, 'plots': 4774, 'sans': 5418, 'derail': 1634, 'balouch': 605, 'quest': 5014, 'balouchistan': 606, 'gdp': 2323, 'whereas': 6656, 'billionsbangladesh': 811, 'focussed': 2190, 'govtsamp': 2432, 'looting': 3772, 'divide': 1764, 'civilmil': 1197, 'defended': 1567, 'aggressively': 166, 'shattered': 5601, 'budget': 965, 'consuming': 1337, 'narratives': 4226, 'backstabed': 551, 'haye': 2607, 'dekho': 1587, 'axeem': 506, 'azeemi': 519, 'organising': 4469, 'spain': 5794, 'noldak': 4329, 'phuking': 4721, 'bunch': 979, 'sunn': 5940, 'amok': 289, 'piece': 4731, 'mistakes': 4046, 'quit': 5020, 'center': 1069, 'azeem': 518, 'organizer': 4473, 'antipakistan': 337, 'soul': 5781, 'motherlands': 4096, 'korea': 3514, 'peacekeeping': 4656, 'joking': 3248, 'afgs': 137, 'incl': 2901, 'inter': 3006, 'mainly': 3846, 'banuk': 634, 'knew': 3495, 'greylist': 2448, 'financing': 2156, 'fundamental': 2267, 'question': 5015, 'lovely': 3792, 'daughters': 1514, 'ultimate': 6381, 'introspect': 3025, 'norm': 4339, 'baloochistan': 604, 'progressing': 4902, 'kistan': 3485, 'expoding': 2034, 'sanctionpakistan': 5412, 'affairs': 124, 'delegation': 1588, 'mss': 4121, 'mps': 4110, 'aapne': 14, 'bilkul': 806, 'ghabrana': 2351, 'amu': 295, 'abasin': 24, 'historical': 2699, 'gwadar': 2485, 'balochafghan': 593, 'practical': 4839, 'examination': 1998, 'atleast': 464, 'ccp': 1059, 'selfsacrifice': 5515, 'ops': 4458, 'cctv': 1060, 'footage': 2204, 'brigades': 938, 'shocking': 5627, 'childrens': 1142, 'courage': 1391, 'loved': 3791, 'motherland': 4095, 'balochistanlong': 596, 'believes': 722, 'male': 3859, 'supremacy': 5960, 'prevalent': 4869, 'reigns': 5158, 'brazenly': 927, 'ignoring': 2844, 'abuses': 55, 'unwavering': 6445, 'facilitator': 2058, 'mentor': 3974, 'demonstrated': 1611, 'pin': 4739, 'success': 5917, 'appears': 364, 'narcotics': 4224, 'cartels': 1042, 'misery': 4037, 'external': 2042, 'intervention': 3018, 'disrupting': 1748, 'dubious': 1831, 'swindle': 5980, 'firm': 2169, 'stance': 5842, 'trouble': 6316, 'terrible': 6104, 'barbaric': 644, 'thesocalled': 6157, 'peacekeeperswhile': 4655, 'ensuring': 1936, 'above': 43, 'alleviate': 238, 'sufferings': 5930, 'afghanswho': 135, 'appalling': 361, 'conditions': 1297, 'driver': 1813, 'explosion': 2030, 'outside': 4500, 'confucius': 1311, 'institute': 2981, 'afghansis': 134, 'admitting': 118, 'haveconductedairstrikes': 2599, 'incompetent': 2906, 'entities': 1941, 'illegitimate': 2860, 'appear': 363, 'pathetic': 4634, 'bhikharistan': 781, 'tabah': 6002, 'denge': 1617, 'van': 6490, 'armymen': 403, 'eliminated': 1888, 'sararogha': 5427, 'chiness': 1147, 'anothr': 324, 'facing': 2060, 'tough': 6261, 'surviving': 5972, 'voices': 6545, 'falling': 2074, 'deaf': 1527, 'ears': 1850, 'leadership': 3635, 'deliberately': 1592, 'abandoned': 23, 'clown': 1218, 'moves': 4107, 'palace': 4565, 'king': 3475, 'circus': 1187, 'turkish': 6346, 'proverb': 4941, 'counterfeit': 1381, 'notes': 4349, 'transporting': 6288, 'footprints': 2205, 'asia': 432, 'almueddin': 249, 'revolutionary': 5260, 'algeria': 222, 'frenchmen': 2245, 'banned': 630, 'practising': 4844, 'built': 971, 'sahara': 5368, 'preserve': 4863, 'values': 6489, 'trash': 6293, 'map': 3888, 'loyee': 3797, 'afghnaistan': 136, 'pirate': 4742, 'perhaps': 4685, 'gang': 2303, 'pashtunism': 4616, 'bet': 747, 'insult': 2988, 'pirates': 4743, 'separate': 5531, 'battles': 675, 'ketch': 3388, 'wtf': 6748, 'progressive': 4903, 'phukedup': 4720, 'patroizing': 4636, 'youscarypoos': 6801, 'destabilise': 1650, 'thankfully': 6134, 'themscaaaary': 6143, 'ridiculous': 5271, 'sideline': 5654, 'looks': 3766, 'sham': 5574, 'unitys': 6420, 'puppies': 4973, 'hereeven': 2653, 'sincerely': 5680, 'honestly': 2730, 'intandem': 2993, 'ats': 467, 'seized': 5508, 'kgs': 3393, 'worth': 6734, 'approx': 372, 'crore': 1431, 'boat': 864, 'haj': 2516, 'crew': 1420, 'arabian': 378, 'sea': 5476, 'maharashtra': 3840, 'shree': 5643, 'ram': 5064, 'punish': 4964, 'shiv': 5624, 'sena': 5522, 'goons': 2420, 'chant': 1114, 'hanuman': 2550, 'chalisa': 1097, 'namaj': 4212, 'road': 5289, 'kapoor': 3315, 'plea': 4766, 'sc': 5460, 'summer': 5935, 'blocks': 849, 'disinformation': 1741, 'blocked': 848, 'viewership': 6518, 'crores': 1432, 'accident': 65, 'chaos': 1117, 'perfect': 4679, 'opportunity': 4452, 'broker': 946, 'boost': 894, 'afpak': 138, 'mercilessly': 3978, 'rant': 5074, 'gusto': 2478, 'practically': 4840, 'solutions': 5764, 'unanimously': 6394, 'plight': 4771, 'beingexploitedfrom': 716, 'assistance': 450, 'perilous': 4686, 'situation': 5706, 'fortunate': 2227, 'owes': 4507, 'assist': 449, 'desir': 1645, 'hero': 2656, 'flowers': 2186, 'devotion': 1676, 'discussing': 1738, 'cannot': 1026, 'mericilessly': 3983, 'senior': 5527, 'ministry': 4028, 'site': 5704, 'survivors': 5973, 'widely': 6676, 'practice': 4841, 'beset': 742, 'neighbors': 4271, 'malicious': 3861, 'massacre': 3918, 'prevalence': 4868, 'unsurprising': 6442, 'assertain': 447, 'preoccupied': 4858, 'ukrainerussia': 6375, 'conflict': 1308, 'ignored': 2843, 'repercussions': 5199, 'harbors': 2570, 'denials': 1618, 'carnage': 1036, 'essential': 1963, 'hardwork': 2575, 'dedication': 1553, 'promise': 4908, 'bold': 875, 'seizes': 5509, 'twice': 6359, 'conflicts': 1309, 'relaxed': 5167, 'watan': 6604, 'darbadar': 1500, 'agrees': 172, 'extend': 2039, 'bailout': 573, 'programme': 4900, 'loan': 3741, 'size': 5709, 'billionaapne': 809, 'ghabran': 2350, 'lete': 3675, 'rehna': 5150, 'centers': 1070, 'inflation': 2942, 'stagflation': 5840, 'excepted': 2002, 'rules': 5318, 'billion': 808, 'lose': 3776, 'shouldve': 5635, 'alone': 252, 'lick': 3692, 'putins': 4991, 'xis': 6751, 'xi': 6750, 'tricks': 6306, 'hq': 2762, 'islamabad': 3080, 'june': 3270, 'supportersapologists': 5955, 'produced': 4893, 'afghanistans': 131, 'isolated': 3096, 'discredited': 1734, 'lion': 3720, 'village': 6522, 'reynards': 5261, 'eat': 1857, 'bagram': 564, 'taiwan': 6012, 'taiwanese': 6013, 'covert': 1397, 'rahmatullah': 5045, 'nabil': 4193, 'resistance': 5223, 'firmly': 2171, 'european': 1981, 'dominated': 1786, 'couldnt': 1377, 'cows': 1402, 'goats': 2404, 'monsters': 4076, 'conducting': 1301, 'rahai': 5040, 'murdaro': 4158, 'islami': 3083, 'lartai': 3607, 'howai': 2760, 'confirmation': 1306, 'taiban': 6008, 'aircraft': 191, 'airspace': 195, 'logar': 3751, 'damages': 1488, 'expected': 2020, 'info': 2944, 'terroristbhikari': 6115, 'humble': 2790, 'struggle': 5899, 'sunday': 5939, 'armenia': 392, 'marks': 3900, 'armenians': 393, 'ottoman': 4486, 'empire': 1906, 'languishes': 3599, 'jealous': 3195, 'dislodge': 1742, 'tutega': 6352, 'inaugurate': 2893, 'foundation': 2233, 'factions': 2063, 'angry': 309, 'overthrowing': 4505, 'corp': 1367, 'comd': 1245, 'mullah': 4144, 'wahhabism': 6561, 'zai': 6812, 'decisionmakers': 1544, 'completely': 1278, 'accountable': 73, 'gross': 2452, 'province': 4946, 'militancy': 4008, 'risen': 5280, 'incessantly': 2895, 'wretched': 6742, 'gamble': 2296, 'seven': 5549, 'journalists': 3253, 'torture': 6255, 'extrajudicial': 2045, 'executions': 2006, 'threatened': 6190, 'assassinated': 445, 'decision': 1543, 'intended': 3004, 'neighbourhood': 4273, 'however': 2761, 'increased': 2908, 'brunt': 950, 'invest': 3033, 'tamils': 6042, 'eelam': 1868, 'sinhalese': 5689, 'legit': 3657, 'position': 4819, 'tamil': 6039, 'sale': 5392, 'tamileelam': 6040, 'belongs': 727, 'nadu': 4196, 'prevent': 4870, 'madrassahs': 3831, 'seed': 5497, 'highlighted': 2674, 'deafeningly': 1528, 'occur': 4396, 'protected': 4928, 'subjected': 5912, 'defied': 1571, 'boundaries': 907, 'tight': 6208, 'grip': 2449, 'dissenting': 1750, 'destroyed': 1656, 'establishing': 1967, 'hotspots': 2752, 'possible': 4822, 'joker': 3246, 'becoming': 696, 'yaqub': 6769, 'representative': 5208, 'lying': 3805, 'acting': 92, 'considers': 1322, 'compared': 1272, 'aggressions': 165, 'violation': 6526, 'terrorsit': 6121, 'mass': 3917, 'dying': 1846, 'hunger': 2796, 'creatures': 1416, 'trumps': 6321, 'insurrection': 2990, 'quetta': 5018, 'hashtag': 2583, 'listening': 3724, 'helped': 2645, 'divert': 1762, 'civil': 1193, 'ethnisazation': 1977, 'publicity': 4958, 'campaign': 1020, 'released': 5170, 'narrowminded': 4227, 'breeding': 934, 'dc': 1522, 'cheat': 1128, 'brigadier': 939, 'colonel': 1235, 'commandant': 1253, 'sanctioned': 5410, 'bloated': 846, 'ego': 1872, 'sunnidominated': 5943, 'elite': 1893, 'refuses': 5138, 'budge': 964, 'components': 1281, 'prosper': 4924, 'muted': 4180, 'relentless': 5172, 'cultural': 1451, 'alienated': 228, 'dissatisfied': 1749, 'egregious': 1873, 'standards': 5845, 'seek': 5499, 'inch': 2896, 'normal': 4340, 'punishing': 4966, 'coldhearted': 1230, 'watchdogs': 6607, 'solidarity': 5761, 'miserable': 4035, 'portraying': 4817, 'contributors': 1348, 'remorse': 5186, 'deadly': 1526, 'plotting': 4775, 'resorting': 5225, 'heinousness': 2637, 'confessing': 1303, 'demonstrates': 1612, 'benchmark': 731, 'meets': 3957, 'demands': 1602, 'homes': 2726, 'longterm': 3763, 'girl': 2389, 'kaveeta': 3364, 'kolhi': 3507, 'forcefully': 2211, 'converted': 1356, 'beaten': 686, 'refuse': 5136, 'famous': 2081, 'recoupment': 5123, 'islamifobia': 3085, 'pilot': 4737, 'fatima': 2104, 'supposedly': 5958, 'punjabsindh': 4970, 'klling': 3490, 'womenchildren': 6705, 'koshtafghanistan': 3516, 'pakistanafghanistan': 4541, 'sisters': 5702, 'killeding': 3465, 'pashtunkhwa': 4618, 'terrorisms': 6113, 'pashtunistan': 4617, 'sindhudesh': 5684, 'teach': 6075, 'interested': 3008, 'gul': 2470, 'opinion': 4447, 'bakistan': 583, 'drawing': 1806, 'junta': 3273, 'matters': 3934, 'foes': 2191, 'pakmilitary': 4558, 'regular': 5147, 'folks': 2195, 'sofor': 5752, 'animals': 312, 'middle': 3996, 'directing': 1720, 'meetings': 3956, 'pakistanbacked': 4543, 'prisoners': 4881, 'icc': 2820, 'hold': 2719, 'safety': 5363, 'khalilzad': 3402, 'hamid': 2533, 'harzai': 2581, 'choked': 1154, 'slaughtered': 5719, 'thievery': 6166, 'kandahar': 3309, 'manned': 3881, 'occupants': 4390, 'occupying': 4395, 'kick': 3455, 'repeated': 5195, 'resurgence': 5245, 'replenish': 5201, 'coffers': 1225, 'prolong': 4907, 'reign': 5157, 'pass': 4621, 'hellfire': 2642, 'mistreat': 4047, 'anger': 306, 'teacher': 6076, 'shaytan': 5602, 'occupies': 4394, 'eliminates': 1890, 'digging': 1707, 'helpless': 2647, 'lengthy': 3667, 'restore': 5239, 'fled': 2182, 'larger': 3604, 'process': 4888, 'export': 2035, 'literally': 3725, 'kiddnaping': 3458, 'hafiz': 2499, 'bahadurmore': 566, 'awaited': 497, 'lecture': 3648, 'opposite': 4455, 'panjgurbalochistan': 4575, 'mysterious': 4186, 'murders': 4163, 'everyday': 1987, 'throughout': 6196, 'rasoul': 5081, 'mangal': 3874, 'paktia': 4562, 'tortured': 6256, 'sect': 5487, 'republics': 5212, 'unimaginably': 6415, 'horrifying': 2743, 'calm': 1013, 'closed': 1214, 'grossly': 2453, 'inkompetent': 2959, 'betrayer': 753, 'antinationalist': 336, 'disturbance': 1759, 'awake': 498, 'setup': 5548, 'pc': 4649, 'miss': 4039, 'defrance': 1575, 'sony': 5774, 'pashtoon': 4613, 'friendly': 2250, 'reminder': 5184, 'jun': 3269, 'answer': 326, 'bleeding': 838, 'rations': 5086, 'accountability': 72, 'steal': 5869, 'food': 2202, 'aid': 181, 'sects': 5489, 'bond': 890, 'bin': 812, 'poverty': 4829, 'onions': 4432, 'starved': 5852, 'seattle': 5480, 'depicts': 1625, 'struggles': 5900, 'canada': 1023, 'sponsor': 5819, 'orchestrated': 4461, 'takeover': 6021, 'talks': 6037, 'deceive': 1537, 'recognize': 5118, 'rescue': 5218, 'prayers': 4851, 'islamophobic': 3089, 'endorse': 1919, 'morning': 4086, 'therere': 6151, 'signs': 5665, 'terms': 6102, 'immediate': 2868, 'wt': 6747, 'hill': 2680, 'avoiding': 495, 'cruel': 1439, 'wherein': 6657, 'innate': 2961, 'belief': 720, 'visavis': 6535, 'continuance': 1341, 'experiencing': 2023, 'warning': 6596, 'sense': 5528, 'developments': 1672, 'message': 3986, 'condition': 1295, 'pakistanbred': 4544, 'breathing': 932, 'population': 4810, 'consumed': 1336, 'backs': 550, 'savagery': 5444, 'shift': 5619, 'form': 2221, 'below': 729, 'profile': 4898, 'worship': 6729, 'northing': 4343, 'madrassas': 3832, 'brutalise': 952, 'issued': 3106, 'communications': 1267, 'technology': 6081, 'pubg': 4956, 'tiktok': 6209, 'terrrist': 6123, 'ied': 2837, 'convoyin': 1359, 'nangarhar': 4219, 'tricolour': 6307, 'kandaharafghanistan': 3310, 'torturing': 6257, 'abducting': 27, 'rape': 5075, 'organs': 4474, 'notice': 4351, 'pants': 4577, 'ampdemanding': 292, 'colleges': 1233, 'restrictions': 5242, 'burqa': 988, 'wellfor': 6640, 'sometimes': 5769, 'wrote': 6746, 'lessdiplomatically': 3669, 'stateless': 5856, 'cancer': 1024, 'frustration': 2259, 'planes': 4751, 'perpetrators': 4692, 'partys': 4608, 'super': 5944, 'benefits': 734, 'none': 4331, 'armies': 394, 'respond': 5232, 'oppressive': 4457, 'neighbor': 4268, 'deserves': 1639, 'designation': 1644, 'genocides': 2339, 'importing': 2882, 'pine': 4740, 'nuts': 4378, 'daddy': 1465, 'tajiks': 6016, 'terorrist': 6103, 'neighoursthats': 4275, 'scary': 5465, 'bag': 559, 'grape': 2440, 'standard': 5844, 'seemingly': 5501, 'notch': 4346, 'footsteps': 2206, 'terrified': 6105, 'flags': 2180, 'spit': 5814, 'venom': 6503, 'trend': 6299, 'daal': 1463, 'khor': 3432, 'napaki': 4222, 'rulings': 5320, 'munafiq': 4149, 'hrw': 2768, 'scaring': 5464, 'alive': 229, 'sanctioning': 5411, 'nest': 4281, 'images': 2863, 'emanate': 1899, 'terriost': 6106, 'yuthiya': 6808, 'nashedi': 4228, 'pinki': 4741, 'peerni': 4662, 'statesisisamphimarti': 5861, 'emulating': 1909, 'systematically': 5998, 'targetting': 6060, 'shias': 5615, 'lesson': 3670, 'quite': 5021, 'breached': 929, 'dirtystan': 1726, 'infact': 2933, 'borrowed': 903, 'shed': 5607, 'naivety': 4208, 'saga': 5365, 'destabilizing': 1651, 'rampant': 5066, 'migrant': 4001, 'favoured': 2109, 'pawns': 4644, 'exploitative': 2029, 'pursuing': 4985, 'agendas': 156, 'exploitation': 2028, 'radicalism': 5035, 'realities': 5103, 'expm': 2033, 'envisioned': 1945, 'delivered': 1596, 'broken': 945, 'shackles': 5560, 'jump': 3266, 'investigation': 3037, 'committee': 1264, 'absence': 48, 'policies': 4797, 'risk': 5283, 'terrorsite': 6122, 'tajik': 6014, 'sprite': 5825, 'born': 901, 'shooting': 5630, 'extra': 2043, 'barrage': 651, 'smallest': 5730, 'authorities': 490, 'questioned': 5016, 'goes': 2408, 'apathetically': 348, 'pursue': 4984, 'deobandi': 1620, 'beat': 685, 'toor': 6249, 'protestors': 4936, 'instigated': 2980, 'protested': 4934, 'mir': 4031, 'asma': 438, 'shirazi': 5621, 'fawad': 2111, 'husain': 2800, 'jago': 3136, 'establish': 1965, 'caliphate': 1008, 'sadly': 5353, 'learns': 3642, 'dump': 1833, 'loses': 3778, 'cartons': 1044, 'suck': 5921, 'witch': 6692, 'vll': 6541, 'jamshed': 3159, 'dasti': 1507, 'miftah': 3999, 'sharem': 5589, 'mager': 3836, 'nah': 4200, 'ati': 463, 'fazlu': 2115, 'kahan': 3293, 'kahy': 3298, 'jinoh': 3227, 'baad': 523, 'ummrah': 6387, 'ly': 3803, 'deeds': 1554, 'ary': 421, 'hakoomat': 2520, 'fastai': 2097, 'hathkandey': 2593, 'manzoor': 3887, 'baten': 667, 'krni': 3532, 'amal': 267, 'krn': 3529, 'dushman': 1841, 'subha': 5910, 'bera': 740, 'gharq': 2365, 'klye': 3491, 'bethy': 751, 'nikale': 4313, 'ankhain': 315, 'unki': 6427, 'riddance': 5270, 'hour': 2753, 'sleep': 5724, 'jokers': 3247, 'laughing': 3617, 'stock': 5875, 'sigh': 5658, 'maryam': 3913, 'safdar': 5359, 'zara': 6817, 'iska': 3074, 'hisaaab': 2697, 'dein': 1582, 'shareefon': 5588, 'toolay': 6245, 'chooron': 1160, 'khandaan': 3408, 'ghareebon': 2362, 'lootnay': 3773, 'importedhakoomatnamanzoor': 2881, 'jinnahs': 3226, 'era': 1953, 'trends': 6301, 'decline': 1550, 'counter': 1380, 'gaddaro': 2282, 'mehfil': 3959, 'lagi': 3578, 'nsc': 4361, 'yai': 6762, 'ghulamo': 2375, 'liay': 3686, 'zehni': 6824, 'hazam': 2610, 'hoti': 2751, 'saraa': 5423, 'chor': 1163, 'garaha': 2307, 'queta': 5017, 'lotnaa': 3784, 'antiarmy': 331, 'thousand': 6185, 'tweetsthe': 6357, 'tweets': 6355, 'tweetsduring': 6356, 'friday': 2248, 'hashtags': 2584, 'unacceptable': 6391, 'twitter': 6360, 'explicitly': 2027, 'bee': 698, 'mqm': 4111, 'kee': 3369, 'trah': 6278, 'aakhri': 10, 'jhuuty': 3212, 'hakuumat': 2521, 'proud': 4938, 'ambassador': 271, 'dry': 1823, 'stain': 5841, 'smell': 5731, 'spam': 5795, 'follower': 2198, 'nudeskindly': 4365, 'unfollow': 6408, 'kia': 3453, 'update': 6448, 'boil': 871, 'idk': 2834, 'aris': 389, 'malik': 3864, 'ejaz': 1878, 'awan': 500, 'dated': 1512, 'yh': 6790, 'bewaqoof': 758, 'smjh': 5732, 'nei': 4267, 'maan': 3809, 'lena': 3665, 'jin': 3223, 'pas': 4609, 'taqat': 6046, 'corruption': 1373, 'burai': 981, 'smjte': 5734, 'afsos': 143, 'patwari': 4640, 'allama': 233, 'apney': 354, 'taya': 6069, 'abu': 51, 'khandani': 3410, 'karobaar': 3339, 'madad': 3820, 'kertey': 3384, 'hoey': 2712, 'boot': 895, 'polish': 4799, 'cherryblossom': 1134, 'rubbish': 5315, 'clips': 1212, 'sudharo': 5924, 'karao': 3322, 'hukumat': 2781, 'hakomat': 2519, 'ray': 5091, 'tayyar': 6071, 'bachao': 538, 'trapped': 6290, 'zardaari': 6819, 'sahab': 5367, 'armatures': 390, 'amateurs': 269, 'puraana': 4975, 'hats': 2595, 'wc': 6622, 'gradually': 2436, 'logon': 3754, 'nro': 4359, 'chahy': 1084, 'wajh': 6569, 'pakistanio': 4550, 'doud': 1798, 'pia': 4724, 'hoa': 2710, 'apny': 356, 'aik': 183, 'oulad': 4487, 'insaan': 2966, 'usy': 6474, 'rokny': 5295, 'koshish': 3515, 'kry': 3538, 'lga': 3682, 'aag': 4, 'nhe': 4300, 'roky': 5296, 'smjo': 5733, 'gadaar': 2280, 'mansehra': 3884, 'sy': 5983, 'installed': 2978, 'ridin': 5272, 'hunnid': 2797, 'drum': 1821, 'purana': 4976, 'evils': 1994, 'vip': 6530, 'makkah': 3857, 'hassan': 2587, 'attending': 477, 'shabaz': 5558, 'crown': 1437, 'prince': 4876, 'secrets': 5486, 'factory': 2064, 'reporting': 5205, 'antiislam': 334, 'fine': 2158, 'humility': 2792, 'boundless': 909, 'determination': 1663, 'resolve': 5224, 'haqumat': 2563, 'mamzoor': 3867, 'arrives': 415, 'perform': 4680, 'umrah': 6388, 'prays': 4853, 'ummah': 6385, 'assalamoalaikumwrt': 441, 'wbk': 6621, 'teaching': 6078, 'erasing': 1955, 'longendangered': 3761, 'speakers': 5800, 'liberating': 3688, 'urduspeaking': 6457, 'imperialists': 2873, 'nepotism': 4279, 'saab': 5332, 'jee': 3197, 'kis': 3477, 'nehj': 4265, 'ley': 3680, 'gaye': 2317, 'hay': 2606, 'kohum': 3504, 'surprise': 5966, 'fida': 2139, 'kurwayein': 3551, 'pakistanioon': 4551, 'baney': 617, 'turhath': 6344, 'lur': 3802, 'purey': 4978, 'saving': 5448, 'choro': 1165, 'betawo': 748, 'san': 5406, 'francisco': 2237, 'apnay': 352, 'kiye': 3489, 'alfaz': 221, 'mukkar': 4139, 'sabooton': 5340, 'value': 6488, 'bara': 639, 'quizs': 5022, 'margaret': 3896, 'thatcher': 6138, 'mejor': 3961, 'indira': 2927, 'podra': 4787, 'haber': 2494, 'sido': 5657, 'asesinada': 427, 'pakistn': 4557, 'en': 1910, 'chile': 1143, 'marinovic': 3897, 'hubieron': 2774, 'segn': 5504, 'algunos': 224, 'el': 1881, 'est': 1964, 'bien': 797, 'dicho': 1692, 'aunque': 484, 'es': 1957, 'preferible': 4857, 'hubo': 2775, 'algunas': 223, 'senginuka': 5525, 'perfume': 4684, 'yase': 6771, 'dhee': 1686, 'kus': 3552, 'kanjra': 3312, 'tera': 6094, 'chana': 1104, 'gaaf': 2278, 'ghusayen': 2378, 'sar': 5422, 'kafan': 3291, 'baandh': 524, 'haiya': 2514, 'dalley': 1486, 'bachen': 540, 'geyya': 2349, 'bachey': 541, 'subsidies': 5914, 'unchanged': 6397, 'advice': 119, 'uae': 6365, 'discuss': 1737, 'regional': 5144, 'kidher': 3459, 'ayan': 510, 'azhar': 521, 'rai': 5049, 'dai': 1469, 'pabandi': 4515, 'lagane': 3575, 'chahtay': 1083, 'cousin': 1395, 'trending': 6300, 'lag': 3573, 'phuppo': 4722, 'khala': 3398, 'gein': 2327, 'embarrassment': 1900, 'reinstalled': 5159, 'eye': 2051, 'dekha': 1584, 'mai': 3842, 'zameer': 6815, 'farosh': 2089, 'ameer': 277, 'inshaallah': 2971, 'similar': 5675, 'spectator': 5806, 'munawar': 4153, 'mamund': 3866, 'guard': 2464, 'injuring': 2956, 'snd': 5741, 'moments': 4068, 'peolples': 4674, 'chance': 1105, 'almighty': 247, 'safeaameen': 5361, 'baaz': 529, 'jitni': 3231, 'ezat': 2054, 'pora': 4812, 'janta': 3169, 'bazar': 677, 'akaily': 206, 'chakar': 1091, 'ackan': 86, 'voton': 6549, 'pehni': 4666, 'selected': 5511, 'bana': 610, 'loton': 3786, 'sari': 5430, 'ouqaat': 4488, 'samny': 5404, 'jaye': 3186, 'sharifs': 5598, 'amid': 282, 'pml': 4783, 'lanta': 3600, 'yaad': 6754, 'rakhna': 5059, 'insaf': 2967, 'pasad': 4611, 'huqam': 2799, 'kaya': 3366, 'bap': 635, 'karay': 3323, 'pher': 4712, 'chahay': 1079, 'raat': 5031, 'bajay': 577, 'adalat': 109, 'khol': 3429, 'jaya': 3185, 'bacha': 535, 'bazi': 678, 'iks': 2853, 'ksa': 3539, 'royals': 5309, 'sister': 5701, 'hospital': 2744, 'debate': 1534, 'consists': 1324, 'england': 1927, 'lye': 3804, 'karain': 3319, 'janty': 3171, 'bahadur': 565, 'sakty': 5390, 'akhri': 212, 'umeed': 6384, 'shares': 5590, 'penal': 4672, 'code': 1223, 'yehi': 6781, 'dastoor': 1508, 'jungle': 3271, 'poorane': 4808, 'zenda': 6826, 'abad': 22, 'painda': 4524, 'achuka': 85, 'nuksan': 4369, 'pohnchaana': 4788, 'waloon': 6579, 'nesto': 4282, 'nabood': 4194, 'amin': 284, 'wached': 6557, 'mones': 4070, 'neya': 4298, 'shahzad': 5568, 'waqt': 6588, 'tarekh': 6054, 'gharion': 2363, 'lamhon': 3589, 'khta': 3438, 'sadion': 5352, 'paipakistan': 4528, 'den': 1614, 'dehare': 1579, 'daka': 1475, 'dal': 1482, 'gia': 2381, 'gy': 2486, 'nasleen': 4230, 'hongi': 2734, 'grace': 2434, 'sarwar': 5434, 'ia': 2813, 'default': 1560, 'reaction': 5097, 'overseas': 4503, 'taxes': 6068, 'tax': 6067, 'umarah': 6383, 'felt': 2130, 'betrayed': 752, 'hona': 2728, 'chahiyay': 1081, 'ghalut': 2358, 'karey': 3329, 'jootay': 3250, 'kerta': 3382, 'bush': 990, 'joota': 3249, 'para': 4579, 'deserved': 1638, 'shareef': 5587, 'manipulating': 3878, 'situations': 5707, 'chances': 1106, 'sighting': 5660, 'moon': 4082, 'meteorological': 3990, 'suadis': 5907, 'lanati': 3591, 'shaitan': 5570, 'recieve': 5115, 'criminalconvicted': 1425, 'fellow': 2129, 'massage': 3921, 'impossed': 2885, 'seriouslywhole': 5540, 'ture': 6343, 'couldve': 1378, 'blackmailed': 824, 'mnas': 4053, 'constituency': 1332, 'kept': 3378, 'blunders': 858, 'costly': 1375, 'recover': 5124, 'ppppmln': 4837, 'bound': 906, 'fraternal': 2239, 'marked': 3898, 'mutual': 4182, 'understanding': 6404, 'cooperation': 1361, 'abiding': 37, 'tradition': 6274, 'barhi': 648, 'maanoosiat': 3810, 'ahl': 175, 'ayal': 509, 'khush': 3449, 'rakhe': 5058, 'shukar': 5644, 'allhumdulillah': 239, 'actress': 103, 'finished': 2162, 'mashwara': 3916, 'lia': 3685, 'pegham': 4663, 'dain': 1472, 'niklain': 4316, 'quomi': 5024, 'yakjehti': 6764, 'nazar': 4250, 'ai': 180, 'taasar': 6000, 'jbky': 3193, 'pori': 4815, 'quom': 5023, 'synonymous': 5994, 'bajwas': 581, 'inflammable': 2941, 'associating': 453, 'institution': 2983, 'existential': 2011, 'mengai': 3969, 'howa': 2759, 'babloo': 533, 'aye': 511, 'begarat': 704, 'aurat': 486, 'jawab': 3181, 'pharmaceutical': 4707, 'goods': 2417, 'decreases': 1552, 'extreme': 2046, 'outages': 4495, 'heatwave': 2628, 'disrupt': 1747, 'arrived': 414, 'prayed': 4850, 'prosperity': 4925, 'looters': 3771, 'calculated': 1007, 'selfserving': 5516, 'bribes': 936, 'withmay': 6697, 'eid': 1875, 'parson': 4594, 'hayye': 2609, 'chand': 1107, 'manifesto': 3877, 'petition': 4700, 'manipulation': 3879, 'mof': 4059, 'fbr': 2117, 'balancer': 587, 'distortion': 1753, 'coherence': 1227, 'economies': 1860, 'character': 1118, 'devil': 1674, 'konuda': 3513, 'rnek': 5288, 'vereyim': 6504, 'lkeye': 3735, 'gelen': 2328, 'li': 3684, 'afgan': 126, 'vesaire': 6508, 'hepsi': 2650, 'cebinde': 1062, 'dolarla': 1782, 'geliyor': 2329, 'simsarlara': 5677, 'yem': 6783, 'olup': 4422, 'paray': 4583, 'kaptirinca': 3316, 'almak': 246, 'zorunda': 6836, 'kalyor': 3304, 'senin': 5526, 'beenmediin': 700, 'ileri': 2855, 'bunlar': 980, 'yapyor': 6768, 'sonra': 5772, 'alm': 245, 'skoya': 5712, 'dt': 1827, 'sanki': 5417, 'tr': 6268, 'farkmz': 2087, 'muqbala': 4156, 'hogaye': 2716, 'dakuuu': 1481, 'chorrr': 1168, 'beghairtu': 709, 'tolainn': 6236, 'sabko': 5339, 'btana': 958, 'hogaab': 2714, 'baqa': 636, 'ghairat': 2355, 'sipasalaar': 5693, 'khamoush': 3406, 'num': 4370, 'seport': 5535, 'discrimination': 1736, 'monstly': 4077, 'inferiority': 2934, 'complex': 1279, 'nigeria': 4309, 'myanmar': 4184, 'belice': 719, 'liberiaes': 3690, 'que': 5013, 'madre': 3833, 'ma': 3807, 'gente': 2340, 'pasa': 4610, 'por': 4811, 'escuela': 1959, 'pero': 4691, 'ellos': 1894, 'tamam': 6038, 'idary': 2823, 'ghour': 2371, 'btaen': 957, 'sharm': 5599, 'krty': 3537, 'hmain': 2706, 'chezain': 1136, 'udar': 6369, 'boht': 870, 'duain': 1830, 'opponents': 4450, 'angle': 307, 'extremists': 2050, 'thwarting': 6204, 'fifth': 2142, 'column': 1240, 'ousted': 4492, 'performance': 4681, 'handlers': 2547, 'dua': 1828, 'zehra': 6825, 'poraane': 4813, 'light': 3700, 'zyada': 6840, 'jaane': 3124, 'showbazz': 5638, 'badsha': 558, 'mulaqat': 4142, 'itne': 3113, 'baray': 640, 'delgation': 1590, 'hasil': 2585, 'chool': 1158, 'rekhe': 5161, 'zakat': 6813, 'christusaid': 1173, 'maqboza': 3890, 'azadi': 517, 'forn': 2226, 'kerwae': 3385, 'jain': 3142, 'mutalba': 4179, 'knowthey': 3500, 'pledge': 4769, 'passing': 4623, 'kakulpakistan': 3301, 'chorr': 1166, 'khuddar': 3443, 'safaa': 5358, 'marwa': 3911, 'mouqaam': 4101, 'duaein': 1829, 'khandan': 3409, 'jaldi': 3151, 'safa': 5357, 'reputation': 5214, 'nephew': 4278, 'defacto': 1558, 'bilawal': 805, 'shaking': 5571, 'sagay': 5366, 'muhib': 4127, 'waqat': 6587, 'meaning': 3947, 'rakhta': 5060, 'jaan': 3123, 'saktay': 5386, 'si': 5647, 'los': 3775, 'amigos': 283, 'estn': 1971, 'apoyarme': 359, 'chistes': 1151, 'malos': 3865, 'entonces': 1943, 'confidentbrave': 1304, 'religiouscaring': 5178, 'intelligent': 3002, 'alhamdulillah': 225, 'ameen': 276, 'performs': 4683, 'assuming': 456, 'kisses': 3483, 'hajreaswad': 2518, 'bhikaari': 780, 'bnaaney': 860, 'hein': 2635, 'baar': 526, 'kuj': 3547, 'chorrein': 1167, 'maded': 3825, 'fermaye': 2135, 'chorain': 1164, 'batoo': 669, 'porana': 4814, 'koe': 3502, 'sochhhhhhh': 5748, 'bi': 792, 'sktaaa': 5713, 'jes': 3202, 'sedha': 5494, 'beg': 703, 'begging': 708, 'straight': 5883, 'buisness': 972, 'kartay': 3344, 'jesay': 3203, 'handful': 2544, 'judges': 3261, 'corrupted': 1372, 'piliticians': 4736, 'destiny': 1653, 'sazish': 5457, 'dajjali': 1474, 'niyazishab': 4323, 'qader': 4999, 'zarori': 6820, 'nhilanat': 4302, 'niyazi': 4322, 'admishetaan': 116, 'sey': 5555, 'kehalwarahalanat': 3373, 'agay': 150, 'dakhain': 1476, 'watani': 6605, 'europe': 1980, 'settle': 5547, 'honi': 2735, 'besharam': 743, 'ourat': 4490, 'tmhary': 6224, 'bhagory': 764, 'buchy': 961, 'aj': 202, 'lyny': 3806, 'aty': 482, 'mout': 4102, 'parti': 4597, 'comes': 1249, 'bury': 989, 'unlike': 6432, 'accompany': 68, 'mothers': 4097, 'khao': 3411, 'toa': 6226, 'aesi': 123, 'olaad': 4417, 'performed': 4682, 'betterment': 756, 'martial': 3907, 'dollar': 1783, 'morakh': 4083, 'lekhay': 3663, 'naslay': 4229, 'gii': 2386, 'ankar': 314, 'daku': 1480, 'masalat': 3914, 'tow': 6264, 'marday': 3894, 'bachanay': 537, 'bohat': 868, 'haq': 2558, 'leya': 3681, 'batel': 666, 'shakist': 5572, 'bases': 656, 'crossing': 1436, 'searching': 5477, 'difficult': 1706, 'polarization': 4794, 'harming': 2578, 'pakistaniat': 4549, 'ethnical': 1976, 'linguistic': 3717, 'yakeen': 6763, 'khula': 3444, 'pohnchane': 4790, 'karigar': 3332, 'jald': 3150, 'anjam': 313, 'pohnchain': 4789, 'intezar': 3020, 'vast': 6494, 'extremely': 2047, 'dakhiyay': 1478, 'hongayallah': 2733, 'karam': 3320, 'dobara': 1771, 'ain': 188, 'waisay': 6564, 'hud': 2776, 'hybasharmi': 2806, 'kiap': 3454, 'py': 4993, 'kren': 3526, 'mazak': 3942, 'worlld': 6725, 'tehriketaliban': 6083, 'releases': 5171, 'announcement': 321, 'esp': 1961, 'kp': 3520, 'celebrate': 1063, 'munafqeen': 4152, 'makka': 3856, 'brand': 924, 'thinks': 6174, 'malignant': 3862, 'sincere': 5679, 'riba': 5268, 'buckle': 962, 'membership': 3965, 'exiting': 2013, 'emirate': 1904, 'nahn': 4204, 'rehti': 5153, 'sahib': 5372, 'zaadi': 6809, 'kui': 3546, 'aisi': 200, 'majburi': 3848, 'apko': 350, 'bayan': 676, 'karnay': 3335, 'rok': 5294, 'rahi': 5044, 'tareekh': 6053, 'parhi': 4586, 'kab': 3284, 'kirdaar': 3476, 'adda': 111, 'meri': 3982, 'maazrat': 3815, 'link': 3718, 'economy': 1861, 'epidemic': 1947, 'corona': 1366, 'survive': 5970, 'noconfidence': 4328, 'motion': 4098, 'sinking': 5691, 'bankruptcy': 628, 'imminent': 2872, 'cloud': 1216, 'cuckoo': 1446, 'fishermen': 2173, 'complaint': 1275, 'navy': 4241, 'gujarati': 2468, 'filed': 2150, 'jooty': 3251, 'charsi': 1122, 'isril': 3103, 'jha': 3209, 'rehy': 5156, 'sweeper': 5979, 'drycleaner': 1824, 'hair': 2511, 'dressers': 1811, 'jazbaat': 3190, 'sachay': 5344, 'awaam': 496, 'chain': 1086, 'unfortunate': 6409, 'sideeffects': 5653, 'musharraf': 4173, 'delusional': 1598, 'beatification': 687, 'intellectual': 2999, 'circles': 1186, 'unnecessary': 6434, 'contrary': 1345, 'beyond': 761, 'polite': 4800, 'limitation': 3711, 'paindabad': 4526, 'ion': 3045, 'torne': 6254, 'haraamkhor': 2566, 'badqismati': 557, 'bull': 974, 'moulvi': 4100, 'dakosla': 1479, 'bilkulpakistan': 807, 'muntahib': 4154, 'maar': 3811, 'bhej': 777, 'gyaapuraa': 2488, 'sarko': 5431, 'hairaat': 2512, 'courts': 1394, 'faislay': 2069, 'pasand': 4612, 'liyekoi': 3733, 'kray': 3525, 'chup': 1177, 'ouster': 4493, 'possibility': 4821, 'mongering': 4074, 'pieces': 4732, 'paglon': 4519, 'ghundon': 2377, 'drunk': 1822, 'accetenly': 63, 'boy': 912, 'yell': 6782, 'internet': 3017, 'almost': 248, 'peeps': 4661, 'useless': 6464, 'feeled': 2124, 'magazine': 3835, 'material': 3932, 'depends': 1624, 'fl': 2178, 'challo': 1099, 'leh': 3660, 'dakhao': 1477, 'uthe': 6479, 'haigi': 2505, 'bolan': 874, 'priority': 4879, 'defending': 1568, 'bz': 1004, 'engineering': 1926, 'uncle': 6398, 'securing': 5492, 'owen': 4506, 'follow': 2196, 'cs': 1444, 'ys': 6807, 'palha': 4567, 'jasa': 3175, 'rahya': 5048, 'sub': 5908, 'mission': 4043, 'rook': 5301, 'sakta': 5385, 'sunami': 5938, 'smaller': 5729, 'gatherings': 2311, 'folk': 2194, 'abd': 25, 'ile': 2854, 'srail': 5830, 'sarabistanbaemsr': 5424, 'iine': 2849, 'alan': 217, 'bir': 813, 'konsorsiyumla': 3512, 'ortadouda': 4476, 'arap': 381, 'gibi': 2382, 'yeni': 6785, 'oyunun': 4511, 'peine': 4667, 'dm': 1767, 'grnyor': 2450, 'kresel': 3527, 'sistemin': 5700, 'iinde': 2848, 'olacamz': 4418, 'belirtmitik': 723, 'pln': 4772, 'dahilindetrkiyeye': 1468, 'lider': 3693, 'rol': 5297, 'verildii': 6505, 'anlalyor': 316, 'babar': 531, 'appka': 366, 'qabool': 4995, 'faryme': 2090, 'pray': 4849, 'actual': 105, 'freedoms': 2242, 'pretexts': 4867, 'invade': 3027, 'weak': 6625, 'plunder': 4777, 'health': 2623, 'facilities': 2059, 'cares': 1035, 'barrel': 652, 'manufactured': 3885, 'industry': 2932, 'bless': 839, 'conduct': 1299, 'assembly': 446, 'dissolve': 1751, 'commissioner': 1261, 'duties': 1843, 'menopause': 3970, 'age': 152, 'average': 493, 'logic': 3752, 'blind': 843, 'iqtidaar': 3051, 'dharne': 1685, 'credit': 1418, 'leta': 3674, 'ghanta': 2360, 'banigala': 626, 'bhag': 763, 'dharna': 1684, 'choor': 1159, 'musalat': 4168, 'sharminda': 5600, 'aee': 122, 'wattan': 6611, 'saved': 5447, 'pakistanthanx': 4555, 'wakt': 6571, 'qoum': 5009, 'bta': 956, 'khar': 3412, 'dil': 1710, 'tasli': 6063, 'achi': 83, 'galib': 2292, 'qaym': 5006, 'rakha': 5057, 'inha': 2949, 'ajya': 203, 'boomers': 893, 'miscalculation': 4032, 'loot': 3769, 'karny': 3337, 'agayi': 151, 'besharmo': 744, 'favours': 2110, 'dynastic': 1848, 'practices': 4843, 'elections': 1885, 'hahahah': 2503, 'fitne': 2175, 'bs': 954, 'jese': 3204, 'firma': 2170, 'parston': 4595, 'pani': 4571, 'businessman': 992, 'baatein': 528, 'pastt': 4628, 'kerte': 3383, 'sabar': 5337, 'khalaf': 3399, 'janat': 3162, 'nuqsan': 4374, 'yar': 6770, 'ghadar': 2352, 'qabzi': 4998, 'daik': 1470, 'rakna': 5061, 'wu': 6749, 'dourr': 1799, 'jub': 3259, 'abparaa': 44, 'akarrr': 209, 'qabzaa': 4997, 'krlegy': 3528, 'jaisy': 3148, 'samraj': 5405, 'ghulam': 2373, 'tatoon': 6065, 'ju': 3258, 'retired': 5248, 'bagh': 561, 'jaty': 3180, 'unka': 6425, 'italy': 3111, 'aake': 9, 'lage': 3577, 'sapney': 5420, 'mat': 3931, 'beating': 688, 'arrestedhe': 411, 'conspiracyhe': 1328, 'indiaampyahoodithey': 2917, 'economycreating': 1862, 'pakistandont': 4545, 'khurram': 3447, 'joins': 3243, 'cbdc': 1058, 'blockchain': 847, 'looming': 3767, 'alternative': 261, 'internationally': 3016, 'bowing': 911, 'karoge': 3341, 'atey': 461, 'bykelimiz': 1001, 'sn': 5738, 'syrus': 5996, 'sajjad': 5379, 'qazi': 5007, 'bugn': 967, 'hdaparn': 2617, 'kuds': 3544, 'sanal': 5407, 'konferansna': 3509, 'katld': 3362, 'kudste': 3545, 'filistinde': 2152, 'altnda': 263, 'ac': 58, 'eken': 1880, 'kardelerimiz': 3326, 'iin': 2847, 'nemli': 4276, 'destek': 1652, 'bhodsrii': 783, 'london': 3759, 'betha': 750, 'huwa': 2802, 'bol': 872, 'saii': 5377, 'aisy': 201, 'ghoom': 2370, 'dikhaye': 1709, 'dhabi': 1680, 'sheikh': 5609, 'mohamed': 4060, 'zayed': 6822, 'alnahyan': 251, 'receives': 5112, 'alshati': 258, 'detested': 1666, 'revised': 5258, 'yahya': 6761, 'ayad': 508, 'genius': 2336, 'iq': 3048, 'bb': 679, 'complet': 1276, 'com': 1242, 'veza': 6509, 'iqama': 3049, 'finshed': 2163, 'finel': 2160, 'exet': 2007, 'ame': 275, 'transfer': 6287, 'fauj': 2105, 'ihtrampyar': 2845, 'ager': 161, 'rashid': 5080, 'minhas': 4026, 'ghaddar': 2354, 'instructor': 2986, 'formulay': 2225, 'janchta': 3163, 'tarha': 6061, 'likhi': 3706, 'jati': 3179, 'evaluated': 1982, 'signatures': 5663, 'hissa': 2698, 'haintum': 2508, 'wadda': 6558, 'tarekhdan': 6055, 'haan': 2493, 'akhand': 211, 'rahega': 5043, 'bola': 873, 'repeating': 5197, 'ghisa': 2369, 'pita': 4744, 'tape': 6045, 'recorder': 5122, 'naya': 4248, 'bkcd': 817, 'laya': 3625, 'market': 3899, 'kohli': 3503, 'hits': 2703, 'bangalore': 618, 'highflying': 2673, 'visits': 6540, 'bilateral': 804, 'ranking': 5073, 'argentina': 386, 'turkey': 6345, 'brazil': 928, 'ditch': 1760, 'ledder': 3652, 'posted': 4824, 'garmi': 2309, 'sozo': 5792, 'water': 6610, 'park': 4589, 'ayein': 512, 'thanday': 6131, 'jayein': 3189, 'tez': 6126, 'bullet': 975, 'drop': 1817, 'slide': 5726, 'tokyojapan': 6234, 'hong': 2731, 'kongchina': 3510, 'bangkokthailand': 619, 'islamabadpakistan': 3081, 'maggi': 3837, 'khtam': 3439, 'lawmaker': 3622, 'stresses': 5890, 'importance': 2878, 'sustainable': 5977, 'hilalepakistan': 2678, 'beggars': 707, 'choosers': 1162, 'ashamed': 428, 'shameful': 5576, 'sue': 5925, 'sane': 5415, 'platforms': 4761, 'anarchy': 299, 'bloody': 853, 'revolution': 5259, 'fk': 2177, 'walk': 6576, 'mera': 3976, 'hamare': 2528, 'poster': 4825, 'irreparable': 3056, 'limit': 3710, 'madness': 3827, 'buhat': 968, 'sukarya': 5934, 'sistar': 5699, 'sada': 5350, 'khus': 3448, 'min': 4019, 'ledar': 3651, 'lily': 3708, 'hazar': 2611, 'addictivespecially': 112, 'epidsode': 1948, 'chanting': 1115, 'thiefthief': 6165, 'medina': 3953, 'tohfay': 6233, 'mile': 4006, 'haen': 2497, 'chini': 1148, 'atm': 465, 'hamzas': 2539, 'godi': 2406, 'andaza': 302, 'mazhab': 3943, 'jalta': 3152, 'wohi': 6702, 'lagata': 3576, 'blunder': 857, 'mehenga': 3958, 'parega': 4585, 'woh': 6701, 'jisny': 3229, 'dunya': 1835, 'islamophobia': 3088, 'awaz': 504, 'uthae': 6476, 'obviously': 4387, 'dushmani': 1842, 'natural': 4240, 'beauty': 691, 'amazing': 270, 'repressive': 5210, 'obstacles': 4386, 'tourism': 6263, 'puray': 4977, 'kudh': 3543, 'kitni': 3487, 'taur': 6066, 'phor': 4717, 'goli': 2412, 'kaisay': 3300, 'chal': 1093, 'marna': 3901, 'hazaroo': 2615, 'tank': 6043, 'charhata': 1121, 'damgh': 1490, 'nahe': 4201, 'bhipray': 782, 'jaao': 3125, 'saal': 5333, 'zuhaib': 6837, 'telecommunications': 6085, 'assistant': 451, 'professor': 4897, 'cui': 1447, 'attock': 481, 'aiml': 186, 'wireless': 6688, 'mimo': 4018, 'data': 1510, 'science': 5471, 'paisa': 4529, 'kha': 3394, 'saken': 5383, 'aspects': 439, 'snc': 5740, 'idiotizing': 2832, 'streets': 5886, 'yamaha': 6766, 'bikes': 802, 'startuppakistan': 5851, 'paktbah': 4561, 'traqi': 6292, 'rah': 5038, 'chaltr': 1102, 'ayezaleel': 513, 'akinci': 213, 'targets': 6059, 'receive': 5111, 'uav': 6367, 'azerbaijan': 520, 'buyers': 998, 'paindabaad': 4525, 'cfcm': 1078, 'annonce': 319, 'limpossibilit': 3715, 'voir': 6546, 'nouvelle': 4354, 'lune': 3801, 'dans': 1498, 'monde': 4069, 'mali': 3860, 'niger': 4308, 'lafghanistan': 3572, 'et': 1972, 'ont': 4435, 'aperu': 349, 'je': 3194, 'gombran': 2413, 'ba': 522, 'dream': 1808, 'nowadays': 4357, 'gujranwala': 2469, 'scaled': 5462, 'strengthened': 5888, 'expanded': 2017, 'merged': 3981, 'ambulances': 272, 'wide': 6675, 'ambulatory': 273, 'service': 5543, 'integration': 2996, 'rural': 5327, 'deliveries': 1597, 'tehsil': 6084, 'expansion': 2018, 'hummein': 2793, 'bukhari': 973, 'seiy': 5506, 'milaien': 4005, 'sarey': 5429, 'kou': 3518, 'hammarey': 2535, 'oppar': 4449, 'bitha': 814, 'pouch': 4828, 'sakteykamal': 5388, 'hamarey': 2529, 'bachoun': 542, 'hamra': 2537, 'naa': 4189, 'karien': 3331, 'stripped': 5893, 'knees': 3494, 'rating': 5084, 'outlook': 4498, 'negative': 4264, 'tenure': 6092, 'challenge': 1098, 'fx': 2276, 'reserve': 5220, 'devalued': 1668, 'pkr': 4746, 'improved': 2886, 'remittances': 5185, 'fdi': 2119, 'consistent': 1323, 'lucky': 3799, 'thankful': 6133, 'educatedsocial': 1865, 'users': 6465, 'penalised': 4673, 'booze': 896, 'feeling': 2125, 'abroad': 46, 'laugh': 3616, 'reject': 5160, 'application': 367, 'conviction': 1358, 'supper': 5947, 'mubarak': 4122, 'largest': 3605, 'fascists': 2096, 'skipper': 5710, 'gotten': 2423, 'fights': 2148, 'range': 5070, 'neighbour': 4272, 'estate': 1970, 'emotional': 1905, 'feelings': 2126, 'maligned': 3863, 'corruptionand': 1374, 'sufferd': 5927, 'limited': 3712, 'income': 2905, 'educate': 1863, 'powerful': 4831, 'youthia': 6803, 'gill': 2388, 'citizenship': 1191, 'jlayeusa': 3233, 'laye': 3628, 'gye': 2490, 'sary': 5435, 'advisors': 120, 'english': 1928, 'lokhni': 3755, 'agyi': 174, 'mgar': 3993, 'akal': 207, 'nam': 4211, 'chez': 1135, 'truck': 6317, 'batti': 672, 'pechy': 4657, 'lagy': 3580, 'rho': 5267, 'psycho': 4952, 'maqbosa': 3889, 'khasmir': 3414, 'phalstine': 4706, 'parcham': 4584, 'maza': 3941, 'sircocane': 5697, 'saray': 5428, 'bhair': 769, 'select': 5510, 'shore': 5631, 'machay': 3816, 'bht': 789, 'pakisani': 4539, 'likho': 3707, 'chalakiyan': 1095, 'chalene': 1096, 'zullen': 6838, 'ze': 6823, 'diep': 1699, 'onder': 4427, 'indruk': 2930, 'zijn': 6829, 'boze': 914, 'wopke': 6710, 'cuts': 1459, 'noon': 4335, 'league': 3638, 'realising': 5102, 'rubber': 5314, 'anybody': 340, 'shape': 5582, 'desire': 1646, 'thankyou': 6136, 'inviting': 3040, 'alass': 219, 'curse': 1457, 'muklis': 4140, 'smjty': 5735, 'skty': 5714, 'topic': 6251, 'hybrid': 2807, 'faschism': 2092, 'housing': 2757, 'societies': 5750, 'limitless': 3713, 'overshadow': 4504, 'thm': 6178, 'thiswho': 6177, 'blakalbhushan': 826, 'yadev': 6756, 'rishta': 5281, 'thahar': 6129, 'peechhe': 4660, 'ladakh': 3569, 'pichhwara': 4726, 'dikhate': 1708, 'akar': 208, 'nuetral': 4366, 'planet': 4752, 'inka': 2957, 'frontend': 2257, 'developer': 1670, 'fineart': 2159, 'artist': 419, 'passionate': 4625, 'passion': 4624, 'contributing': 1347, 'tech': 6080, 'contribute': 1346, 'web': 6633, 'gulf': 2473, 'published': 4959, 'status': 5866, 'reflection': 5132, 'nipal': 4321, 'sikho': 5668, 'batne': 668, 'banane': 612, 'pura': 4974, 'mood': 4080, 'sacrificed': 5347, 'analyse': 298, 'differently': 1705, 'harassing': 2569, 'messaging': 3988, 'descendent': 1635, 'worshipper': 6731, 'tukjo': 6333, 'hoo': 2737, 'kuttay': 3554, 'jaffar': 3134, 'badnam': 556, 'likh': 3705, 'lou': 3788, 'mero': 3984, 'mohammed': 4061, 'relating': 5163, 'increasing': 2909, 'opportunities': 4451, 'manpower': 3883, 'discussion': 1739, 'crack': 1408, 'shock': 5626, 'wave': 6612, 'rumble': 5321, 'crumble': 1440, 'dyn': 1847, 'gaayy': 2279, 'daliya': 1485, 'beaurocracy': 689, 'hram': 2766, 'hyn': 2808, 'kysy': 3561, 'burdasht': 982, 'keryn': 3386, 'accompanied': 67, 'key': 3389, 'kabay': 3285, 'mangi': 3875, 'barbad': 641, 'karde': 3324, 'barbadi': 642, 'hisa': 2696, 'dala': 1483, 'geopolitics': 2343, 'shaped': 5583, 'instrumentality': 2987, 'empirespresent': 1907, 'products': 4895, 'colonialism': 1236, 'syria': 5995, 'examples': 2000, 'contemporary': 1339, 'invasions': 3032, 'uff': 6370, 'gitmi': 2391, 'istemeye': 3109, 'belli': 724, 'deilmi': 1581, 'kimin': 3471, 'sarlaca': 5432, 'shib': 5617, 'belgium': 718, 'villa': 6521, 'scared': 5463, 'acutely': 107, 'looking': 3765, 'cap': 1028, 'ru': 5313, 'notoriously': 4353, 'loose': 3768, 'cannon': 1025, 'nutters': 4379, 'pimps': 4738, 'dalal': 1484, 'daughyers': 1515, 'wifes': 6677, 'respectfully': 5230, 'yours': 6798, 'supream': 5959, 'announces': 322, 'celebration': 1066, 'st': 5835, 'basically': 659, 'aimed': 185, 'departmental': 1623, 'havent': 2602, 'dividends': 1765, 'resource': 5226, 'tlps': 6220, 'prophet': 4922, 'blessings': 841, 'foremost': 2217, 'niazi': 4304, 'whoever': 6667, 'dealt': 1531, 'iron': 3055, 'fist': 2174, 'zafar': 6810, 'hilali': 2679, 'assessment': 448, 'book': 892, 'title': 6217, 'pukhtoon': 4960, 'walls': 6577, 'boundary': 908, 'lols': 3758, 'detailed': 1660, 'counsel': 1379, 'hatched': 2589, 'sh': 5556, 'file': 2149, 'defamation': 1559, 'globe': 2399, 'murtadeen': 4166, 'alshbab': 259, 'turkistani': 6347, 'daeshis': 1467, 'murtad': 4165, 'jaahil': 3122, 'innes': 2962, 'bigaran': 799, 'ijaz': 2851, 'ahmad': 176, 'dark': 1503, 'thumne': 6201, 'chisquare': 1149, 'fitting': 2176, 'chisquarendf': 1150, 'ndf': 4254, 'traditional': 6275, 'low': 3794, 'nleague': 4324, 'politically': 4802, 'disappoint': 1730, 'fanatical': 2083, 'mindsets': 4024, 'separated': 5532, 'thin': 6169, 'adliya': 114, 'hegood': 2634, 'moodi': 4081, 'rafael': 5037, 'tiyare': 6218, 'qeemat': 5008, 'bajwachep': 580, 'loto': 3785, 'mana': 3869, 'assalamoallaikum': 442, 'taqi': 6047, 'molana': 4065, 'rotten': 5305, 'frivolous': 2253, 'yea': 6775, 'mayor': 3940, 'paris': 4587, 'forum': 2229, 'representing': 5209, 'pakistanwe': 4556, 'difah': 1700, 'liayay': 3687, 'chukay': 1174, 'hongay': 2732, 'sabit': 5338, 'deya': 1678, 'hsi': 2769, 'allam': 232, 'kud': 3542, 'mukhtari': 4138, 'amreca': 294, 'gilgitbaltistan': 2387, 'kin': 3472, 'keh': 3372, 'rahay': 5041, 'opn': 4448, 'jang': 3166, 'nuqsaan': 4373, 'srf': 5832, 'institutes': 2982}\n"
     ]
    }
   ],
   "source": [
    "vectorizer=CountVectorizer()\n",
    "trainX=vectorizer.fit_transform(X)\n",
    "print('Features Corpus and Its occurrance')\n",
    "print(vectorizer.vocabulary_)"
   ]
  },
  {
   "cell_type": "markdown",
   "metadata": {},
   "source": [
    "# Testing Data "
   ]
  },
  {
   "cell_type": "code",
   "execution_count": null,
   "metadata": {},
   "outputs": [],
   "source": [
    "test_data=pd.read_csv('testingdata.csv')\n",
    "test_data=test_data.dropna()\n",
    "X_test=vectorizer.transform(test_data['tweet'])\n",
    "Y_test=test_data['label']"
   ]
  },
  {
   "cell_type": "markdown",
   "metadata": {},
   "source": [
    "# Model Classfier SVM"
   ]
  },
  {
   "cell_type": "code",
   "execution_count": null,
   "metadata": {},
   "outputs": [],
   "source": [
    "model=SVC(kernel='linear')\n",
    "model.fit(trainX,trainY)\n",
    "\n",
    "pred=model.predict(X_test)\n",
    "\n",
    "print('Confusion Matrix of SVM:\\n')\n",
    "cm = confusion_matrix(Y_test, pred, labels=model.classes_)\n",
    "disp = ConfusionMatrixDisplay(confusion_matrix=cm,display_labels=model.classes_)\n",
    "\n",
    "disp.plot()\n",
    "plt.show()\n",
    "\n",
    "\n",
    "\n",
    "print('Accurracy of SVM classifier:',100 *accuracy_score(pred,Y_test),'%\\n')\n",
    "print('SVM classification report:\\n',classification_report(pred,Y_test))"
   ]
  },
  {
   "cell_type": "markdown",
   "metadata": {},
   "source": [
    "# Model Classifier Logistic Regression"
   ]
  },
  {
   "cell_type": "code",
   "execution_count": null,
   "metadata": {},
   "outputs": [],
   "source": [
    "lg=LogisticRegression()\n",
    "lg.fit(trainX,trainY)\n",
    "predlg=lg.predict(X_test)\n",
    "\n",
    "print('Confusion Matrix of Logistic Regression:\\n')\n",
    "cmlg = confusion_matrix(Y_test, predlg, labels=lg.classes_)\n",
    "disp = ConfusionMatrixDisplay(confusion_matrix=cmlg,display_labels=lg.classes_)\n",
    "\n",
    "disp.plot()\n",
    "plt.show()\n",
    "\n",
    "\n",
    "\n",
    "print('Accurracy of Logistic Regression classifier:',100 *accuracy_score(predlg,Y_test),'%\\n')\n",
    "print('Logistic Regression classification report:\\n',classification_report(predlg,Y_test))"
   ]
  },
  {
   "cell_type": "markdown",
   "metadata": {},
   "source": [
    "# Model Classifier RandomForest"
   ]
  },
  {
   "cell_type": "code",
   "execution_count": null,
   "metadata": {},
   "outputs": [],
   "source": [
    "randomforest=RandomForestClassifier()\n",
    "randomforest.fit(trainX,trainY)\n",
    "predrandomF=randomforest.predict(X_test)\n",
    "\n",
    "print('Confusion Matrix of Random Forest:\\n')\n",
    "cmrf = confusion_matrix(Y_test, predrandomF, labels=randomforest.classes_)\n",
    "disp = ConfusionMatrixDisplay(confusion_matrix=cmrf,display_labels=randomforest.classes_)\n",
    "\n",
    "disp.plot()\n",
    "plt.show()\n",
    "\n",
    "\n",
    "\n",
    "print('Accurracy of Random Forestclassifier:',100 *accuracy_score(predrandomF,Y_test),'%\\n')\n",
    "print('Random Forest classification report:\\n',classification_report(predrandomF,Y_test))"
   ]
  },
  {
   "cell_type": "markdown",
   "metadata": {},
   "source": [
    "# Model Classifier KNN"
   ]
  },
  {
   "cell_type": "code",
   "execution_count": null,
   "metadata": {},
   "outputs": [],
   "source": [
    "KNN=KNeighborsClassifier()\n",
    "KNN.fit(trainX,trainY)\n",
    "predknn=KNN.predict(X_test)\n",
    "\n",
    "print('Confusion Matrix of KNN:\\n')\n",
    "cmknn = confusion_matrix(Y_test, predknn, labels=KNN.classes_)\n",
    "disp = ConfusionMatrixDisplay(confusion_matrix=cmknn,display_labels=KNN.classes_)\n",
    "\n",
    "disp.plot()\n",
    "plt.show()\n",
    "\n",
    "\n",
    "\n",
    "print('Accurracy of KNN:',100 *accuracy_score(predknn,Y_test),'%\\n')\n",
    "print('KNN classification report:\\n',classification_report(predknn,Y_test))"
   ]
  },
  {
   "cell_type": "markdown",
   "metadata": {},
   "source": [
    "# For Model Creation we selected RandomForest Classifier"
   ]
  },
  {
   "cell_type": "code",
   "execution_count": null,
   "metadata": {},
   "outputs": [],
   "source": [
    "pipe=Pipeline([\n",
    "    ('vectorizer',CountVectorizer()),\n",
    "    ('trnasformer',TfidfTransformer()),\n",
    "    ('model' , RandomForestClassifier())\n",
    "    \n",
    "]) "
   ]
  },
  {
   "cell_type": "code",
   "execution_count": null,
   "metadata": {},
   "outputs": [],
   "source": [
    "pipe.fit(X,trainY)"
   ]
  },
  {
   "cell_type": "markdown",
   "metadata": {},
   "source": [
    "# Evaluate Pipeline on Test data "
   ]
  },
  {
   "cell_type": "code",
   "execution_count": null,
   "metadata": {},
   "outputs": [],
   "source": [
    "predp=pipe.predict(test_data['tweet'])\n",
    "\n",
    "print('Confusion Matrix of pipeline model:\\n')\n",
    "cmp = confusion_matrix(Y_test, predp, labels=pipe.classes_)\n",
    "disp = ConfusionMatrixDisplay(confusion_matrix=cmp,display_labels=pipe.classes_)\n",
    "\n",
    "disp.plot()\n",
    "plt.show()\n",
    "\n",
    "\n",
    "\n",
    "print('Accurracy of pipeline:',100 *accuracy_score(predp,Y_test),'%\\n')\n",
    "print('Pipeline classification report:\\n',classification_report(predp,Y_test))"
   ]
  },
  {
   "cell_type": "markdown",
   "metadata": {},
   "source": [
    "# Saving Pipeline"
   ]
  },
  {
   "cell_type": "code",
   "execution_count": null,
   "metadata": {},
   "outputs": [],
   "source": [
    "pickle.dump(pipe,open('model.pkl','wb'))\n",
    "# loading and checking if our saved model works\n",
    "RandomForest=pickle.load(open('model.pkl','rb'))\n",
    "preds=RandomForest.predict(test_data['tweet'])\n",
    "accuracy_score(preds,Y_test)\n",
    "#same accuracy as pipeline ,yes our model is working"
   ]
  },
  {
   "cell_type": "markdown",
   "metadata": {},
   "source": [
    "# Predicting Label for Test data"
   ]
  },
  {
   "cell_type": "code",
   "execution_count": null,
   "metadata": {},
   "outputs": [],
   "source": [
    "result={}\n",
    "for i,j in zip(test_data['tweet'][:],preds):\n",
    "    if j==0.0:\n",
    "        result[i]='Not anti State'\n",
    "    else:\n",
    "        result[i]='Anit State'\n",
    "        \n",
    "with open('Test_label_result.csv', 'w') as f:\n",
    "    for key in result.keys():\n",
    "        f.write(\"%s,%s\\n\"%(key,result[key]))\n",
    "print('Saved file')"
   ]
  },
  {
   "cell_type": "code",
   "execution_count": null,
   "metadata": {},
   "outputs": [],
   "source": [
    "result"
   ]
  },
  {
   "cell_type": "code",
   "execution_count": null,
   "metadata": {},
   "outputs": [],
   "source": []
  },
  {
   "cell_type": "code",
   "execution_count": null,
   "metadata": {},
   "outputs": [],
   "source": []
  },
  {
   "cell_type": "code",
   "execution_count": null,
   "metadata": {},
   "outputs": [],
   "source": []
  },
  {
   "cell_type": "code",
   "execution_count": null,
   "metadata": {},
   "outputs": [],
   "source": []
  },
  {
   "cell_type": "code",
   "execution_count": null,
   "metadata": {},
   "outputs": [],
   "source": []
  }
 ],
 "metadata": {
  "kernelspec": {
   "display_name": "Python 3 (ipykernel)",
   "language": "python",
   "name": "python3"
  },
  "language_info": {
   "codemirror_mode": {
    "name": "ipython",
    "version": 3
   },
   "file_extension": ".py",
   "mimetype": "text/x-python",
   "name": "python",
   "nbconvert_exporter": "python",
   "pygments_lexer": "ipython3",
   "version": "3.10.4"
  }
 },
 "nbformat": 4,
 "nbformat_minor": 4
}
