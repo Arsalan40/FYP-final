{
 "cells": [
  {
   "cell_type": "code",
   "execution_count": null,
   "metadata": {},
   "outputs": [],
   "source": [
    "# Importing required Python Libraries \n",
    "\n",
    "import pandas as pd\n",
    "import seaborn as sns\n",
    "import csv\n",
    "import re\n",
    "import string\n",
    "from sklearn.metrics import accuracy_score , classification_report\n",
    "from sklearn.linear_model import LogisticRegression\n",
    "from sklearn.ensemble import RandomForestClassifier\n",
    "from sklearn.neighbors import KNeighborsClassifier\n",
    "from sklearn.pipeline import Pipeline\n",
    "from sklearn.feature_extraction.text import TfidfTransformer , CountVectorizer\n",
    "import pickle\n",
    "import matplotlib.pyplot as plt \n",
    "from sklearn.metrics import confusion_matrix,ConfusionMatrixDisplay\n",
    "from sklearn.svm import SVC"
   ]
  },
  {
   "cell_type": "markdown",
   "metadata": {},
   "source": [
    "# Reading Training Data"
   ]
  },
  {
   "cell_type": "code",
   "execution_count": null,
   "metadata": {},
   "outputs": [],
   "source": [
    "data=pd.read_csv('train data.csv') "
   ]
  },
  {
   "cell_type": "code",
   "execution_count": null,
   "metadata": {},
   "outputs": [],
   "source": [
    "print('Training Dataset Structure\\n',data)"
   ]
  },
  {
   "cell_type": "markdown",
   "metadata": {},
   "source": [
    "# Dataset Information "
   ]
  },
  {
   "cell_type": "code",
   "execution_count": null,
   "metadata": {},
   "outputs": [],
   "source": [
    "print('Information about Training Dataset',data.info())"
   ]
  },
  {
   "cell_type": "markdown",
   "metadata": {},
   "source": [
    "# Checking for Missing Values in Dataset and Dropping Missing Value"
   ]
  },
  {
   "cell_type": "code",
   "execution_count": null,
   "metadata": {},
   "outputs": [],
   "source": [
    "print('Information about missing value in dataset',data.isna().value_counts())\n",
    "data=data.dropna()   \n",
    "print('Checking if all missed value are drop',data.isna().value_counts())\n"
   ]
  },
  {
   "cell_type": "markdown",
   "metadata": {},
   "source": [
    "# Counting Number of Anti-state(1) and Non-Anti-state(0) Label in Dataset"
   ]
  },
  {
   "cell_type": "code",
   "execution_count": null,
   "metadata": {},
   "outputs": [],
   "source": [
    "\n",
    "print(\" Number of Tweet for specific labels in dataset\",data['label'].value_counts())\n",
    "# 0 label for Non-Anti state and 1 for Anti-state\n",
    "sns.countplot(x=\"label\",hue =\"label\",data=data)"
   ]
  },
  {
   "cell_type": "markdown",
   "metadata": {},
   "source": [
    "# Removing Duplicate Rows from Dataset"
   ]
  },
  {
   "cell_type": "code",
   "execution_count": null,
   "metadata": {},
   "outputs": [],
   "source": [
    "print('Total Tweets in Dataset that are not duplicate:',(~data.duplicated()).sum())\n",
    "print('Total Tweets in Dataset that are duplicate:',(data.duplicated()).sum())\n"
   ]
  },
  {
   "cell_type": "code",
   "execution_count": null,
   "metadata": {},
   "outputs": [],
   "source": [
    "data=data.drop_duplicates()"
   ]
  },
  {
   "cell_type": "code",
   "execution_count": null,
   "metadata": {},
   "outputs": [],
   "source": [
    "print('Total Tweets in Dataset that are not duplicate after dropping:',(~data.duplicated()).sum())\n",
    "print('Total Tweets in Dataset that are duplicate after dropping:',(data.duplicated()).sum())\n"
   ]
  },
  {
   "cell_type": "markdown",
   "metadata": {},
   "source": [
    "# Removing Spaces from beginning of Tweets"
   ]
  },
  {
   "cell_type": "code",
   "execution_count": null,
   "metadata": {},
   "outputs": [],
   "source": [
    "data['tweet'].apply(lambda x:x.strip())"
   ]
  },
  {
   "cell_type": "markdown",
   "metadata": {},
   "source": [
    "# Removing Numbers and Punctuations if any from dataset "
   ]
  },
  {
   "cell_type": "code",
   "execution_count": null,
   "metadata": {},
   "outputs": [],
   "source": [
    " string.punctuation"
   ]
  },
  {
   "cell_type": "code",
   "execution_count": null,
   "metadata": {},
   "outputs": [],
   "source": [
    "def removeDigits(tweet):\n",
    "    tweet=tweet.strip()\n",
    "    tweet=[t for t in tweet if t not in string.digits]\n",
    "    tweet=''.join(tweet)\n",
    "    tweet=[t for t in tweet if t not in string.punctuation]\n",
    "    return ''.join(tweet)\n",
    "\n",
    "data['tweet']=data['tweet'].apply(removeDigits)"
   ]
  },
  {
   "cell_type": "markdown",
   "metadata": {},
   "source": [
    "# Dividing Training dataset into Tweet and Label"
   ]
  },
  {
   "cell_type": "code",
   "execution_count": null,
   "metadata": {},
   "outputs": [],
   "source": [
    "X=data['tweet']\n",
    "trainY=data['label']\n"
   ]
  },
  {
   "cell_type": "markdown",
   "metadata": {},
   "source": [
    "# Extracting Features from dataset as CountVectors "
   ]
  },
  {
   "cell_type": "code",
   "execution_count": null,
   "metadata": {},
   "outputs": [],
   "source": [
    "vectorizer=CountVectorizer()\n",
    "trainX=vectorizer.fit_transform(X)\n",
    "print('Features Corpus and Its occurrance')\n",
    "print(vectorizer.vocabulary_)"
   ]
  },
  {
   "cell_type": "markdown",
   "metadata": {},
   "source": [
    "# Testing Data "
   ]
  },
  {
   "cell_type": "code",
   "execution_count": null,
   "metadata": {},
   "outputs": [],
   "source": [
    "test_data=pd.read_csv('testingdata.csv')\n",
    "test_data=test_data.dropna()\n",
    "X_test=vectorizer.transform(test_data['tweet'])\n",
    "Y_test=test_data['label']"
   ]
  },
  {
   "cell_type": "markdown",
   "metadata": {},
   "source": [
    "# Model Classfier SVM"
   ]
  },
  {
   "cell_type": "code",
   "execution_count": null,
   "metadata": {},
   "outputs": [],
   "source": [
    "model=SVC(kernel='linear')\n",
    "model.fit(trainX,trainY)\n",
    "\n",
    "pred=model.predict(X_test)\n",
    "\n",
    "print('Confusion Matrix of SVM:\\n')\n",
    "cm = confusion_matrix(Y_test, pred, labels=model.classes_)\n",
    "disp = ConfusionMatrixDisplay(confusion_matrix=cm,display_labels=model.classes_)\n",
    "\n",
    "disp.plot()\n",
    "plt.show()\n",
    "\n",
    "\n",
    "\n",
    "print('Accurracy of SVM classifier:',100 *accuracy_score(pred,Y_test),'%\\n')\n",
    "print('SVM classification report:\\n',classification_report(pred,Y_test))"
   ]
  },
  {
   "cell_type": "markdown",
   "metadata": {},
   "source": [
    "# Model Classifier Logistic Regression"
   ]
  },
  {
   "cell_type": "code",
   "execution_count": null,
   "metadata": {},
   "outputs": [],
   "source": [
    "lg=LogisticRegression()\n",
    "lg.fit(trainX,trainY)\n",
    "predlg=lg.predict(X_test)\n",
    "\n",
    "print('Confusion Matrix of Logistic Regression:\\n')\n",
    "cmlg = confusion_matrix(Y_test, predlg, labels=lg.classes_)\n",
    "disp = ConfusionMatrixDisplay(confusion_matrix=cmlg,display_labels=lg.classes_)\n",
    "\n",
    "disp.plot()\n",
    "plt.show()\n",
    "\n",
    "\n",
    "\n",
    "print('Accurracy of Logistic Regression classifier:',100 *accuracy_score(predlg,Y_test),'%\\n')\n",
    "print('Logistic Regression classification report:\\n',classification_report(predlg,Y_test))"
   ]
  },
  {
   "cell_type": "markdown",
   "metadata": {},
   "source": [
    "# Model Classifier RandomForest"
   ]
  },
  {
   "cell_type": "code",
   "execution_count": null,
   "metadata": {},
   "outputs": [],
   "source": [
    "randomforest=RandomForestClassifier()\n",
    "randomforest.fit(trainX,trainY)\n",
    "predrandomF=randomforest.predict(X_test)\n",
    "\n",
    "print('Confusion Matrix of Random Forest:\\n')\n",
    "cmrf = confusion_matrix(Y_test, predrandomF, labels=randomforest.classes_)\n",
    "disp = ConfusionMatrixDisplay(confusion_matrix=cmrf,display_labels=randomforest.classes_)\n",
    "\n",
    "disp.plot()\n",
    "plt.show()\n",
    "\n",
    "\n",
    "\n",
    "print('Accurracy of Random Forestclassifier:',100 *accuracy_score(predrandomF,Y_test),'%\\n')\n",
    "print('Random Forest classification report:\\n',classification_report(predrandomF,Y_test))"
   ]
  },
  {
   "cell_type": "markdown",
   "metadata": {},
   "source": [
    "# Model Classifier KNN"
   ]
  },
  {
   "cell_type": "code",
   "execution_count": null,
   "metadata": {},
   "outputs": [],
   "source": [
    "KNN=KNeighborsClassifier()\n",
    "KNN.fit(trainX,trainY)\n",
    "predknn=KNN.predict(X_test)\n",
    "\n",
    "print('Confusion Matrix of KNN:\\n')\n",
    "cmknn = confusion_matrix(Y_test, predknn, labels=KNN.classes_)\n",
    "disp = ConfusionMatrixDisplay(confusion_matrix=cmknn,display_labels=KNN.classes_)\n",
    "\n",
    "disp.plot()\n",
    "plt.show()\n",
    "\n",
    "\n",
    "\n",
    "print('Accurracy of KNN:',100 *accuracy_score(predknn,Y_test),'%\\n')\n",
    "print('KNN classification report:\\n',classification_report(predknn,Y_test))"
   ]
  },
  {
   "cell_type": "markdown",
   "metadata": {},
   "source": [
    "# For Model Creation we selected RandomForest Classifier"
   ]
  },
  {
   "cell_type": "code",
   "execution_count": null,
   "metadata": {},
   "outputs": [],
   "source": [
    "pipe=Pipeline([\n",
    "    ('vectorizer',CountVectorizer()),\n",
    "    ('trnasformer',TfidfTransformer()),\n",
    "    ('model' , RandomForestClassifier())\n",
    "    \n",
    "]) "
   ]
  },
  {
   "cell_type": "code",
   "execution_count": null,
   "metadata": {},
   "outputs": [],
   "source": [
    "pipe.fit(X,trainY)"
   ]
  },
  {
   "cell_type": "markdown",
   "metadata": {},
   "source": [
    "# Evaluate Pipeline on Test data "
   ]
  },
  {
   "cell_type": "code",
   "execution_count": null,
   "metadata": {},
   "outputs": [],
   "source": [
    "predp=pipe.predict(test_data['tweet'])\n",
    "\n",
    "print('Confusion Matrix of pipeline model:\\n')\n",
    "cmp = confusion_matrix(Y_test, predp, labels=pipe.classes_)\n",
    "disp = ConfusionMatrixDisplay(confusion_matrix=cmp,display_labels=pipe.classes_)\n",
    "\n",
    "disp.plot()\n",
    "plt.show()\n",
    "\n",
    "\n",
    "\n",
    "print('Accurracy of pipeline:',100 *accuracy_score(predp,Y_test),'%\\n')\n",
    "print('Pipeline classification report:\\n',classification_report(predp,Y_test))"
   ]
  },
  {
   "cell_type": "markdown",
   "metadata": {},
   "source": [
    "# Saving Pipeline"
   ]
  },
  {
   "cell_type": "code",
   "execution_count": null,
   "metadata": {},
   "outputs": [],
   "source": [
    "pickle.dump(pipe,open('model.pkl','wb'))\n",
    "# loading and checking if our saved model works\n",
    "RandomForest=pickle.load(open('model.pkl','rb'))\n",
    "preds=RandomForest.predict(test_data['tweet'])\n",
    "accuracy_score(preds,Y_test)\n",
    "#same accuracy as pipeline ,yes our model is working"
   ]
  },
  {
   "cell_type": "markdown",
   "metadata": {},
   "source": [
    "# Predicting Label for Test data"
   ]
  },
  {
   "cell_type": "code",
   "execution_count": null,
   "metadata": {},
   "outputs": [],
   "source": [
    "result={}\n",
    "for i,j in zip(test_data['tweet'][:],preds):\n",
    "    if j==0.0:\n",
    "        result[i]='Not anti State'\n",
    "    else:\n",
    "        result[i]='Anit State'\n",
    "        \n",
    "with open('Test_label_result.csv', 'w') as f:\n",
    "    for key in result.keys():\n",
    "        f.write(\"%s,%s\\n\"%(key,result[key]))\n",
    "print('Saved file')"
   ]
  },
  {
   "cell_type": "code",
   "execution_count": null,
   "metadata": {},
   "outputs": [],
   "source": [
    "result"
   ]
  },
  {
   "cell_type": "code",
   "execution_count": null,
   "metadata": {},
   "outputs": [],
   "source": []
  },
  {
   "cell_type": "code",
   "execution_count": null,
   "metadata": {},
   "outputs": [],
   "source": []
  },
  {
   "cell_type": "code",
   "execution_count": null,
   "metadata": {},
   "outputs": [],
   "source": []
  },
  {
   "cell_type": "code",
   "execution_count": null,
   "metadata": {},
   "outputs": [],
   "source": []
  },
  {
   "cell_type": "code",
   "execution_count": null,
   "metadata": {},
   "outputs": [],
   "source": []
  }
 ],
 "metadata": {
  "kernelspec": {
   "display_name": "Python 3 (ipykernel)",
   "language": "python",
   "name": "python3"
  },
  "language_info": {
   "codemirror_mode": {
    "name": "ipython",
    "version": 3
   },
   "file_extension": ".py",
   "mimetype": "text/x-python",
   "name": "python",
   "nbconvert_exporter": "python",
   "pygments_lexer": "ipython3",
   "version": "3.10.4"
  }
 },
 "nbformat": 4,
 "nbformat_minor": 4
}
